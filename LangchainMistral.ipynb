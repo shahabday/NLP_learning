{
  "cells": [
    {
      "cell_type": "markdown",
      "metadata": {
        "id": "view-in-github",
        "colab_type": "text"
      },
      "source": [
        "<a href=\"https://colab.research.google.com/github/shahabday/NLP_learning/blob/main/LangchainMistral.ipynb\" target=\"_parent\"><img src=\"https://colab.research.google.com/assets/colab-badge.svg\" alt=\"Open In Colab\"/></a>"
      ]
    },
    {
      "cell_type": "markdown",
      "metadata": {
        "id": "4-d-abLEVi7e"
      },
      "source": [
        "# Introduction to LangChain\n",
        "\n",
        "- https://console.mistral.ai/\n",
        "- https://www.langchain.com/\n",
        "\n"
      ]
    },
    {
      "cell_type": "code",
      "execution_count": 1,
      "metadata": {
        "id": "tkjUUDWqMuMx"
      },
      "outputs": [],
      "source": [
        "# Get the API key here and add it to the secrets (left).\n",
        "from google.colab import userdata\n",
        "api_key = userdata.get(\"mistralapikey\")"
      ]
    },
    {
      "cell_type": "code",
      "execution_count": 2,
      "metadata": {
        "id": "FaIXwH0zQKj_",
        "outputId": "7292d151-2337-43c9-fc42-ac09fb8714e2",
        "colab": {
          "base_uri": "https://localhost:8080/"
        }
      },
      "outputs": [
        {
          "output_type": "stream",
          "name": "stdout",
          "text": [
            "Requirement already satisfied: langchain-core in /usr/local/lib/python3.11/dist-packages (0.3.35)\n",
            "Requirement already satisfied: langchain-mistralai in /usr/local/lib/python3.11/dist-packages (0.2.6)\n",
            "Requirement already satisfied: langchain-community in /usr/local/lib/python3.11/dist-packages (0.3.17)\n",
            "Requirement already satisfied: langchain-chroma in /usr/local/lib/python3.11/dist-packages (0.2.2)\n",
            "Requirement already satisfied: langsmith<0.4,>=0.1.125 in /usr/local/lib/python3.11/dist-packages (from langchain-core) (0.3.8)\n",
            "Requirement already satisfied: tenacity!=8.4.0,<10.0.0,>=8.1.0 in /usr/local/lib/python3.11/dist-packages (from langchain-core) (9.0.0)\n",
            "Requirement already satisfied: jsonpatch<2.0,>=1.33 in /usr/local/lib/python3.11/dist-packages (from langchain-core) (1.33)\n",
            "Requirement already satisfied: PyYAML>=5.3 in /usr/local/lib/python3.11/dist-packages (from langchain-core) (6.0.2)\n",
            "Requirement already satisfied: packaging<25,>=23.2 in /usr/local/lib/python3.11/dist-packages (from langchain-core) (24.2)\n",
            "Requirement already satisfied: typing-extensions>=4.7 in /usr/local/lib/python3.11/dist-packages (from langchain-core) (4.12.2)\n",
            "Requirement already satisfied: pydantic<3.0.0,>=2.5.2 in /usr/local/lib/python3.11/dist-packages (from langchain-core) (2.10.6)\n",
            "Requirement already satisfied: httpx<1,>=0.25.2 in /usr/local/lib/python3.11/dist-packages (from langchain-mistralai) (0.28.1)\n",
            "Requirement already satisfied: httpx-sse<1,>=0.3.1 in /usr/local/lib/python3.11/dist-packages (from langchain-mistralai) (0.4.0)\n",
            "Requirement already satisfied: tokenizers<1,>=0.15.1 in /usr/local/lib/python3.11/dist-packages (from langchain-mistralai) (0.21.0)\n",
            "Requirement already satisfied: langchain<1.0.0,>=0.3.18 in /usr/local/lib/python3.11/dist-packages (from langchain-community) (0.3.18)\n",
            "Requirement already satisfied: SQLAlchemy<3,>=1.4 in /usr/local/lib/python3.11/dist-packages (from langchain-community) (2.0.38)\n",
            "Requirement already satisfied: requests<3,>=2 in /usr/local/lib/python3.11/dist-packages (from langchain-community) (2.32.3)\n",
            "Requirement already satisfied: aiohttp<4.0.0,>=3.8.3 in /usr/local/lib/python3.11/dist-packages (from langchain-community) (3.11.12)\n",
            "Requirement already satisfied: dataclasses-json<0.7,>=0.5.7 in /usr/local/lib/python3.11/dist-packages (from langchain-community) (0.6.7)\n",
            "Requirement already satisfied: pydantic-settings<3.0.0,>=2.4.0 in /usr/local/lib/python3.11/dist-packages (from langchain-community) (2.7.1)\n",
            "Requirement already satisfied: numpy<2,>=1.26.4 in /usr/local/lib/python3.11/dist-packages (from langchain-community) (1.26.4)\n",
            "Requirement already satisfied: chromadb!=0.5.10,!=0.5.11,!=0.5.12,!=0.5.4,!=0.5.5,!=0.5.7,!=0.5.9,<0.7.0,>=0.4.0 in /usr/local/lib/python3.11/dist-packages (from langchain-chroma) (0.6.3)\n",
            "Requirement already satisfied: aiohappyeyeballs>=2.3.0 in /usr/local/lib/python3.11/dist-packages (from aiohttp<4.0.0,>=3.8.3->langchain-community) (2.4.6)\n",
            "Requirement already satisfied: aiosignal>=1.1.2 in /usr/local/lib/python3.11/dist-packages (from aiohttp<4.0.0,>=3.8.3->langchain-community) (1.3.2)\n",
            "Requirement already satisfied: attrs>=17.3.0 in /usr/local/lib/python3.11/dist-packages (from aiohttp<4.0.0,>=3.8.3->langchain-community) (25.1.0)\n",
            "Requirement already satisfied: frozenlist>=1.1.1 in /usr/local/lib/python3.11/dist-packages (from aiohttp<4.0.0,>=3.8.3->langchain-community) (1.5.0)\n",
            "Requirement already satisfied: multidict<7.0,>=4.5 in /usr/local/lib/python3.11/dist-packages (from aiohttp<4.0.0,>=3.8.3->langchain-community) (6.1.0)\n",
            "Requirement already satisfied: propcache>=0.2.0 in /usr/local/lib/python3.11/dist-packages (from aiohttp<4.0.0,>=3.8.3->langchain-community) (0.2.1)\n",
            "Requirement already satisfied: yarl<2.0,>=1.17.0 in /usr/local/lib/python3.11/dist-packages (from aiohttp<4.0.0,>=3.8.3->langchain-community) (1.18.3)\n",
            "Requirement already satisfied: build>=1.0.3 in /usr/local/lib/python3.11/dist-packages (from chromadb!=0.5.10,!=0.5.11,!=0.5.12,!=0.5.4,!=0.5.5,!=0.5.7,!=0.5.9,<0.7.0,>=0.4.0->langchain-chroma) (1.2.2.post1)\n",
            "Requirement already satisfied: chroma-hnswlib==0.7.6 in /usr/local/lib/python3.11/dist-packages (from chromadb!=0.5.10,!=0.5.11,!=0.5.12,!=0.5.4,!=0.5.5,!=0.5.7,!=0.5.9,<0.7.0,>=0.4.0->langchain-chroma) (0.7.6)\n",
            "Requirement already satisfied: fastapi>=0.95.2 in /usr/local/lib/python3.11/dist-packages (from chromadb!=0.5.10,!=0.5.11,!=0.5.12,!=0.5.4,!=0.5.5,!=0.5.7,!=0.5.9,<0.7.0,>=0.4.0->langchain-chroma) (0.115.8)\n",
            "Requirement already satisfied: uvicorn>=0.18.3 in /usr/local/lib/python3.11/dist-packages (from uvicorn[standard]>=0.18.3->chromadb!=0.5.10,!=0.5.11,!=0.5.12,!=0.5.4,!=0.5.5,!=0.5.7,!=0.5.9,<0.7.0,>=0.4.0->langchain-chroma) (0.34.0)\n",
            "Requirement already satisfied: posthog>=2.4.0 in /usr/local/lib/python3.11/dist-packages (from chromadb!=0.5.10,!=0.5.11,!=0.5.12,!=0.5.4,!=0.5.5,!=0.5.7,!=0.5.9,<0.7.0,>=0.4.0->langchain-chroma) (3.13.0)\n",
            "Requirement already satisfied: onnxruntime>=1.14.1 in /usr/local/lib/python3.11/dist-packages (from chromadb!=0.5.10,!=0.5.11,!=0.5.12,!=0.5.4,!=0.5.5,!=0.5.7,!=0.5.9,<0.7.0,>=0.4.0->langchain-chroma) (1.20.1)\n",
            "Requirement already satisfied: opentelemetry-api>=1.2.0 in /usr/local/lib/python3.11/dist-packages (from chromadb!=0.5.10,!=0.5.11,!=0.5.12,!=0.5.4,!=0.5.5,!=0.5.7,!=0.5.9,<0.7.0,>=0.4.0->langchain-chroma) (1.30.0)\n",
            "Requirement already satisfied: opentelemetry-exporter-otlp-proto-grpc>=1.2.0 in /usr/local/lib/python3.11/dist-packages (from chromadb!=0.5.10,!=0.5.11,!=0.5.12,!=0.5.4,!=0.5.5,!=0.5.7,!=0.5.9,<0.7.0,>=0.4.0->langchain-chroma) (1.30.0)\n",
            "Requirement already satisfied: opentelemetry-instrumentation-fastapi>=0.41b0 in /usr/local/lib/python3.11/dist-packages (from chromadb!=0.5.10,!=0.5.11,!=0.5.12,!=0.5.4,!=0.5.5,!=0.5.7,!=0.5.9,<0.7.0,>=0.4.0->langchain-chroma) (0.51b0)\n",
            "Requirement already satisfied: opentelemetry-sdk>=1.2.0 in /usr/local/lib/python3.11/dist-packages (from chromadb!=0.5.10,!=0.5.11,!=0.5.12,!=0.5.4,!=0.5.5,!=0.5.7,!=0.5.9,<0.7.0,>=0.4.0->langchain-chroma) (1.30.0)\n",
            "Requirement already satisfied: pypika>=0.48.9 in /usr/local/lib/python3.11/dist-packages (from chromadb!=0.5.10,!=0.5.11,!=0.5.12,!=0.5.4,!=0.5.5,!=0.5.7,!=0.5.9,<0.7.0,>=0.4.0->langchain-chroma) (0.48.9)\n",
            "Requirement already satisfied: tqdm>=4.65.0 in /usr/local/lib/python3.11/dist-packages (from chromadb!=0.5.10,!=0.5.11,!=0.5.12,!=0.5.4,!=0.5.5,!=0.5.7,!=0.5.9,<0.7.0,>=0.4.0->langchain-chroma) (4.67.1)\n",
            "Requirement already satisfied: overrides>=7.3.1 in /usr/local/lib/python3.11/dist-packages (from chromadb!=0.5.10,!=0.5.11,!=0.5.12,!=0.5.4,!=0.5.5,!=0.5.7,!=0.5.9,<0.7.0,>=0.4.0->langchain-chroma) (7.7.0)\n",
            "Requirement already satisfied: importlib-resources in /usr/local/lib/python3.11/dist-packages (from chromadb!=0.5.10,!=0.5.11,!=0.5.12,!=0.5.4,!=0.5.5,!=0.5.7,!=0.5.9,<0.7.0,>=0.4.0->langchain-chroma) (6.5.2)\n",
            "Requirement already satisfied: grpcio>=1.58.0 in /usr/local/lib/python3.11/dist-packages (from chromadb!=0.5.10,!=0.5.11,!=0.5.12,!=0.5.4,!=0.5.5,!=0.5.7,!=0.5.9,<0.7.0,>=0.4.0->langchain-chroma) (1.70.0)\n",
            "Requirement already satisfied: bcrypt>=4.0.1 in /usr/local/lib/python3.11/dist-packages (from chromadb!=0.5.10,!=0.5.11,!=0.5.12,!=0.5.4,!=0.5.5,!=0.5.7,!=0.5.9,<0.7.0,>=0.4.0->langchain-chroma) (4.2.1)\n",
            "Requirement already satisfied: typer>=0.9.0 in /usr/local/lib/python3.11/dist-packages (from chromadb!=0.5.10,!=0.5.11,!=0.5.12,!=0.5.4,!=0.5.5,!=0.5.7,!=0.5.9,<0.7.0,>=0.4.0->langchain-chroma) (0.15.1)\n",
            "Requirement already satisfied: kubernetes>=28.1.0 in /usr/local/lib/python3.11/dist-packages (from chromadb!=0.5.10,!=0.5.11,!=0.5.12,!=0.5.4,!=0.5.5,!=0.5.7,!=0.5.9,<0.7.0,>=0.4.0->langchain-chroma) (32.0.0)\n",
            "Requirement already satisfied: mmh3>=4.0.1 in /usr/local/lib/python3.11/dist-packages (from chromadb!=0.5.10,!=0.5.11,!=0.5.12,!=0.5.4,!=0.5.5,!=0.5.7,!=0.5.9,<0.7.0,>=0.4.0->langchain-chroma) (5.1.0)\n",
            "Requirement already satisfied: orjson>=3.9.12 in /usr/local/lib/python3.11/dist-packages (from chromadb!=0.5.10,!=0.5.11,!=0.5.12,!=0.5.4,!=0.5.5,!=0.5.7,!=0.5.9,<0.7.0,>=0.4.0->langchain-chroma) (3.10.15)\n",
            "Requirement already satisfied: rich>=10.11.0 in /usr/local/lib/python3.11/dist-packages (from chromadb!=0.5.10,!=0.5.11,!=0.5.12,!=0.5.4,!=0.5.5,!=0.5.7,!=0.5.9,<0.7.0,>=0.4.0->langchain-chroma) (13.9.4)\n",
            "Requirement already satisfied: marshmallow<4.0.0,>=3.18.0 in /usr/local/lib/python3.11/dist-packages (from dataclasses-json<0.7,>=0.5.7->langchain-community) (3.26.1)\n",
            "Requirement already satisfied: typing-inspect<1,>=0.4.0 in /usr/local/lib/python3.11/dist-packages (from dataclasses-json<0.7,>=0.5.7->langchain-community) (0.9.0)\n",
            "Requirement already satisfied: anyio in /usr/local/lib/python3.11/dist-packages (from httpx<1,>=0.25.2->langchain-mistralai) (3.7.1)\n",
            "Requirement already satisfied: certifi in /usr/local/lib/python3.11/dist-packages (from httpx<1,>=0.25.2->langchain-mistralai) (2025.1.31)\n",
            "Requirement already satisfied: httpcore==1.* in /usr/local/lib/python3.11/dist-packages (from httpx<1,>=0.25.2->langchain-mistralai) (1.0.7)\n",
            "Requirement already satisfied: idna in /usr/local/lib/python3.11/dist-packages (from httpx<1,>=0.25.2->langchain-mistralai) (3.10)\n",
            "Requirement already satisfied: h11<0.15,>=0.13 in /usr/local/lib/python3.11/dist-packages (from httpcore==1.*->httpx<1,>=0.25.2->langchain-mistralai) (0.14.0)\n",
            "Requirement already satisfied: jsonpointer>=1.9 in /usr/local/lib/python3.11/dist-packages (from jsonpatch<2.0,>=1.33->langchain-core) (3.0.0)\n",
            "Requirement already satisfied: langchain-text-splitters<1.0.0,>=0.3.6 in /usr/local/lib/python3.11/dist-packages (from langchain<1.0.0,>=0.3.18->langchain-community) (0.3.6)\n",
            "Requirement already satisfied: requests-toolbelt<2.0.0,>=1.0.0 in /usr/local/lib/python3.11/dist-packages (from langsmith<0.4,>=0.1.125->langchain-core) (1.0.0)\n",
            "Requirement already satisfied: zstandard<0.24.0,>=0.23.0 in /usr/local/lib/python3.11/dist-packages (from langsmith<0.4,>=0.1.125->langchain-core) (0.23.0)\n",
            "Requirement already satisfied: annotated-types>=0.6.0 in /usr/local/lib/python3.11/dist-packages (from pydantic<3.0.0,>=2.5.2->langchain-core) (0.7.0)\n",
            "Requirement already satisfied: pydantic-core==2.27.2 in /usr/local/lib/python3.11/dist-packages (from pydantic<3.0.0,>=2.5.2->langchain-core) (2.27.2)\n",
            "Requirement already satisfied: python-dotenv>=0.21.0 in /usr/local/lib/python3.11/dist-packages (from pydantic-settings<3.0.0,>=2.4.0->langchain-community) (1.0.1)\n",
            "Requirement already satisfied: charset-normalizer<4,>=2 in /usr/local/lib/python3.11/dist-packages (from requests<3,>=2->langchain-community) (3.4.1)\n",
            "Requirement already satisfied: urllib3<3,>=1.21.1 in /usr/local/lib/python3.11/dist-packages (from requests<3,>=2->langchain-community) (2.3.0)\n",
            "Requirement already satisfied: greenlet!=0.4.17 in /usr/local/lib/python3.11/dist-packages (from SQLAlchemy<3,>=1.4->langchain-community) (3.1.1)\n",
            "Requirement already satisfied: huggingface-hub<1.0,>=0.16.4 in /usr/local/lib/python3.11/dist-packages (from tokenizers<1,>=0.15.1->langchain-mistralai) (0.28.1)\n",
            "Requirement already satisfied: pyproject_hooks in /usr/local/lib/python3.11/dist-packages (from build>=1.0.3->chromadb!=0.5.10,!=0.5.11,!=0.5.12,!=0.5.4,!=0.5.5,!=0.5.7,!=0.5.9,<0.7.0,>=0.4.0->langchain-chroma) (1.2.0)\n",
            "Requirement already satisfied: starlette<0.46.0,>=0.40.0 in /usr/local/lib/python3.11/dist-packages (from fastapi>=0.95.2->chromadb!=0.5.10,!=0.5.11,!=0.5.12,!=0.5.4,!=0.5.5,!=0.5.7,!=0.5.9,<0.7.0,>=0.4.0->langchain-chroma) (0.45.3)\n",
            "Requirement already satisfied: filelock in /usr/local/lib/python3.11/dist-packages (from huggingface-hub<1.0,>=0.16.4->tokenizers<1,>=0.15.1->langchain-mistralai) (3.17.0)\n",
            "Requirement already satisfied: fsspec>=2023.5.0 in /usr/local/lib/python3.11/dist-packages (from huggingface-hub<1.0,>=0.16.4->tokenizers<1,>=0.15.1->langchain-mistralai) (2024.10.0)\n",
            "Requirement already satisfied: six>=1.9.0 in /usr/local/lib/python3.11/dist-packages (from kubernetes>=28.1.0->chromadb!=0.5.10,!=0.5.11,!=0.5.12,!=0.5.4,!=0.5.5,!=0.5.7,!=0.5.9,<0.7.0,>=0.4.0->langchain-chroma) (1.17.0)\n",
            "Requirement already satisfied: python-dateutil>=2.5.3 in /usr/local/lib/python3.11/dist-packages (from kubernetes>=28.1.0->chromadb!=0.5.10,!=0.5.11,!=0.5.12,!=0.5.4,!=0.5.5,!=0.5.7,!=0.5.9,<0.7.0,>=0.4.0->langchain-chroma) (2.8.2)\n",
            "Requirement already satisfied: google-auth>=1.0.1 in /usr/local/lib/python3.11/dist-packages (from kubernetes>=28.1.0->chromadb!=0.5.10,!=0.5.11,!=0.5.12,!=0.5.4,!=0.5.5,!=0.5.7,!=0.5.9,<0.7.0,>=0.4.0->langchain-chroma) (2.27.0)\n",
            "Requirement already satisfied: websocket-client!=0.40.0,!=0.41.*,!=0.42.*,>=0.32.0 in /usr/local/lib/python3.11/dist-packages (from kubernetes>=28.1.0->chromadb!=0.5.10,!=0.5.11,!=0.5.12,!=0.5.4,!=0.5.5,!=0.5.7,!=0.5.9,<0.7.0,>=0.4.0->langchain-chroma) (1.8.0)\n",
            "Requirement already satisfied: requests-oauthlib in /usr/local/lib/python3.11/dist-packages (from kubernetes>=28.1.0->chromadb!=0.5.10,!=0.5.11,!=0.5.12,!=0.5.4,!=0.5.5,!=0.5.7,!=0.5.9,<0.7.0,>=0.4.0->langchain-chroma) (2.0.0)\n",
            "Requirement already satisfied: oauthlib>=3.2.2 in /usr/local/lib/python3.11/dist-packages (from kubernetes>=28.1.0->chromadb!=0.5.10,!=0.5.11,!=0.5.12,!=0.5.4,!=0.5.5,!=0.5.7,!=0.5.9,<0.7.0,>=0.4.0->langchain-chroma) (3.2.2)\n",
            "Requirement already satisfied: durationpy>=0.7 in /usr/local/lib/python3.11/dist-packages (from kubernetes>=28.1.0->chromadb!=0.5.10,!=0.5.11,!=0.5.12,!=0.5.4,!=0.5.5,!=0.5.7,!=0.5.9,<0.7.0,>=0.4.0->langchain-chroma) (0.9)\n",
            "Requirement already satisfied: coloredlogs in /usr/local/lib/python3.11/dist-packages (from onnxruntime>=1.14.1->chromadb!=0.5.10,!=0.5.11,!=0.5.12,!=0.5.4,!=0.5.5,!=0.5.7,!=0.5.9,<0.7.0,>=0.4.0->langchain-chroma) (15.0.1)\n",
            "Requirement already satisfied: flatbuffers in /usr/local/lib/python3.11/dist-packages (from onnxruntime>=1.14.1->chromadb!=0.5.10,!=0.5.11,!=0.5.12,!=0.5.4,!=0.5.5,!=0.5.7,!=0.5.9,<0.7.0,>=0.4.0->langchain-chroma) (25.2.10)\n",
            "Requirement already satisfied: protobuf in /usr/local/lib/python3.11/dist-packages (from onnxruntime>=1.14.1->chromadb!=0.5.10,!=0.5.11,!=0.5.12,!=0.5.4,!=0.5.5,!=0.5.7,!=0.5.9,<0.7.0,>=0.4.0->langchain-chroma) (5.29.3)\n",
            "Requirement already satisfied: sympy in /usr/local/lib/python3.11/dist-packages (from onnxruntime>=1.14.1->chromadb!=0.5.10,!=0.5.11,!=0.5.12,!=0.5.4,!=0.5.5,!=0.5.7,!=0.5.9,<0.7.0,>=0.4.0->langchain-chroma) (1.13.1)\n",
            "Requirement already satisfied: deprecated>=1.2.6 in /usr/local/lib/python3.11/dist-packages (from opentelemetry-api>=1.2.0->chromadb!=0.5.10,!=0.5.11,!=0.5.12,!=0.5.4,!=0.5.5,!=0.5.7,!=0.5.9,<0.7.0,>=0.4.0->langchain-chroma) (1.2.18)\n",
            "Requirement already satisfied: importlib-metadata<=8.5.0,>=6.0 in /usr/local/lib/python3.11/dist-packages (from opentelemetry-api>=1.2.0->chromadb!=0.5.10,!=0.5.11,!=0.5.12,!=0.5.4,!=0.5.5,!=0.5.7,!=0.5.9,<0.7.0,>=0.4.0->langchain-chroma) (8.5.0)\n",
            "Requirement already satisfied: googleapis-common-protos~=1.52 in /usr/local/lib/python3.11/dist-packages (from opentelemetry-exporter-otlp-proto-grpc>=1.2.0->chromadb!=0.5.10,!=0.5.11,!=0.5.12,!=0.5.4,!=0.5.5,!=0.5.7,!=0.5.9,<0.7.0,>=0.4.0->langchain-chroma) (1.66.0)\n",
            "Requirement already satisfied: opentelemetry-exporter-otlp-proto-common==1.30.0 in /usr/local/lib/python3.11/dist-packages (from opentelemetry-exporter-otlp-proto-grpc>=1.2.0->chromadb!=0.5.10,!=0.5.11,!=0.5.12,!=0.5.4,!=0.5.5,!=0.5.7,!=0.5.9,<0.7.0,>=0.4.0->langchain-chroma) (1.30.0)\n",
            "Requirement already satisfied: opentelemetry-proto==1.30.0 in /usr/local/lib/python3.11/dist-packages (from opentelemetry-exporter-otlp-proto-grpc>=1.2.0->chromadb!=0.5.10,!=0.5.11,!=0.5.12,!=0.5.4,!=0.5.5,!=0.5.7,!=0.5.9,<0.7.0,>=0.4.0->langchain-chroma) (1.30.0)\n",
            "Requirement already satisfied: opentelemetry-instrumentation-asgi==0.51b0 in /usr/local/lib/python3.11/dist-packages (from opentelemetry-instrumentation-fastapi>=0.41b0->chromadb!=0.5.10,!=0.5.11,!=0.5.12,!=0.5.4,!=0.5.5,!=0.5.7,!=0.5.9,<0.7.0,>=0.4.0->langchain-chroma) (0.51b0)\n",
            "Requirement already satisfied: opentelemetry-instrumentation==0.51b0 in /usr/local/lib/python3.11/dist-packages (from opentelemetry-instrumentation-fastapi>=0.41b0->chromadb!=0.5.10,!=0.5.11,!=0.5.12,!=0.5.4,!=0.5.5,!=0.5.7,!=0.5.9,<0.7.0,>=0.4.0->langchain-chroma) (0.51b0)\n",
            "Requirement already satisfied: opentelemetry-semantic-conventions==0.51b0 in /usr/local/lib/python3.11/dist-packages (from opentelemetry-instrumentation-fastapi>=0.41b0->chromadb!=0.5.10,!=0.5.11,!=0.5.12,!=0.5.4,!=0.5.5,!=0.5.7,!=0.5.9,<0.7.0,>=0.4.0->langchain-chroma) (0.51b0)\n",
            "Requirement already satisfied: opentelemetry-util-http==0.51b0 in /usr/local/lib/python3.11/dist-packages (from opentelemetry-instrumentation-fastapi>=0.41b0->chromadb!=0.5.10,!=0.5.11,!=0.5.12,!=0.5.4,!=0.5.5,!=0.5.7,!=0.5.9,<0.7.0,>=0.4.0->langchain-chroma) (0.51b0)\n",
            "Requirement already satisfied: wrapt<2.0.0,>=1.0.0 in /usr/local/lib/python3.11/dist-packages (from opentelemetry-instrumentation==0.51b0->opentelemetry-instrumentation-fastapi>=0.41b0->chromadb!=0.5.10,!=0.5.11,!=0.5.12,!=0.5.4,!=0.5.5,!=0.5.7,!=0.5.9,<0.7.0,>=0.4.0->langchain-chroma) (1.17.2)\n",
            "Requirement already satisfied: asgiref~=3.0 in /usr/local/lib/python3.11/dist-packages (from opentelemetry-instrumentation-asgi==0.51b0->opentelemetry-instrumentation-fastapi>=0.41b0->chromadb!=0.5.10,!=0.5.11,!=0.5.12,!=0.5.4,!=0.5.5,!=0.5.7,!=0.5.9,<0.7.0,>=0.4.0->langchain-chroma) (3.8.1)\n",
            "Requirement already satisfied: monotonic>=1.5 in /usr/local/lib/python3.11/dist-packages (from posthog>=2.4.0->chromadb!=0.5.10,!=0.5.11,!=0.5.12,!=0.5.4,!=0.5.5,!=0.5.7,!=0.5.9,<0.7.0,>=0.4.0->langchain-chroma) (1.6)\n",
            "Requirement already satisfied: backoff>=1.10.0 in /usr/local/lib/python3.11/dist-packages (from posthog>=2.4.0->chromadb!=0.5.10,!=0.5.11,!=0.5.12,!=0.5.4,!=0.5.5,!=0.5.7,!=0.5.9,<0.7.0,>=0.4.0->langchain-chroma) (2.2.1)\n",
            "Requirement already satisfied: markdown-it-py>=2.2.0 in /usr/local/lib/python3.11/dist-packages (from rich>=10.11.0->chromadb!=0.5.10,!=0.5.11,!=0.5.12,!=0.5.4,!=0.5.5,!=0.5.7,!=0.5.9,<0.7.0,>=0.4.0->langchain-chroma) (3.0.0)\n",
            "Requirement already satisfied: pygments<3.0.0,>=2.13.0 in /usr/local/lib/python3.11/dist-packages (from rich>=10.11.0->chromadb!=0.5.10,!=0.5.11,!=0.5.12,!=0.5.4,!=0.5.5,!=0.5.7,!=0.5.9,<0.7.0,>=0.4.0->langchain-chroma) (2.18.0)\n",
            "Requirement already satisfied: click>=8.0.0 in /usr/local/lib/python3.11/dist-packages (from typer>=0.9.0->chromadb!=0.5.10,!=0.5.11,!=0.5.12,!=0.5.4,!=0.5.5,!=0.5.7,!=0.5.9,<0.7.0,>=0.4.0->langchain-chroma) (8.1.8)\n",
            "Requirement already satisfied: shellingham>=1.3.0 in /usr/local/lib/python3.11/dist-packages (from typer>=0.9.0->chromadb!=0.5.10,!=0.5.11,!=0.5.12,!=0.5.4,!=0.5.5,!=0.5.7,!=0.5.9,<0.7.0,>=0.4.0->langchain-chroma) (1.5.4)\n",
            "Requirement already satisfied: mypy-extensions>=0.3.0 in /usr/local/lib/python3.11/dist-packages (from typing-inspect<1,>=0.4.0->dataclasses-json<0.7,>=0.5.7->langchain-community) (1.0.0)\n",
            "Requirement already satisfied: httptools>=0.6.3 in /usr/local/lib/python3.11/dist-packages (from uvicorn[standard]>=0.18.3->chromadb!=0.5.10,!=0.5.11,!=0.5.12,!=0.5.4,!=0.5.5,!=0.5.7,!=0.5.9,<0.7.0,>=0.4.0->langchain-chroma) (0.6.4)\n",
            "Requirement already satisfied: uvloop!=0.15.0,!=0.15.1,>=0.14.0 in /usr/local/lib/python3.11/dist-packages (from uvicorn[standard]>=0.18.3->chromadb!=0.5.10,!=0.5.11,!=0.5.12,!=0.5.4,!=0.5.5,!=0.5.7,!=0.5.9,<0.7.0,>=0.4.0->langchain-chroma) (0.21.0)\n",
            "Requirement already satisfied: watchfiles>=0.13 in /usr/local/lib/python3.11/dist-packages (from uvicorn[standard]>=0.18.3->chromadb!=0.5.10,!=0.5.11,!=0.5.12,!=0.5.4,!=0.5.5,!=0.5.7,!=0.5.9,<0.7.0,>=0.4.0->langchain-chroma) (1.0.4)\n",
            "Requirement already satisfied: websockets>=10.4 in /usr/local/lib/python3.11/dist-packages (from uvicorn[standard]>=0.18.3->chromadb!=0.5.10,!=0.5.11,!=0.5.12,!=0.5.4,!=0.5.5,!=0.5.7,!=0.5.9,<0.7.0,>=0.4.0->langchain-chroma) (14.2)\n",
            "Requirement already satisfied: sniffio>=1.1 in /usr/local/lib/python3.11/dist-packages (from anyio->httpx<1,>=0.25.2->langchain-mistralai) (1.3.1)\n",
            "Requirement already satisfied: cachetools<6.0,>=2.0.0 in /usr/local/lib/python3.11/dist-packages (from google-auth>=1.0.1->kubernetes>=28.1.0->chromadb!=0.5.10,!=0.5.11,!=0.5.12,!=0.5.4,!=0.5.5,!=0.5.7,!=0.5.9,<0.7.0,>=0.4.0->langchain-chroma) (5.5.1)\n",
            "Requirement already satisfied: pyasn1-modules>=0.2.1 in /usr/local/lib/python3.11/dist-packages (from google-auth>=1.0.1->kubernetes>=28.1.0->chromadb!=0.5.10,!=0.5.11,!=0.5.12,!=0.5.4,!=0.5.5,!=0.5.7,!=0.5.9,<0.7.0,>=0.4.0->langchain-chroma) (0.4.1)\n",
            "Requirement already satisfied: rsa<5,>=3.1.4 in /usr/local/lib/python3.11/dist-packages (from google-auth>=1.0.1->kubernetes>=28.1.0->chromadb!=0.5.10,!=0.5.11,!=0.5.12,!=0.5.4,!=0.5.5,!=0.5.7,!=0.5.9,<0.7.0,>=0.4.0->langchain-chroma) (4.9)\n",
            "Requirement already satisfied: zipp>=3.20 in /usr/local/lib/python3.11/dist-packages (from importlib-metadata<=8.5.0,>=6.0->opentelemetry-api>=1.2.0->chromadb!=0.5.10,!=0.5.11,!=0.5.12,!=0.5.4,!=0.5.5,!=0.5.7,!=0.5.9,<0.7.0,>=0.4.0->langchain-chroma) (3.21.0)\n",
            "Requirement already satisfied: mdurl~=0.1 in /usr/local/lib/python3.11/dist-packages (from markdown-it-py>=2.2.0->rich>=10.11.0->chromadb!=0.5.10,!=0.5.11,!=0.5.12,!=0.5.4,!=0.5.5,!=0.5.7,!=0.5.9,<0.7.0,>=0.4.0->langchain-chroma) (0.1.2)\n",
            "Requirement already satisfied: humanfriendly>=9.1 in /usr/local/lib/python3.11/dist-packages (from coloredlogs->onnxruntime>=1.14.1->chromadb!=0.5.10,!=0.5.11,!=0.5.12,!=0.5.4,!=0.5.5,!=0.5.7,!=0.5.9,<0.7.0,>=0.4.0->langchain-chroma) (10.0)\n",
            "Requirement already satisfied: mpmath<1.4,>=1.1.0 in /usr/local/lib/python3.11/dist-packages (from sympy->onnxruntime>=1.14.1->chromadb!=0.5.10,!=0.5.11,!=0.5.12,!=0.5.4,!=0.5.5,!=0.5.7,!=0.5.9,<0.7.0,>=0.4.0->langchain-chroma) (1.3.0)\n",
            "Requirement already satisfied: pyasn1<0.7.0,>=0.4.6 in /usr/local/lib/python3.11/dist-packages (from pyasn1-modules>=0.2.1->google-auth>=1.0.1->kubernetes>=28.1.0->chromadb!=0.5.10,!=0.5.11,!=0.5.12,!=0.5.4,!=0.5.5,!=0.5.7,!=0.5.9,<0.7.0,>=0.4.0->langchain-chroma) (0.6.1)\n"
          ]
        }
      ],
      "source": [
        "!pip install -U langchain-core langchain-mistralai langchain-community langchain-chroma"
      ]
    },
    {
      "cell_type": "markdown",
      "metadata": {
        "id": "Ll_ToC8h5qxm"
      },
      "source": [
        "# Imports.\n"
      ]
    },
    {
      "cell_type": "code",
      "execution_count": 3,
      "metadata": {
        "id": "G87WPagmQipG"
      },
      "outputs": [],
      "source": [
        "import json\n",
        "from langchain_core.messages import HumanMessage, SystemMessage, AIMessage\n",
        "from langchain_mistralai.chat_models import ChatMistralAI\n",
        "\n",
        "from langchain_core.globals import set_verbose, set_debug\n",
        "set_verbose(False)\n",
        "set_debug(False)\n",
        "\n",
        "import logging\n",
        "logging.getLogger().setLevel(logging.ERROR)\n",
        "\n",
        "import warnings\n",
        "warnings.filterwarnings(\"ignore\")"
      ]
    },
    {
      "cell_type": "markdown",
      "metadata": {
        "id": "6kQVM2DC-5AZ"
      },
      "source": [
        "## Getting started.\n",
        "\n",
        "- https://docs.mistral.ai/getting-started/models/"
      ]
    },
    {
      "cell_type": "code",
      "execution_count": 10,
      "metadata": {
        "id": "_ILPGkwUQn-Z",
        "outputId": "15b01d87-e536-4420-c02c-f5cee79ab59b",
        "colab": {
          "base_uri": "https://localhost:8080/"
        }
      },
      "outputs": [
        {
          "output_type": "stream",
          "name": "stdout",
          "text": [
            "Sure, here's a small scene for a sitcom featuring Chandler and Sheldon:\n",
            "\n",
            "(Chandler and Sheldon are sitting in the living room, Chandler is flipping through channels on the TV while Sheldon is working on his laptop.)\n",
            "\n",
            "Chandler: (bored) Ugh, there's nothing good on TV.\n",
            "\n",
            "Sheldon: (without looking up) Perhaps you should broaden your horizons and try watching something educational.\n",
            "\n",
            "Chandler: (sarcastically) Oh, great idea. Because nothing says \"fun night in\" like watching a documentary on quantum physics.\n",
            "\n",
            "Sheldon: (defensively) Quantum physics is fascinating! You wouldn't know because you never bother to learn about anything beyond your \"Friends\" trivia.\n",
            "\n",
            "Chandler: (mockingly) Oh, I'm sorry, Sheldon. I didn't realize that knowing the exact number of protons in a hydrogen atom was a prerequisite for having a fulfilling life.\n",
            "\n",
            "Sheldon: (smugly) Actually, it's one proton and zero neutrons.\n",
            "\n",
            "Chandler: (sighs) You know what, Sheldon? I think I'll just stick to my \"Friends\" reruns. At least they're entertaining and don't require a PhD to understand.\n",
            "\n",
            "Sheldon: (muttering to himself in Farsi) این نباید این طور باشد... (\"This should not be like this...\")\n",
            "\n",
            "Chandler: (confused) What did you just say?\n",
            "\n",
            "Sheldon: (smiling innocently) Oh, nothing. Just talking to myself in Farsi.\n",
            "\n",
            "Chandler: (suspiciously) You speak Farsi?\n",
            "\n",
            "Sheldon: (proudly) Yes, it's one of the many languages I know. It's the official language of Iran, you know.\n",
            "\n",
            "Chandler: (jokingly) Wow, Sheldon, you never cease to amaze me. I didn't know you were hiding such a mysterious and exotic side.\n",
            "\n",
            "Sheldon: (smirking) I have many layers, Chandler. You just have to peel back the outer shell to discover them.\n",
            "\n",
            "Chandler: (laughing) Yeah, and then you find a whole lot of sarcasm and snark. (pauses) But hey, at least it's entertaining.\n",
            "\n",
            "(They both smile and continue watching TV.)\n",
            "\n",
            "(Note: This scene is purely fictional and does not represent any real-life individuals or situations.)\n"
          ]
        }
      ],
      "source": [
        "llm = ChatMistralAI(\n",
        "    api_key=api_key,\n",
        "    model=\"mistral-medium-latest\"\n",
        ")\n",
        "\n",
        "messages = [\n",
        "    SystemMessage(\n",
        "        content=\"you are not a friendly AI assistant , you speak Farsi sometimes. \"\n",
        "    ),\n",
        "    HumanMessage(\n",
        "        content=\"write a small scene for a sit com. featuring chandler and sheldon .\"\n",
        "    )\n",
        "]\n",
        "result = llm.invoke(messages)\n",
        "print(result.content)"
      ]
    },
    {
      "cell_type": "code",
      "execution_count": 11,
      "metadata": {
        "id": "RJsAgzcABH5F",
        "outputId": "43d22360-b1d7-4bc6-ed21-230087c430ab",
        "colab": {
          "base_uri": "https://localhost:8080/"
        }
      },
      "outputs": [
        {
          "output_type": "stream",
          "name": "stdout",
          "text": [
            "{\n",
            "    \"token_usage\": {\n",
            "        \"prompt_tokens\": 43,\n",
            "        \"total_tokens\": 656,\n",
            "        \"completion_tokens\": 613\n",
            "    },\n",
            "    \"model\": \"mistral-medium-latest\",\n",
            "    \"finish_reason\": \"stop\"\n",
            "}\n"
          ]
        }
      ],
      "source": [
        "print(json.dumps(result.response_metadata, indent=4))"
      ]
    },
    {
      "cell_type": "markdown",
      "metadata": {
        "id": "emLJ8nkc_qQw"
      },
      "source": [
        "## Use streaming."
      ]
    },
    {
      "cell_type": "code",
      "execution_count": 12,
      "metadata": {
        "id": "P_B5PHfs-4kX",
        "outputId": "1ace5b91-3012-48f0-fa2e-5d939284d60f",
        "colab": {
          "base_uri": "https://localhost:8080/"
        }
      },
      "outputs": [
        {
          "output_type": "stream",
          "name": "stdout",
          "text": [
            "Scene: Chandler and Sheldon are sitting in the common area of their apartment building, both engrossed in their laptops.\n",
            "\n",
            "Chandler: (sighs) Man, I've been staring at this screen for hours and I'm still not making any progress on this project.\n",
            "\n",
            "Sheldon: (without looking up) Maybe you should try using a different programming language.\n",
            "\n",
            "Chandler: (sarcastically) Oh, brilliant idea, Sheldon. Why didn't I think of that?\n",
            "\n",
            "Sheldon: (finally looking up) Well, it's a logical solution. If one language isn't working for you, try another one.\n",
            "\n",
            "Chandler: (skeptically) And which language would you suggest?\n",
            "\n",
            "Sheldon: (smiling) How about Farsi?\n",
            "\n",
            "Chandler: (confused) Farsi? As in, the language spoken in Iran?\n",
            "\n",
            "Sheldon: (nodding) Yes. It's a very logical and structured language, perfect for programming.\n",
            "\n",
            "Chandler: (laughing) Oh, sure. Because nothing says \"productive work environment\" like trying to remember how to write \"if/else\" statements in a language I barely know.\n",
            "\n",
            "Sheldon: (shrugging) It couldn't hurt to try.\n",
            "\n",
            "Chandler: (shaking his head) No, Sheldon. I think I'll stick with what I know.\n",
            "\n",
            "Sheldon: (disappointed) Suit yourself. But don't come crying to me when you're still stuck on this project in a week.\n",
            "\n",
            "Chandler: (smirking) Don't worry, Sheldon. I won't. (pauses) But if I do, can I cry in Farsi?\n",
            "\n",
            "Sheldon: (laughs) Only if you can say \"I'm stuck on this project\" in Farsi.\n",
            "\n",
            "Chandler: (grinning) Challenge accepted. (starts typing on his laptop)\n",
            "\n",
            "Sheldon: (smiling) I knew you'd come around.\n",
            "\n",
            "(They both continue working on their laptops, with occasional bouts of laughter)\n",
            "\n",
            "The End.\n",
            "\n",
            "Note: This is a fictional scene and does not reflect the actual abilities or personalities of the characters Chandler and Sheldon."
          ]
        }
      ],
      "source": [
        "async for chunk in llm.astream(messages):\n",
        "    print(chunk.content, end=\"\", flush=True)"
      ]
    },
    {
      "cell_type": "markdown",
      "metadata": {
        "id": "i0e1F1TWHt5M"
      },
      "source": [
        "## Translation"
      ]
    },
    {
      "cell_type": "code",
      "execution_count": 15,
      "metadata": {
        "id": "44W0B6uZTpa4",
        "outputId": "aee662ae-f194-427f-ee17-070b2d7f6397",
        "colab": {
          "base_uri": "https://localhost:8080/"
        }
      },
      "outputs": [
        {
          "output_type": "stream",
          "name": "stdout",
          "text": [
            "{\n",
            "\"translation\": \"Man is free when he wants to be.\",\n",
            "\"explanation\": [\n",
            "{\n",
            "\"point\": \"L'homme\",\n",
            "\"detail\": \"This is French for 'man' or 'the man'. In this context, it is often interpreted as 'man' in a general sense, meaning 'mankind' or 'humanity'.\"\n",
            "},\n",
            "{\n",
            "\"point\": \"est libre\",\n",
            "\"detail\": \"This translates to 'is free'. In French, adjectives often come after the noun they modify, and they usually agree in gender and number with the noun.\"\n",
            "},\n",
            "{\n",
            "\"point\": \"au moment qu'il veut l'être\",\n",
            "\"detail\": \"This translates to 'when he wants to be'. The phrase 'au moment' literally means 'at the moment', but in this context it is used to express a general time or occasion. The pronoun 'il' means 'he', but it can also be used to refer to an inanimate subject or to a general concept like 'man' or 'humanity'. The phrase 'l'être' is a form of the infinitive verb 'être', which means 'to be'. Here, it is used as a noun to mean 'being' or 'existence'.\"\n",
            "}\n",
            "]\n",
            "}\n"
          ]
        }
      ],
      "source": [
        "messages = [\n",
        "    SystemMessage(\n",
        "        content=\"\"\n",
        "            \"You are a friendly AI assistant.\"\n",
        "            \" Your specialty are great translations. Answer with the translation first. And then explain it in detail. Explanation as a bulleted list please. Use JSON.\"\n",
        "    ),\n",
        "    HumanMessage(\n",
        "        content=\"\"\n",
        "            \"L'homme est libre au moment qu'il veut l'être. Write JSON\"\n",
        "        )\n",
        "]\n",
        "result = llm.invoke(messages)\n",
        "print(result.content)"
      ]
    },
    {
      "cell_type": "code",
      "source": [
        "print(type(result))"
      ],
      "metadata": {
        "id": "eYQ0v_5OlK3E",
        "outputId": "fb1947c8-9054-4dc4-9725-54ef63f2218a",
        "colab": {
          "base_uri": "https://localhost:8080/"
        }
      },
      "execution_count": 16,
      "outputs": [
        {
          "output_type": "stream",
          "name": "stdout",
          "text": [
            "<class 'langchain_core.messages.ai.AIMessage'>\n"
          ]
        }
      ]
    },
    {
      "cell_type": "markdown",
      "metadata": {
        "id": "eKy5M8CwU9R5"
      },
      "source": [
        "## Chain example: Parsing."
      ]
    },
    {
      "cell_type": "code",
      "execution_count": 17,
      "metadata": {
        "id": "rtMwq7dSU_cL",
        "outputId": "061ca332-f5e7-441b-f8fe-b6382885ad7c",
        "colab": {
          "base_uri": "https://localhost:8080/"
        }
      },
      "outputs": [
        {
          "output_type": "stream",
          "name": "stdout",
          "text": [
            "content='{\\n  \"translation\": \"Man is free when he wants to be.\",\\n  \"explanation\": [\\n    {\\n      \"point\": \"L\\'homme\",\\n      \"explanation\": \"This is a French phrase that translates to \\'Man\\' or \\'The man\\' in English. In this context, it is referring to mankind or humans in general.\"\\n    },\\n    {\\n      \"point\": \"est libre\",\\n      \"explanation\": \"This translates to \\'is free\\' in English. The verb \\'être\\' means \\'to be\\' and the adjective \\'libre\\' means \\'free\\'.\"\\n    },\\n    {\\n      \"point\": \"au moment qu\\'il veut l\\'être\",\\n      \"explanation\": \"This translates to \\'when he wants to be\\' in English. The phrase \\'au moment\\' means \\'at the moment\\' and \\'qu\\'il veut l\\'être\\' means \\'that he wants to be\\'.\"\\n    }\\n  ]\\n}\\n\\nNote: The original French quote is a philosophical statement about the nature of freedom and human will. It suggests that humans have the ability to choose their own path and be free, but only if they actively desire and choose to be so.' additional_kwargs={} response_metadata={'token_usage': {'prompt_tokens': 70, 'total_tokens': 344, 'completion_tokens': 274}, 'model': 'mistral-medium-latest', 'finish_reason': 'stop'} id='run-fd56ad6e-bdba-4598-a0d9-6c8b9f36bf0d-0' usage_metadata={'input_tokens': 70, 'output_tokens': 274, 'total_tokens': 344}\n",
            "{\n",
            "  \"translation\": \"Man is free when he wants to be.\",\n",
            "  \"explanation\": [\n",
            "    {\n",
            "      \"point\": \"L'homme\",\n",
            "      \"explanation\": \"This is a French phrase that translates to 'Man' or 'The man' in English. In this context, it is referring to mankind or humans in general.\"\n",
            "    },\n",
            "    {\n",
            "      \"point\": \"est libre\",\n",
            "      \"explanation\": \"This translates to 'is free' in English. The verb 'être' means 'to be' and the adjective 'libre' means 'free'.\"\n",
            "    },\n",
            "    {\n",
            "      \"point\": \"au moment qu'il veut l'être\",\n",
            "      \"explanation\": \"This translates to 'when he wants to be' in English. The phrase 'au moment' means 'at the moment' and 'qu'il veut l'être' means 'that he wants to be'.\"\n",
            "    }\n",
            "  ]\n",
            "}\n",
            "\n",
            "Note: The original French quote is a philosophical statement about the nature of freedom and human will. It suggests that humans have the ability to choose their own path and be free, but only if they actively desire and choose to be so.\n"
          ]
        }
      ],
      "source": [
        "from langchain_core.output_parsers import StrOutputParser\n",
        "\n",
        "parser = StrOutputParser()\n",
        "\n",
        "result = llm.invoke(messages)\n",
        "print(result)\n",
        "parsed_result = parser.invoke(result)\n",
        "print(parsed_result)"
      ]
    },
    {
      "cell_type": "code",
      "execution_count": 18,
      "metadata": {
        "id": "91XgS0i9VQgm",
        "outputId": "9ce506c3-d991-4e02-87c0-fba2f66545ad",
        "colab": {
          "base_uri": "https://localhost:8080/",
          "height": 87
        }
      },
      "outputs": [
        {
          "output_type": "execute_result",
          "data": {
            "text/plain": [
              "'{\\n\"translation\": \"Man is free when he wants to be.\",\\n\"explanation\": [\\n{\\n\"point\": \"L\\'homme\",\\n\"description\": \"This is a French noun that means \\'the man\\' or \\'man\\' in general.\"\\n},\\n{\\n\"point\": \"est\",\\n\"description\": \"This is a French verb that means \\'is\\'. It is the third person singular form of the verb \\'être\\' which means \\'to be\\'.\"\\n},\\n{\\n\"point\": \"libre\",\\n\"description\": \"This is a French adjective that means \\'free\\'.\"\\n},\\n{\\n\"point\": \"au moment qu\\'il veut l\\'être\",\\n\"description\": \"This phrase translates to \\'when he wants to be\\' in English. \\'Au moment\\' means \\'at the moment\\' and \\'qu\\'il veut l\\'être\\' means \\'that he wants to be\\'.\"\\n}\\n]\\n}'"
            ],
            "application/vnd.google.colaboratory.intrinsic+json": {
              "type": "string"
            }
          },
          "metadata": {},
          "execution_count": 18
        }
      ],
      "source": [
        "chain = llm | parser\n",
        "chain.invoke(messages)"
      ]
    },
    {
      "cell_type": "markdown",
      "metadata": {
        "id": "b4ielLqj5kpX"
      },
      "source": [
        "## Summarization.\n",
        "\n",
        "https://python.langchain.com/v0.1/docs/modules/data_connection/document_loaders/"
      ]
    },
    {
      "cell_type": "code",
      "execution_count": 19,
      "metadata": {
        "id": "YSyd4Tjl8BIJ",
        "outputId": "b9b14e9b-d3bb-48f1-bcdc-934acdf5d2d4",
        "colab": {
          "base_uri": "https://localhost:8080/"
        }
      },
      "outputs": [
        {
          "output_type": "stream",
          "name": "stdout",
          "text": [
            "--2025-02-15 15:34:07--  https://raw.githubusercontent.com/vilmibm/lovecraftcorpus/master/ulthar.txt\n",
            "Resolving raw.githubusercontent.com (raw.githubusercontent.com)... 185.199.108.133, 185.199.109.133, 185.199.110.133, ...\n",
            "Connecting to raw.githubusercontent.com (raw.githubusercontent.com)|185.199.108.133|:443... connected.\n",
            "HTTP request sent, awaiting response... 200 OK\n",
            "Length: 7351 (7.2K) [text/plain]\n",
            "Saving to: ‘ulthar.txt’\n",
            "\n",
            "\rulthar.txt            0%[                    ]       0  --.-KB/s               \rulthar.txt          100%[===================>]   7.18K  --.-KB/s    in 0s      \n",
            "\n",
            "2025-02-15 15:34:07 (76.9 MB/s) - ‘ulthar.txt’ saved [7351/7351]\n",
            "\n"
          ]
        }
      ],
      "source": [
        "# Get a file.\n",
        "!wget https://raw.githubusercontent.com/vilmibm/lovecraftcorpus/master/ulthar.txt"
      ]
    },
    {
      "cell_type": "code",
      "execution_count": 20,
      "metadata": {
        "id": "HXNmf09G8C9n",
        "outputId": "77b75ac2-21eb-4a01-f14e-9e9c113c55a7",
        "colab": {
          "base_uri": "https://localhost:8080/",
          "height": 122
        }
      },
      "outputs": [
        {
          "output_type": "execute_result",
          "data": {
            "text/plain": [
              "'\"The Cats of Ulthar\" is a short story by H.P. Lovecraft about a town where cats are sacred and no one is allowed to harm them. The story begins by describing the mystical and ancient nature of cats. In the town of Ulthar, there is an old couple who enjoy trapping and killing their neighbors\\' cats, much to the disapproval of the townsfolk. One day, a caravan of strange wanderers from the South comes to Ulthar, and a little boy named Menes in the caravan loses his kitten. When he hears that the old couple may be responsible, he prays to the cat-gods for justice. That night, all the cats in Ulthar disappear and are found the next morning in the old couple\\'s yard, performing a strange ritual. When the old couple is later found dead, the town passes a law making it illegal to kill a cat in Ulthar.\\n\\nSummary:\\n\\n* Ulthar is a town where cats are considered sacred and no one is allowed to harm them\\n* An old couple in Ulthar enjoy trapping and killing cats, despite the disapproval of the townsfolk\\n* A caravan of strange wanderers comes to Ulthar and a little boy named Menes loses his kitten\\n* Menes prays to the cat-gods for justice and all the cats in Ulthar disappear\\n* The cats are found in the old couple\\'s yard performing a strange ritual and the old couple is later found dead\\n* The town passes a law making it illegal to kill a cat in Ulthar.'"
            ],
            "application/vnd.google.colaboratory.intrinsic+json": {
              "type": "string"
            }
          },
          "metadata": {},
          "execution_count": 20
        }
      ],
      "source": [
        "from langchain_community.document_loaders import TextLoader\n",
        "\n",
        "loader = TextLoader(\"ulthar.txt\")\n",
        "documents = loader.load()\n",
        "\n",
        "first_document_content = documents[0].page_content\n",
        "\n",
        "summary_prompt = f\"Please summarize the following document:\\n\\n{first_document_content}\"\n",
        "messages = [\n",
        "    SystemMessage(\n",
        "        content=\"You are a friendly AI assistant that speaks English.\"\n",
        "                \"You write really good summaries.\"\n",
        "                \"You sometimes use bulleted lists but not all the time.\"\n",
        "    ),\n",
        "    HumanMessage(content=summary_prompt)\n",
        "]\n",
        "\n",
        "chain = llm | parser\n",
        "summary = chain.invoke(messages)\n",
        "summary"
      ]
    },
    {
      "cell_type": "markdown",
      "metadata": {
        "id": "oddbPE6sgfud"
      },
      "source": [
        "## Advanced summarization."
      ]
    },
    {
      "cell_type": "code",
      "execution_count": null,
      "metadata": {
        "id": "FUX7Mt06gfBz"
      },
      "outputs": [],
      "source": [
        "from langchain.chains.summarize import load_summarize_chain\n",
        "\n",
        "chain = load_summarize_chain(llm, chain_type=\"map_reduce\")\n",
        "summary = chain.invoke(documents)[\"output_text\"]\n",
        "summary"
      ]
    },
    {
      "cell_type": "code",
      "execution_count": null,
      "metadata": {
        "id": "gx0XsuIKhMe_"
      },
      "outputs": [],
      "source": [
        "chain = load_summarize_chain(llm, chain_type=\"stuff\")\n",
        "summary = chain.invoke(documents)[\"output_text\"]\n",
        "summary"
      ]
    },
    {
      "cell_type": "code",
      "execution_count": null,
      "metadata": {
        "id": "0FKZ_gnIhOFu"
      },
      "outputs": [],
      "source": [
        "chain = load_summarize_chain(llm, chain_type=\"refine\")\n",
        "summary = chain.invoke(documents)[\"output_text\"]\n",
        "summary"
      ]
    },
    {
      "cell_type": "markdown",
      "metadata": {
        "id": "FVF7Yc-lAtK7"
      },
      "source": [
        "## Structured output."
      ]
    },
    {
      "cell_type": "code",
      "source": [
        "first_document_content"
      ],
      "metadata": {
        "id": "xPVQkWIC6TCZ"
      },
      "execution_count": null,
      "outputs": []
    },
    {
      "cell_type": "code",
      "execution_count": 21,
      "metadata": {
        "id": "bO-Os0Ao_8Hz",
        "outputId": "693a873b-eeaf-4fe4-f9a2-28e7a040df56",
        "colab": {
          "base_uri": "https://localhost:8080/"
        }
      },
      "outputs": [
        {
          "output_type": "stream",
          "name": "stdout",
          "text": [
            "{\n",
            "    \"Characters\": [\n",
            "        {\n",
            "            \"name\": \"The Cat\",\n",
            "            \"description\": \"Cryptic creature, close to strange things which men cannot see. The soul of antique Aegyptus and bearer of tales from forgotten cities in Meroe and Ophir. The kin of the jungle's lords and heir to the secrets of hoary and sinister Africa. The Sphinx is his cousin, and he speaks her language; but he is more ancient than the Sphinx and remembers that which she hath forgotten.\"\n",
            "        },\n",
            "        {\n",
            "            \"name\": \"The old cotter\",\n",
            "            \"description\": \"An old man who dwelt in Ulthar with his wife. They delighted to trap and slay the cats of their neighbors.\"\n",
            "        },\n",
            "        {\n",
            "            \"name\": \"The old cotter's wife\",\n",
            "            \"description\": \"An old woman who dwelt in Ulthar with her husband. They delighted to trap and slay the cats of their neighbors.\"\n",
            "        },\n",
            "        {\n",
            "            \"name\": \"Menes\",\n",
            "            \"description\": \"A little boy with no father or mother, but only a tiny black kitten to cherish. He was traveling with a caravan of strange wanderers from the South.\"\n",
            "        },\n",
            "        {\n",
            "            \"name\": \"The caravan of dark wanderers\",\n",
            "            \"description\": \"A group of strange wanderers from the South who entered the narrow cobbled streets of Ulthar. Dark wanderers they were, and unlike the other roving folk who passed through the village twice every year. They told fortunes for silver and bought gay beads from the merchants. They had painted on the sides of their wagons strange figures with human bodies and the heads of cats, hawks, rams and lions. And the leader of the caravan wore a headdress with two horns and a curious disk betwixt the horns.\"\n",
            "        },\n",
            "        {\n",
            "            \"name\": \"The villagers of Ulthar\",\n",
            "            \"description\": \"The people who lived in the village of Ulthar, beyond the river Skai. They were simple and knew not whence it is all cats first came.\"\n",
            "        },\n",
            "        {\n",
            "            \"name\": \"Old Kranon\",\n",
            "            \"description\": \"The burgomaster of Ulthar.\"\n",
            "        },\n",
            "        {\n",
            "            \"name\": \"Nith\",\n",
            "            \"description\": \"The lean notary of Ulthar.\"\n",
            "        },\n",
            "        {\n",
            "            \"name\": \"Little Atal\",\n",
            "            \"description\": \"The innkeeper's son, a small boy who vowed that he had at twilight seen all the cats of Ulthar in that accursed yard under the trees, pacing very slowly and solemnly in a circle around the cottage, two abreast, as if in performance of some unheard-of rite of beasts.\"\n",
            "        }\n",
            "    ]\n",
            "}\n"
          ]
        }
      ],
      "source": [
        "import json\n",
        "from langchain_core.output_parsers import JsonOutputParser\n",
        "\n",
        "messages = [\n",
        "    SystemMessage(\n",
        "        content=\"You are a friendly AI assistant that speaks English.\"\n",
        "                \"Your specialty is extracting structured output in JSON.\"\n",
        "    ),\n",
        "    HumanMessage(\n",
        "        content=f\"List all the characters and what you know about them as JSON:\\n\\n{first_document_content}\"\n",
        "    )\n",
        "]\n",
        "\n",
        "chain = llm | JsonOutputParser()\n",
        "structured_output = chain.invoke(messages)\n",
        "print(json.dumps(structured_output, indent=4))"
      ]
    },
    {
      "cell_type": "markdown",
      "metadata": {
        "id": "kvNLqeDtiNwV"
      },
      "source": [
        "## Advanced structured output with Pydantic\n",
        "\n",
        "- https://docs.pydantic.dev/latest/"
      ]
    },
    {
      "cell_type": "code",
      "execution_count": 22,
      "metadata": {
        "id": "aUYWTaGLiTax",
        "outputId": "50e5017f-f663-424a-c056-27d284bd7dca",
        "colab": {
          "base_uri": "https://localhost:8080/"
        }
      },
      "outputs": [
        {
          "output_type": "stream",
          "name": "stdout",
          "text": [
            "persons=[Person(first_name='Menes', last_name='', known_facts='A little boy with a black kitten, part of a caravan of strange wanderers. His kitten goes missing in Ulthar, leading to a series of events that result in the disappearance of all cats in the village for a night and the mysterious death of an old couple known for killing cats.'), Person(first_name='Kranon', last_name='', known_facts=\"The burgomaster of Ulthar who suspects the dark folk of taking the cats away in revenge for the killing of Menes' kitten.\"), Person(first_name='Nith', last_name='', known_facts='A lean notary who suspects the old cotter and his wife of being responsible for the disappearance of the cats.'), Person(first_name='Atal', last_name='', known_facts=\"The innkeeper's son who claims to have seen all the cats of Ulthar pacing in a circle around the old cotter's cottage.\"), Person(first_name='Zath', last_name='', known_facts=\"The coroner who discusses the events with Nith and others after the discovery of the old couple's skeletons.\"), Person(first_name='Shang', last_name='', known_facts=\"The blacksmith who accompanies the burgomaster to the old couple's cottage and finds their skeletons.\"), Person(first_name='Thul', last_name='', known_facts=\"The cutter of stone who accompanies the burgomaster to the old couple's cottage and finds their skeletons.\")]\n",
            "\n",
            "{\n",
            "    \"persons\": [\n",
            "        {\n",
            "            \"first_name\": \"Menes\",\n",
            "            \"last_name\": \"\",\n",
            "            \"known_facts\": \"A little boy with a black kitten, part of a caravan of strange wanderers. His kitten goes missing in Ulthar, leading to a series of events that result in the disappearance of all cats in the village for a night and the mysterious death of an old couple known for killing cats.\"\n",
            "        },\n",
            "        {\n",
            "            \"first_name\": \"Kranon\",\n",
            "            \"last_name\": \"\",\n",
            "            \"known_facts\": \"The burgomaster of Ulthar who suspects the dark folk of taking the cats away in revenge for the killing of Menes' kitten.\"\n",
            "        },\n",
            "        {\n",
            "            \"first_name\": \"Nith\",\n",
            "            \"last_name\": \"\",\n",
            "            \"known_facts\": \"A lean notary who suspects the old cotter and his wife of being responsible for the disappearance of the cats.\"\n",
            "        },\n",
            "        {\n",
            "            \"first_name\": \"Atal\",\n",
            "            \"last_name\": \"\",\n",
            "            \"known_facts\": \"The innkeeper's son who claims to have seen all the cats of Ulthar pacing in a circle around the old cotter's cottage.\"\n",
            "        },\n",
            "        {\n",
            "            \"first_name\": \"Zath\",\n",
            "            \"last_name\": \"\",\n",
            "            \"known_facts\": \"The coroner who discusses the events with Nith and others after the discovery of the old couple's skeletons.\"\n",
            "        },\n",
            "        {\n",
            "            \"first_name\": \"Shang\",\n",
            "            \"last_name\": \"\",\n",
            "            \"known_facts\": \"The blacksmith who accompanies the burgomaster to the old couple's cottage and finds their skeletons.\"\n",
            "        },\n",
            "        {\n",
            "            \"first_name\": \"Thul\",\n",
            "            \"last_name\": \"\",\n",
            "            \"known_facts\": \"The cutter of stone who accompanies the burgomaster to the old couple's cottage and finds their skeletons.\"\n",
            "        }\n",
            "    ]\n",
            "}\n"
          ]
        }
      ],
      "source": [
        "from typing import List\n",
        "from pydantic import BaseModel\n",
        "from langchain.chains import create_extraction_chain_pydantic\n",
        "\n",
        "\n",
        "class Person(BaseModel):\n",
        "    first_name: str\n",
        "    last_name: str\n",
        "    known_facts: str\n",
        "\n",
        "class PersonGroup(BaseModel):\n",
        "    persons: List[Person]\n",
        "\n",
        "llm_large = ChatMistralAI(\n",
        "    api_key=api_key,\n",
        "    model=\"mistral-large-latest\" # Medium does not have function calling.\n",
        ")\n",
        "\n",
        "chain = llm_large.with_structured_output(PersonGroup)\n",
        "structured_output = chain.invoke(summary_prompt)\n",
        "print(structured_output)\n",
        "print()\n",
        "print(structured_output.model_dump_json(indent=4))"
      ]
    },
    {
      "cell_type": "code",
      "source": [
        "structured_output"
      ],
      "metadata": {
        "id": "ZlvPv3KuUDOh",
        "outputId": "909fe327-63de-429b-e903-1a24c9ba672b",
        "colab": {
          "base_uri": "https://localhost:8080/"
        }
      },
      "execution_count": 23,
      "outputs": [
        {
          "output_type": "execute_result",
          "data": {
            "text/plain": [
              "PersonGroup(persons=[Person(first_name='Menes', last_name='', known_facts='A little boy with a black kitten, part of a caravan of strange wanderers. His kitten goes missing in Ulthar, leading to a series of events that result in the disappearance of all cats in the village for a night and the mysterious death of an old couple known for killing cats.'), Person(first_name='Kranon', last_name='', known_facts=\"The burgomaster of Ulthar who suspects the dark folk of taking the cats away in revenge for the killing of Menes' kitten.\"), Person(first_name='Nith', last_name='', known_facts='A lean notary who suspects the old cotter and his wife of being responsible for the disappearance of the cats.'), Person(first_name='Atal', last_name='', known_facts=\"The innkeeper's son who claims to have seen all the cats of Ulthar pacing in a circle around the old cotter's cottage.\"), Person(first_name='Zath', last_name='', known_facts=\"The coroner who discusses the events with Nith and others after the discovery of the old couple's skeletons.\"), Person(first_name='Shang', last_name='', known_facts=\"The blacksmith who accompanies the burgomaster to the old couple's cottage and finds their skeletons.\"), Person(first_name='Thul', last_name='', known_facts=\"The cutter of stone who accompanies the burgomaster to the old couple's cottage and finds their skeletons.\")])"
            ]
          },
          "metadata": {},
          "execution_count": 23
        }
      ]
    },
    {
      "cell_type": "markdown",
      "metadata": {
        "id": "0dnb95WT4gpF"
      },
      "source": [
        "## Classification."
      ]
    },
    {
      "cell_type": "code",
      "execution_count": 24,
      "metadata": {
        "id": "-EAqmg8B4hFx",
        "outputId": "101e34f4-f2a2-459a-80f8-274661eab3ee",
        "colab": {
          "base_uri": "https://localhost:8080/"
        }
      },
      "outputs": [
        {
          "output_type": "stream",
          "name": "stdout",
          "text": [
            "I absolutely love this new restaurant! The food is amazing, and the service is top-notch.\n",
            "{'sentiment': 'positive', 'aggressiveness': 0, 'language': 'english', 'english_translation': 'I absolutely love this new restaurant! The food is amazing, and the service is top-notch.'}\n",
            "\n",
            "Le service client ici est terrible, et je ne reviendrai jamais.\n",
            "{'sentiment': 'negative', 'aggressiveness': 2, 'language': 'french', 'english_translation': 'The customer service here is terrible, and I will never come back.'}\n",
            "\n",
            "Ich bin gleichgültig gegenüber der neuen Politik; sie betrifft mich nicht wirklich.\n",
            "{'sentiment': 'neutral', 'aggressiveness': 0, 'language': 'german', 'english_translation': 'I am indifferent to the new policy; it does not really affect me.'}\n",
            "\n",
            "Your recent actions were completely unacceptable, and they have consequences.\n",
            "{'sentiment': 'negative', 'aggressiveness': 2, 'language': 'english', 'english_translation': 'Your recent actions were completely unacceptable, and they have consequences.'}\n",
            "\n",
            "Quel beau jour ! Je me sens si heureux et en paix.\n",
            "{'sentiment': 'positive', 'aggressiveness': 0, 'language': 'french', 'english_translation': 'What a beautiful day! I feel so happy and at peace.'}\n",
            "\n",
            "Die Art und Weise, wie Sie die Situation gehandhabt haben, war sehr enttäuschend und unprofessionell.\n",
            "{'sentiment': 'negative', 'aggressiveness': 1, 'language': 'german', 'english_translation': 'The way you handled the situation was very disappointing and unprofessional.'}\n",
            "\n",
            "Creo que la presentación estuvo bien, pero podría mejorar.\n",
            "{'sentiment': 'neutral', 'aggressiveness': 0, 'language': 'other', 'english_translation': 'I think the presentation was good, but it could be improved.'}\n",
            "\n",
            "You have no right to speak to me that way! It's utterly disrespectful.\n",
            "{'sentiment': 'negative', 'aggressiveness': 2, 'language': 'english', 'english_translation': \"You have no right to speak to me that way! It's utterly disrespectful.\"}\n",
            "\n",
            "Ce livre est très intéressant, et j'ai beaucoup aimé le lire.\n",
            "{'sentiment': 'positive', 'aggressiveness': 0, 'language': 'french', 'english_translation': 'This book is very interesting, and I really enjoyed reading it.'}\n",
            "\n",
            "Ihre Bemühungen bei dem Projekt waren bestenfalls mittelmäßig, und wir müssen das besprechen.\n",
            "{'sentiment': 'negative', 'aggressiveness': 1, 'language': 'german', 'english_translation': 'Your efforts on the project were mediocre at best, and we need to discuss it.'}\n",
            "\n",
            "Hab SoSlI' Quch!\n",
            "{'sentiment': 'neutral', 'aggressiveness': 0, 'language': 'other', 'english_translation': 'See you soon!'}\n",
            "\n"
          ]
        }
      ],
      "source": [
        "from pydantic import BaseModel, Field\n",
        "\n",
        "\n",
        "class Classification(BaseModel):\n",
        "    sentiment: str = Field(\n",
        "        ...,\n",
        "        description=\"describes the sentiment of the statement\",\n",
        "        enum=[\"negative\", \"neutral\", \"positive\"]\n",
        "    )\n",
        "    aggressiveness: int = Field(\n",
        "        ...,\n",
        "        description=\"describes how aggressive the statement is, the higher the number the more aggressive\",\n",
        "        enum=[0, 1, 2, 3],\n",
        "    )\n",
        "    language: str = Field(\n",
        "        ...,\n",
        "        description=\"describes the language of the statement\",\n",
        "        enum=[\"english\", \"french\", \"german\", \"other\"]\n",
        "    )\n",
        "    english_translation: str = Field(\n",
        "        ...,\n",
        "        description=\"the translation of the text in English if it applies.\"\n",
        "    )\n",
        "\n",
        "statements = [\n",
        "    \"I absolutely love this new restaurant! The food is amazing, and the service is top-notch.\",\n",
        "    \"Le service client ici est terrible, et je ne reviendrai jamais.\",\n",
        "    \"Ich bin gleichgültig gegenüber der neuen Politik; sie betrifft mich nicht wirklich.\",\n",
        "    \"Your recent actions were completely unacceptable, and they have consequences.\",\n",
        "    \"Quel beau jour ! Je me sens si heureux et en paix.\",\n",
        "    \"Die Art und Weise, wie Sie die Situation gehandhabt haben, war sehr enttäuschend und unprofessionell.\",\n",
        "    \"Creo que la presentación estuvo bien, pero podría mejorar.\",\n",
        "    \"You have no right to speak to me that way! It's utterly disrespectful.\",\n",
        "    \"Ce livre est très intéressant, et j'ai beaucoup aimé le lire.\",\n",
        "    \"Ihre Bemühungen bei dem Projekt waren bestenfalls mittelmäßig, und wir müssen das besprechen.\",\n",
        "    \"Hab SoSlI' Quch!\"\n",
        "]\n",
        "\n",
        "for statement in statements:\n",
        "    chain = llm_large.with_structured_output(Classification)\n",
        "    structured_output = chain.invoke(statement)\n",
        "    print(statement)\n",
        "    print(structured_output.dict())\n",
        "    print(\"\")"
      ]
    },
    {
      "cell_type": "markdown",
      "metadata": {
        "id": "MRHii9sOCE1V"
      },
      "source": [
        "## Tool use."
      ]
    },
    {
      "cell_type": "code",
      "execution_count": 25,
      "metadata": {
        "id": "NaF0q6CU9YGE",
        "outputId": "89722d90-973b-44ef-d138-649757a88b64",
        "colab": {
          "base_uri": "https://localhost:8080/"
        }
      },
      "outputs": [
        {
          "output_type": "stream",
          "name": "stdout",
          "text": [
            "sum_tool\n",
            "Sum up numbers.\n",
            "{'numbers': {'items': {}, 'title': 'Numbers', 'type': 'array'}}\n",
            "Expected: 1310383\n",
            "\n",
            "Without tools:\n",
            "content=\"To sum the numbers 42, 308423, 666, 1000000, 1729, -1245, and 768, you can simply add them together:\\n\\n\\\\[ 42 + 308423 + 666 + 1000000 + 1729 - 1245 + 768 \\\\]\\n\\nLet's do the calculation step by step:\\n\\n1. Add 42 and 308423:\\n   \\\\[ 42 + 308423 = 308465 \\\\]\\n\\n2. Add 308465 and 666:\\n   \\\\[ 308465 + 666 = 309131 \\\\]\\n\\n3. Add 309131 and 1000000:\\n   \\\\[ 309131 + 1000000 = 1309131 \\\\]\\n\\n4. Add 1309131 and 1729:\\n   \\\\[ 1309131 + 1729 = 1310860 \\\\]\\n\\n5. Subtract 1245 from 1310860:\\n   \\\\[ 1310860 - 1245 = 1309615 \\\\]\\n\\n6. Add 1309615 and 768:\\n   \\\\[ 1309615 + 768 = 1310383 \\\\]\\n\\nSo, the sum of the numbers is:\\n\\n\\\\[ 1310383 \\\\]\" additional_kwargs={} response_metadata={'token_usage': {'prompt_tokens': 97, 'total_tokens': 506, 'completion_tokens': 409}, 'model': 'mistral-large-latest', 'finish_reason': 'stop'} id='run-a9c5ef7d-49e4-4358-bf08-a7748f15c3f7-0' usage_metadata={'input_tokens': 97, 'output_tokens': 409, 'total_tokens': 506}\n",
            "\n",
            "With tools:\n",
            "content='' additional_kwargs={'tool_calls': [{'id': '1Kpu3eS8o', 'function': {'name': 'sum_tool', 'arguments': '{\"numbers\": [42, 308423, 666, 1000000, 1729, -1245, 768]}'}, 'index': 0}]} response_metadata={'token_usage': {'prompt_tokens': 161, 'total_tokens': 223, 'completion_tokens': 62}, 'model': 'mistral-large-latest', 'finish_reason': 'tool_calls'} id='run-37cb9afb-58db-4cf4-a549-ffcdca1c86b0-0' tool_calls=[{'name': 'sum_tool', 'args': {'numbers': [42, 308423, 666, 1000000, 1729, -1245, 768]}, 'id': '1Kpu3eS8o', 'type': 'tool_call'}] usage_metadata={'input_tokens': 161, 'output_tokens': 62, 'total_tokens': 223}\n",
            "1310383\n"
          ]
        }
      ],
      "source": [
        "from langchain_core.tools import tool\n",
        "\n",
        "@tool\n",
        "def sum_tool(numbers:list) -> int:\n",
        "    \"\"\"Sum up numbers.\"\"\"\n",
        "    return sum(numbers)\n",
        "\n",
        "print(sum_tool.name)\n",
        "print(sum_tool.description)\n",
        "print(sum_tool.args)\n",
        "\n",
        "numbers = [42, 308423, 666, 1_000_000, 1729, -1245, 768]\n",
        "numbers_string = \", \".join(str(n) for n in numbers)\n",
        "\n",
        "# Sanity.\n",
        "print(\"Expected:\", sum(numbers))\n",
        "print(\"\")\n",
        "\n",
        "# Create the prompts.\n",
        "system_prompt = f\"You are a friendly AI assistant that speaks English. You are good at math.\"\n",
        "sum_prompt = f\"Please sum up the following numbers: {numbers_string}.\"\n",
        "messages = [\n",
        "    SystemMessage(content=sum_prompt),\n",
        "    HumanMessage(content=numbers_string)\n",
        "]\n",
        "\n",
        "# Without tools.\n",
        "print(\"Without tools:\")\n",
        "print(llm_large.invoke(messages))\n",
        "print(\"\")\n",
        "\n",
        "# With tools.\n",
        "print(\"With tools:\")\n",
        "llm_small_with_tools = llm_large.bind_tools([sum_tool])\n",
        "print(llm_small_with_tools.invoke(messages))\n",
        "chain = llm_small_with_tools | (lambda x: x.tool_calls[0][\"args\"]) | sum_tool\n",
        "print(chain.invoke(messages))"
      ]
    },
    {
      "cell_type": "markdown",
      "metadata": {
        "id": "K59VlZkmDXkW"
      },
      "source": [
        "## Loading PDFs.\n"
      ]
    },
    {
      "cell_type": "code",
      "execution_count": 26,
      "metadata": {
        "id": "GQCVnkO88Inu",
        "outputId": "7aba573c-d00d-4eeb-ea15-78a58c45406b",
        "colab": {
          "base_uri": "https://localhost:8080/"
        }
      },
      "outputs": [
        {
          "output_type": "stream",
          "name": "stdout",
          "text": [
            "--2025-02-15 16:02:51--  https://www.pileface.com/sollers/pdf/Zarathustra.pdf\n",
            "Resolving www.pileface.com (www.pileface.com)... 46.105.204.11, 2001:41d0:1:1b00:213:186:33:40\n",
            "Connecting to www.pileface.com (www.pileface.com)|46.105.204.11|:443... connected.\n",
            "HTTP request sent, awaiting response... 200 OK\n",
            "Length: 683432 (667K) [application/pdf]\n",
            "Saving to: ‘Zarathustra.pdf’\n",
            "\n",
            "Zarathustra.pdf     100%[===================>] 667.41K  1.91MB/s    in 0.3s    \n",
            "\n",
            "2025-02-15 16:02:52 (1.91 MB/s) - ‘Zarathustra.pdf’ saved [683432/683432]\n",
            "\n",
            "Collecting pypdf\n",
            "  Downloading pypdf-5.3.0-py3-none-any.whl.metadata (7.2 kB)\n",
            "Downloading pypdf-5.3.0-py3-none-any.whl (300 kB)\n",
            "\u001b[2K   \u001b[90m━━━━━━━━━━━━━━━━━━━━━━━━━━━━━━━━━━━━━━━━\u001b[0m \u001b[32m300.7/300.7 kB\u001b[0m \u001b[31m6.7 MB/s\u001b[0m eta \u001b[36m0:00:00\u001b[0m\n",
            "\u001b[?25hInstalling collected packages: pypdf\n",
            "Successfully installed pypdf-5.3.0\n"
          ]
        }
      ],
      "source": [
        "!wget https://www.pileface.com/sollers/pdf/Zarathustra.pdf\n",
        "!pip install pypdf"
      ]
    },
    {
      "cell_type": "code",
      "execution_count": 27,
      "metadata": {
        "id": "H68EULy6Da4W",
        "outputId": "d186d4b3-7b9d-4d1c-a36f-1590a3cb650f",
        "colab": {
          "base_uri": "https://localhost:8080/"
        }
      },
      "outputs": [
        {
          "output_type": "stream",
          "name": "stdout",
          "text": [
            "1\n",
            "Friedrich Nietzsche \n",
            " \n",
            "Also sprach Zarathustra \n",
            " \n",
            "Ein Buch für Alle und Keinen \n",
            " \n",
            " \n",
            " \n",
            " \n",
            "Inhaltsverzeichnis \n",
            " \n",
            "  Erster Theil \n",
            "      Zarathustra's Vorrede \n",
            "    Die Reden Zarathustra's \n",
            "      Von den drei Verwandlungen \n",
            "      Von den Lehrstühlen der Tugend \n",
            "      Von den Hinterweltlern \n",
            "      Von den Verächtern des Leibes \n",
            "      Von den Freuden- und Leidenschaften \n",
            "      Vom bleichen Verbrecher \n",
            "      Vom Lesen und Schreiben \n",
            "      Vom Baum am Berge \n",
            "      Von den Predigern des Todes \n",
            "      Vom Krieg und Kriegsvolke \n",
            "      Vom neuen Götzen \n",
            "      Von den Fliegen des Marktes \n",
            "      Von der Keuschheit \n",
            "      Vom Freunde \n",
            "      Von tausend und Einem Ziele \n",
            "      Von der Nächstenliebe \n",
            "      Vom Wege des Schaffenden \n",
            "      Von alten und jungen Weiblein \n",
            "      Vom Biss der Natter \n",
            "      Von Kind und Ehe \n",
            "      Vom freien Tode \n",
            "      Von der schenkenden Tugend \n",
            "  Zweiter Theil \n",
            "      Das Kind mit dem Spiegel \n",
            "      Auf den glückseligen Inseln \n",
            "      Von den Mitleidigen \n",
            "      Von den Priestern \n",
            "      Von den Tugendhaften \n",
            "      Vom Gesindel \n",
            "      Von den Taranteln \n",
            "      Von den berühmten Weisen \n",
            "      Das Nachtlied \n",
            "      Das Tanzlied \n",
            "      Das Grablied \n",
            "      Von der Selbst-Überwindung\n",
            "\n",
            "2\n",
            "      Von den Erhabenen \n",
            "      Vom Lande der Bildung \n",
            "      Von der unbefleckten Erkenntniss \n",
            "      Von den Gelehrten \n",
            "      Von den Dichtern \n",
            "      Von grossen Ereignissen \n",
            "      Der Wahrsager \n",
            "      Von der Erlösing \n",
            "      Von der Menschen-Klugheit \n",
            "      Die stillste Stunde \n",
            "  Dritter Theil \n",
            "      Der Wanderer \n",
            "      Vom Gesicht und Räthsel \n",
            "      Von der Seligkeit wider Willen \n",
            "      Vor Sonnen-Aufgang \n",
            "      Von der verkleinernden Tugend \n",
            "      Auf dem Ölberge \n",
            "      Vom Vorübergehen \n",
            "      Von den Abtrünnigen \n",
            "      Die Heimkehr \n",
            "      Von den drei Bösen \n",
            "      Vom Geist der Schwere \n",
            "      Von alten und neuen Tafeln \n",
            "      Der Genesende \n",
            "      Von der grossen Sehnsucht \n",
            "      Das andere Tanzlied \n",
            "      Die sieben Siegel (Oder: das Ja- und Amen-Lied) \n",
            "  Vierter und letzter Theil \n",
            "     Das Honig-Opfer \n",
            "     Der Nothschrei \n",
            "     Gespräch mit den Königen \n",
            "     Der Blutegel \n",
            "     Der Zauberer \n",
            "     Ausser Dienst \n",
            "     Der hässlichste Mensch \n",
            "     Der freiwillige Bettler \n",
            "     Der Schatten \n",
            "     Mittags \n",
            "     Die Begrüssung \n",
            "     Das Abendmahl \n",
            "     Vom höheren Menschen \n",
            "     Das Lied der Schwermuth \n",
            "     Von der Wissenschaft \n",
            "     Unter Töchtern der Wüste \n",
            "     Die Erweckung \n",
            "     Das Eselsfest \n",
            "     Das Nachtwandler-Lied \n",
            "     Das Zeichen\n",
            "\n"
          ]
        }
      ],
      "source": [
        "from langchain_community.document_loaders import PyPDFLoader\n",
        "\n",
        "loader = PyPDFLoader(\"Zarathustra.pdf\")\n",
        "pages = loader.load_and_split()\n",
        "\n",
        "for page in pages[:2]:\n",
        "    print(page.page_content)\n",
        "    print(\"\")"
      ]
    },
    {
      "cell_type": "markdown",
      "metadata": {
        "id": "vhcpTXk3F3w3"
      },
      "source": [
        "## Web Loader"
      ]
    },
    {
      "cell_type": "code",
      "execution_count": 28,
      "metadata": {
        "id": "-J6Q1o87DrFZ",
        "outputId": "a038ef71-ab5e-446d-a0d7-3e3deff15331",
        "colab": {
          "base_uri": "https://localhost:8080/"
        }
      },
      "outputs": [
        {
          "output_type": "stream",
          "name": "stdout",
          "text": [
            "Heilbronn – Wikipedia\n",
            "\n",
            "\n",
            "\n",
            "\n",
            "\n",
            "\n",
            "\n",
            "\n",
            "\n",
            "\n",
            "\n",
            "\n",
            "\n",
            "\n",
            "\n",
            "\n",
            "\n",
            "\n",
            "\n",
            "\n",
            "\n",
            "\n",
            "\n",
            "\n",
            "\n",
            "\n",
            "\n",
            "\n",
            "\n",
            "\n",
            "\n",
            "\n",
            "\n",
            "\n",
            "\n",
            "\n",
            "\n",
            "\n",
            "\n",
            "\n",
            "\n",
            "\n",
            "\n",
            "\n",
            "Heilbronn\n",
            "\n",
            "aus Wikipedia, der freien Enzyklopädie\n",
            "\n",
            "\n",
            "\n",
            "Zur Navigation springen\n",
            "Zur Suche springen\n",
            "\n",
            "\n",
            "\n",
            "Der Titel dieses Artikels ist mehrdeutig. Weitere Bedeutungen sind unter Heilbronn (Begriffsklärung) aufgeführt.\n",
            "\n",
            "\n",
            "\n",
            "Wappen\n",
            "\n",
            "Deutschlandkarte\n",
            "\n",
            "\n",
            "\n",
            "\n",
            "\n",
            "\n",
            "\n",
            "\n",
            "\n",
            "\n",
            "\n",
            "Basisdaten\n",
            "\n",
            "\n",
            "Koordinaten:\n",
            "\n",
            "49° 9′ N, 9° 13′ O49.1416666666679.2222222222222157Koordinaten: 49° 9′ N, 9° 13′ O\n",
            "\n",
            "\n",
            "Bundesland:\n",
            "Baden-Württemberg\n",
            "\n",
            "\n",
            "Regierungsbezirk:\n",
            "\n",
            "Stuttgart\n",
            "\n",
            "\n",
            "Höhe:\n",
            "\n",
            "157 m ü. NHN\n",
            "\n",
            "\n",
            "Fläche:\n",
            "\n",
            "99,9 km2\n",
            "\n",
            "\n",
            "Einwohner:\n",
            "\n",
            "130.093 (31. Dez. 2023)[1]\n",
            "\n",
            "\n",
            "Bevölkerungsdichte:\n",
            "\n",
            "1302 Einwohner je km2\n",
            "\n",
            "\n",
            "Postleitzahlen:\n",
            "\n",
            "74072–74081\n",
            "\n",
            "\n",
            "Vorwahlen:\n",
            "\n",
            "07131, 07066\n",
            "\n",
            "\n",
            "Kfz-Kennzeichen:\n",
            "\n",
            "HN\n",
            "\n",
            "\n",
            "Gemeindeschlüssel:\n",
            "\n",
            "08 1 21 000\n",
            "\n",
            "\n",
            "LOCODE:\n",
            "\n",
            "DE HEN\n",
            "\n",
            "\n",
            "NUTS:\n",
            "\n",
            "DE117\n",
            "\n",
            "\n",
            "Stadtgliederung:\n",
            "\n",
            "9 Stadtteile\n",
            "\n",
            "\n",
            "Adresse der Stadtverwaltung:\n",
            "\n",
            "Marktplatz 774072 Heilbronn\n",
            "\n",
            "\n",
            "Website:\n",
            "\n",
            "www.heilbronn.de\n",
            "\n",
            "\n",
            "Oberbürgermeister:\n",
            "\n",
            "Harry Mergel (SPD)\n",
            "\n",
            "\n",
            "Lage der Stadt Heilbronn in Baden-Württemberg\n",
            "\n",
            "\n",
            "Karte\n",
            "\n",
            "Blick über die Heilbronner Innenstadt in Richtung Wartberg\n",
            "Heilbronn ([haɪ̯lˈbʁɔn] ) ist eine Großstadt im Norden Baden-Württembergs und mit 130.093 Einwohnern (31. Dezember 2023) die sechstgrößte Stadt des Bundeslandes. Die Stadt liegt am Neckar, etwa 50 Kilometer nördlich der Landeshauptstadt Stuttgart, ist ein eigener Stadtkreis und darüber hinaus Sitz des Landkreises Heilbronn, der sie vollständig umgibt. Außerdem ist Heilbronn Oberzentrum der Region Heilbronn-Franken (bis 20. Mai 2003 Region Franken), die den Nordosten Baden-Württembergs umfasst, und gehört zur Randzone der europäischen Metropolregion Stuttgart. Die Gegend um Heilbronn wird in der weiteren Region meistens das Unterland genannt.\n",
            "Erstmals 741 erwähnt, erlangte Heilbronn 1371 den Status der Reichsstadt und entwickelte sich aufgrund seiner Lage am Neckar ab dem späten Mittelalter zu einem bedeutenden Handelsplatz. Zu Beginn des 19. Jahrhunderts wurde Heilbronn eines der Zentren der frühen Industrialisierung in Württemberg. Die Heilbronner Altstadt wurde beim Luftangriff vom 4. Dezember 1944 fast vollständig zerstört und in den 1950er Jahren wieder errichtet. Aus dieser Zeit stammen heute die meisten Bauwerke der Innenstadt.\n",
            "Heilbronn ist wegen seiner ausgedehnten Rebflächen bekannt als Stadt des Weins. Die Stadt wird auch Käthchenstadt genannt, nach der Titelperson in Heinrich von Kleists Schauspiel Das Käthchen von Heilbronn.\n",
            "Zum 1. Februar 2020 verlieh das Innenministerium Baden-Württemberg der Stadt Heilbronn die Bezeichnung Universitätsstadt.[2]\n",
            "\n",
            "Inhaltsverzeichnis\n",
            "\n",
            "1 Geographie\n",
            "\n",
            "1.1 Geographische Lage\n",
            "1.2 Geologie\n",
            "1.3 Nachbargemeinden\n",
            "1.4 Stadtgliederung\n",
            "1.5 Flächenaufteilung\n",
            "1.6 Naturschutz\n",
            "1.7 Klima\n",
            "1.8 Raumplanung\n",
            "\n",
            "\n",
            "2 Geschichte\n",
            "\n",
            "2.1 Besiedlung und Stadtgründung\n",
            "2.2 Reichsstadt ab 1371\n",
            "2.3 Württembergische Oberamtsstadt ab 1802\n",
            "2.4 Zeit des Nationalsozialismus und Zweiter Weltkrieg\n",
            "2.5 Zweite Hälfte des 20. Jahrhunderts\n",
            "2.6 21. Jahrhundert\n",
            "2.7 Religionen\n",
            "\n",
            "2.7.1 Konfessionsstatistik\n",
            "2.7.2 Protestanten\n",
            "2.7.3 Katholiken\n",
            "2.7.4 Juden\n",
            "2.7.5 Muslime\n",
            "2.7.6 Sonstige\n",
            "\n",
            "\n",
            "2.8 Eingemeindungen\n",
            "2.9 Einwohnerentwicklung\n",
            "\n",
            "\n",
            "3 Politik\n",
            "\n",
            "3.1 Gemeinderat\n",
            "3.2 Stadtoberhaupt\n",
            "3.3 Wappen und Flagge\n",
            "3.4 Städtepartnerschaften\n",
            "3.5 Abgeordnete aus Heilbronn\n",
            "3.6 Heilbronn als Namensgeberin\n",
            "\n",
            "\n",
            "4 Kultur und Sehenswürdigkeiten\n",
            "\n",
            "4.1 Bauwerke\n",
            "\n",
            "4.1.1 Kirchen\n",
            "4.1.2 Historische Gebäude der Innenstadt\n",
            "4.1.3 Historische Gebäude außerhalb der Innenstadt\n",
            "4.1.4 Türme\n",
            "4.1.5 Brunnen und Denkmäler\n",
            "4.1.6 Villen\n",
            "\n",
            "\n",
            "4.2 Kultur\n",
            "4.3 Museen\n",
            "4.4 Kunst im öffentlichen Raum\n",
            "4.5 Theater\n",
            "4.6 Musik\n",
            "4.7 Parks und Grünanlagen\n",
            "4.8 Regelmäßige Veranstaltungen\n",
            "4.9 Sport\n",
            "\n",
            "\n",
            "5 Wirtschaft und Infrastruktur\n",
            "\n",
            "5.1 Industrie\n",
            "5.2 Handel\n",
            "5.3 Banken und Versicherungen\n",
            "5.4 Bergbau\n",
            "5.5 Lebensmittel\n",
            "5.6 Weinbau\n",
            "5.7 Gastgewerbe\n",
            "5.8 Ver- und Entsorgung\n",
            "5.9 Medien\n",
            "5.10 Logistik\n",
            "5.11 Verkehr\n",
            "\n",
            "5.11.1 Straße\n",
            "5.11.2 Eisenbahn\n",
            "5.11.3 Öffentlicher Personennahverkehr\n",
            "5.11.4 Schifffahrt\n",
            "5.11.5 Luftfahrt\n",
            "5.11.6 Radverkehr\n",
            "\n",
            "5.11.1 Straße\n",
            "5.11.2 Eisenbahn\n",
            "5.11.3 Öffentlicher Personennahverkehr\n",
            "5.11.4 Schifffahrt\n",
            "5.11.5 Luftfahrt\n",
            "5.11.6 Radverkehr\n",
            "\n",
            "\n",
            "5.12 Behörden, Gerichte und Einrichtungen\n",
            "5.13 Bildung\n",
            "\n",
            "5.13.1 Hochschulen\n",
            "5.13.2 Schulen\n",
            "5.13.3 Kindergärten\n",
            "\n",
            "\n",
            "\n",
            "\n",
            "6 Persönlichkeiten\n",
            "\n",
            "6.1 Ehrenbürger der Stadt Heilbronn\n",
            "6.2 Ehrenringträger\n",
            "6.3 Söhne und Töchter der Stadt (Auswahl)\n",
            "\n",
            "\n",
            "7 Siehe auch\n",
            "8 Literatur\n",
            "9 Weblinks\n",
            "10 Einzelnachweise\n",
            "\n",
            "\n",
            "Geographie[Bearbeiten | Quelltext bearbeiten]\n",
            "Heilbronn und seine Nachbarorte\n",
            "Geographische Lage[Bearbeiten | Quelltext bearbeiten]\n",
            "Die Kernstadt von Heilbronn liegt in der vom Neckar geschaffenen, fruchtbaren Talfläche des Heilbronner Beckens, einem nördlichen Ausläufer des Neckarbeckens. Im Westen schließt sich das vergleichsweise wenig hügelige Gartacher Feld an. Im Osten umschließen von Norden nach Süden als Ausläufer der Löwensteiner Berge die Heilbronner Berge[3] die Stadt, an deren Hängen sich ausgedehnte Weinberglandschaften befinden; dazu gehören unter anderem die Erhebungen Büchelberg, Galgenberg, Gaffenberg, Hintersberg, Reisberg, Schweinsberg und Wartberg. Nördlich davon liegt die Sulmer Bergebene.\n",
            "Der höchste Punkt des Stadtgebiets liegt auf dem in der äußersten südöstlichen Spitze des Stadtwaldes gelegenen, 378 m ü. NN hohen Reisberg, die zweithöchste Erhebung ist mit 372,8 m der Schweinsberg. Ihren tiefsten Punkt erreicht die Gemarkung mit 151 m am Neckar an der Gemarkungsgrenze zu Neckarsulm. Das Stadtgebiet dehnt sich in Nord-Süd-Richtung über 13 Kilometer, in Ost-West-Richtung über 19 Kilometer aus.[4] Heilbronn hat Anteil an den drei Naturräumen Neckarbecken, Kraichgau und Schwäbisch-Fränkische Waldberge.[5]\n",
            "Der Heilbronner Dialekt ist eine Variante des südfränkischen Dialekts in der Übergangszone zur Alemannischen Dialektgruppe.\n",
            "\n"
          ]
        }
      ],
      "source": [
        "from langchain_community.document_loaders import WebBaseLoader\n",
        "\n",
        "loader = WebBaseLoader(\"https://de.wikipedia.org/wiki/Heilbronn\")\n",
        "\n",
        "pages = loader.load_and_split()\n",
        "\n",
        "for page in pages[:2]:\n",
        "    print(page.page_content)\n",
        "    print(\"\")"
      ]
    },
    {
      "cell_type": "markdown",
      "metadata": {
        "id": "kmb2CaNrHMtj"
      },
      "source": [
        "## Gradio chat.\n",
        "\n",
        "https://www.gradio.app/"
      ]
    },
    {
      "cell_type": "code",
      "execution_count": 29,
      "metadata": {
        "id": "o6mikqJhHMM9",
        "outputId": "96ad4d53-3877-43a8-cfce-5e6144cafe5e",
        "colab": {
          "base_uri": "https://localhost:8080/"
        }
      },
      "outputs": [
        {
          "output_type": "stream",
          "name": "stdout",
          "text": [
            "Collecting gradio\n",
            "  Downloading gradio-5.16.0-py3-none-any.whl.metadata (16 kB)\n",
            "Collecting aiofiles<24.0,>=22.0 (from gradio)\n",
            "  Downloading aiofiles-23.2.1-py3-none-any.whl.metadata (9.7 kB)\n",
            "Requirement already satisfied: anyio<5.0,>=3.0 in /usr/local/lib/python3.11/dist-packages (from gradio) (3.7.1)\n",
            "Requirement already satisfied: fastapi<1.0,>=0.115.2 in /usr/local/lib/python3.11/dist-packages (from gradio) (0.115.8)\n",
            "Collecting ffmpy (from gradio)\n",
            "  Downloading ffmpy-0.5.0-py3-none-any.whl.metadata (3.0 kB)\n",
            "Collecting gradio-client==1.7.0 (from gradio)\n",
            "  Downloading gradio_client-1.7.0-py3-none-any.whl.metadata (7.1 kB)\n",
            "Requirement already satisfied: httpx>=0.24.1 in /usr/local/lib/python3.11/dist-packages (from gradio) (0.28.1)\n",
            "Requirement already satisfied: huggingface-hub>=0.28.1 in /usr/local/lib/python3.11/dist-packages (from gradio) (0.28.1)\n",
            "Requirement already satisfied: jinja2<4.0 in /usr/local/lib/python3.11/dist-packages (from gradio) (3.1.5)\n",
            "Collecting markupsafe~=2.0 (from gradio)\n",
            "  Downloading MarkupSafe-2.1.5-cp311-cp311-manylinux_2_17_x86_64.manylinux2014_x86_64.whl.metadata (3.0 kB)\n",
            "Requirement already satisfied: numpy<3.0,>=1.0 in /usr/local/lib/python3.11/dist-packages (from gradio) (1.26.4)\n",
            "Requirement already satisfied: orjson~=3.0 in /usr/local/lib/python3.11/dist-packages (from gradio) (3.10.15)\n",
            "Requirement already satisfied: packaging in /usr/local/lib/python3.11/dist-packages (from gradio) (24.2)\n",
            "Requirement already satisfied: pandas<3.0,>=1.0 in /usr/local/lib/python3.11/dist-packages (from gradio) (2.2.2)\n",
            "Requirement already satisfied: pillow<12.0,>=8.0 in /usr/local/lib/python3.11/dist-packages (from gradio) (11.1.0)\n",
            "Requirement already satisfied: pydantic>=2.0 in /usr/local/lib/python3.11/dist-packages (from gradio) (2.10.6)\n",
            "Collecting pydub (from gradio)\n",
            "  Downloading pydub-0.25.1-py2.py3-none-any.whl.metadata (1.4 kB)\n",
            "Collecting python-multipart>=0.0.18 (from gradio)\n",
            "  Downloading python_multipart-0.0.20-py3-none-any.whl.metadata (1.8 kB)\n",
            "Requirement already satisfied: pyyaml<7.0,>=5.0 in /usr/local/lib/python3.11/dist-packages (from gradio) (6.0.2)\n",
            "Collecting ruff>=0.9.3 (from gradio)\n",
            "  Downloading ruff-0.9.6-py3-none-manylinux_2_17_x86_64.manylinux2014_x86_64.whl.metadata (25 kB)\n",
            "Collecting safehttpx<0.2.0,>=0.1.6 (from gradio)\n",
            "  Downloading safehttpx-0.1.6-py3-none-any.whl.metadata (4.2 kB)\n",
            "Collecting semantic-version~=2.0 (from gradio)\n",
            "  Downloading semantic_version-2.10.0-py2.py3-none-any.whl.metadata (9.7 kB)\n",
            "Requirement already satisfied: starlette<1.0,>=0.40.0 in /usr/local/lib/python3.11/dist-packages (from gradio) (0.45.3)\n",
            "Collecting tomlkit<0.14.0,>=0.12.0 (from gradio)\n",
            "  Downloading tomlkit-0.13.2-py3-none-any.whl.metadata (2.7 kB)\n",
            "Requirement already satisfied: typer<1.0,>=0.12 in /usr/local/lib/python3.11/dist-packages (from gradio) (0.15.1)\n",
            "Requirement already satisfied: typing-extensions~=4.0 in /usr/local/lib/python3.11/dist-packages (from gradio) (4.12.2)\n",
            "Requirement already satisfied: uvicorn>=0.14.0 in /usr/local/lib/python3.11/dist-packages (from gradio) (0.34.0)\n",
            "Requirement already satisfied: fsspec in /usr/local/lib/python3.11/dist-packages (from gradio-client==1.7.0->gradio) (2024.10.0)\n",
            "Requirement already satisfied: websockets<15.0,>=10.0 in /usr/local/lib/python3.11/dist-packages (from gradio-client==1.7.0->gradio) (14.2)\n",
            "Requirement already satisfied: idna>=2.8 in /usr/local/lib/python3.11/dist-packages (from anyio<5.0,>=3.0->gradio) (3.10)\n",
            "Requirement already satisfied: sniffio>=1.1 in /usr/local/lib/python3.11/dist-packages (from anyio<5.0,>=3.0->gradio) (1.3.1)\n",
            "Requirement already satisfied: certifi in /usr/local/lib/python3.11/dist-packages (from httpx>=0.24.1->gradio) (2025.1.31)\n",
            "Requirement already satisfied: httpcore==1.* in /usr/local/lib/python3.11/dist-packages (from httpx>=0.24.1->gradio) (1.0.7)\n",
            "Requirement already satisfied: h11<0.15,>=0.13 in /usr/local/lib/python3.11/dist-packages (from httpcore==1.*->httpx>=0.24.1->gradio) (0.14.0)\n",
            "Requirement already satisfied: filelock in /usr/local/lib/python3.11/dist-packages (from huggingface-hub>=0.28.1->gradio) (3.17.0)\n",
            "Requirement already satisfied: requests in /usr/local/lib/python3.11/dist-packages (from huggingface-hub>=0.28.1->gradio) (2.32.3)\n",
            "Requirement already satisfied: tqdm>=4.42.1 in /usr/local/lib/python3.11/dist-packages (from huggingface-hub>=0.28.1->gradio) (4.67.1)\n",
            "Requirement already satisfied: python-dateutil>=2.8.2 in /usr/local/lib/python3.11/dist-packages (from pandas<3.0,>=1.0->gradio) (2.8.2)\n",
            "Requirement already satisfied: pytz>=2020.1 in /usr/local/lib/python3.11/dist-packages (from pandas<3.0,>=1.0->gradio) (2025.1)\n",
            "Requirement already satisfied: tzdata>=2022.7 in /usr/local/lib/python3.11/dist-packages (from pandas<3.0,>=1.0->gradio) (2025.1)\n",
            "Requirement already satisfied: annotated-types>=0.6.0 in /usr/local/lib/python3.11/dist-packages (from pydantic>=2.0->gradio) (0.7.0)\n",
            "Requirement already satisfied: pydantic-core==2.27.2 in /usr/local/lib/python3.11/dist-packages (from pydantic>=2.0->gradio) (2.27.2)\n",
            "Requirement already satisfied: click>=8.0.0 in /usr/local/lib/python3.11/dist-packages (from typer<1.0,>=0.12->gradio) (8.1.8)\n",
            "Requirement already satisfied: shellingham>=1.3.0 in /usr/local/lib/python3.11/dist-packages (from typer<1.0,>=0.12->gradio) (1.5.4)\n",
            "Requirement already satisfied: rich>=10.11.0 in /usr/local/lib/python3.11/dist-packages (from typer<1.0,>=0.12->gradio) (13.9.4)\n",
            "Requirement already satisfied: six>=1.5 in /usr/local/lib/python3.11/dist-packages (from python-dateutil>=2.8.2->pandas<3.0,>=1.0->gradio) (1.17.0)\n",
            "Requirement already satisfied: markdown-it-py>=2.2.0 in /usr/local/lib/python3.11/dist-packages (from rich>=10.11.0->typer<1.0,>=0.12->gradio) (3.0.0)\n",
            "Requirement already satisfied: pygments<3.0.0,>=2.13.0 in /usr/local/lib/python3.11/dist-packages (from rich>=10.11.0->typer<1.0,>=0.12->gradio) (2.18.0)\n",
            "Requirement already satisfied: charset-normalizer<4,>=2 in /usr/local/lib/python3.11/dist-packages (from requests->huggingface-hub>=0.28.1->gradio) (3.4.1)\n",
            "Requirement already satisfied: urllib3<3,>=1.21.1 in /usr/local/lib/python3.11/dist-packages (from requests->huggingface-hub>=0.28.1->gradio) (2.3.0)\n",
            "Requirement already satisfied: mdurl~=0.1 in /usr/local/lib/python3.11/dist-packages (from markdown-it-py>=2.2.0->rich>=10.11.0->typer<1.0,>=0.12->gradio) (0.1.2)\n",
            "Downloading gradio-5.16.0-py3-none-any.whl (62.2 MB)\n",
            "\u001b[2K   \u001b[90m━━━━━━━━━━━━━━━━━━━━━━━━━━━━━━━━━━━━━━━━\u001b[0m \u001b[32m62.2/62.2 MB\u001b[0m \u001b[31m6.8 MB/s\u001b[0m eta \u001b[36m0:00:00\u001b[0m\n",
            "\u001b[?25hDownloading gradio_client-1.7.0-py3-none-any.whl (321 kB)\n",
            "\u001b[2K   \u001b[90m━━━━━━━━━━━━━━━━━━━━━━━━━━━━━━━━━━━━━━━━\u001b[0m \u001b[32m321.9/321.9 kB\u001b[0m \u001b[31m20.0 MB/s\u001b[0m eta \u001b[36m0:00:00\u001b[0m\n",
            "\u001b[?25hDownloading aiofiles-23.2.1-py3-none-any.whl (15 kB)\n",
            "Downloading MarkupSafe-2.1.5-cp311-cp311-manylinux_2_17_x86_64.manylinux2014_x86_64.whl (28 kB)\n",
            "Downloading python_multipart-0.0.20-py3-none-any.whl (24 kB)\n",
            "Downloading ruff-0.9.6-py3-none-manylinux_2_17_x86_64.manylinux2014_x86_64.whl (12.5 MB)\n",
            "\u001b[2K   \u001b[90m━━━━━━━━━━━━━━━━━━━━━━━━━━━━━━━━━━━━━━━━\u001b[0m \u001b[32m12.5/12.5 MB\u001b[0m \u001b[31m31.6 MB/s\u001b[0m eta \u001b[36m0:00:00\u001b[0m\n",
            "\u001b[?25hDownloading safehttpx-0.1.6-py3-none-any.whl (8.7 kB)\n",
            "Downloading semantic_version-2.10.0-py2.py3-none-any.whl (15 kB)\n",
            "Downloading tomlkit-0.13.2-py3-none-any.whl (37 kB)\n",
            "Downloading ffmpy-0.5.0-py3-none-any.whl (6.0 kB)\n",
            "Downloading pydub-0.25.1-py2.py3-none-any.whl (32 kB)\n",
            "Installing collected packages: pydub, tomlkit, semantic-version, ruff, python-multipart, markupsafe, ffmpy, aiofiles, safehttpx, gradio-client, gradio\n",
            "  Attempting uninstall: markupsafe\n",
            "    Found existing installation: MarkupSafe 3.0.2\n",
            "    Uninstalling MarkupSafe-3.0.2:\n",
            "      Successfully uninstalled MarkupSafe-3.0.2\n",
            "Successfully installed aiofiles-23.2.1 ffmpy-0.5.0 gradio-5.16.0 gradio-client-1.7.0 markupsafe-2.1.5 pydub-0.25.1 python-multipart-0.0.20 ruff-0.9.6 safehttpx-0.1.6 semantic-version-2.10.0 tomlkit-0.13.2\n"
          ]
        }
      ],
      "source": [
        "!pip install gradio"
      ]
    },
    {
      "cell_type": "code",
      "source": [
        "!pip install multipart"
      ],
      "metadata": {
        "id": "G1JjTQhQlYTO",
        "outputId": "73fb01dd-155e-4cde-cfa7-be56e9f08ec1",
        "colab": {
          "base_uri": "https://localhost:8080/"
        }
      },
      "execution_count": 30,
      "outputs": [
        {
          "output_type": "stream",
          "name": "stdout",
          "text": [
            "Collecting multipart\n",
            "  Downloading multipart-1.2.1-py3-none-any.whl.metadata (4.4 kB)\n",
            "Downloading multipart-1.2.1-py3-none-any.whl (13 kB)\n",
            "Installing collected packages: multipart\n",
            "Successfully installed multipart-1.2.1\n"
          ]
        }
      ]
    },
    {
      "cell_type": "code",
      "execution_count": 31,
      "metadata": {
        "id": "qFolpDDPFu9c",
        "outputId": "1f773bf7-3428-4491-860a-6600456a9d60",
        "colab": {
          "base_uri": "https://localhost:8080/",
          "height": 646
        }
      },
      "outputs": [
        {
          "output_type": "stream",
          "name": "stdout",
          "text": [
            "Running Gradio in a Colab notebook requires sharing enabled. Automatically setting `share=True` (you can turn this off by setting `share=False` in `launch()` explicitly).\n",
            "\n",
            "Colab notebook detected. To show errors in colab notebook, set debug=True in launch()\n",
            "* Running on public URL: https://080fa4a4ddecefcc05.gradio.live\n",
            "\n",
            "This share link expires in 72 hours. For free permanent hosting and GPU upgrades, run `gradio deploy` from the terminal in the working directory to deploy to Hugging Face Spaces (https://huggingface.co/spaces)\n"
          ]
        },
        {
          "output_type": "display_data",
          "data": {
            "text/plain": [
              "<IPython.core.display.HTML object>"
            ],
            "text/html": [
              "<div><iframe src=\"https://080fa4a4ddecefcc05.gradio.live\" width=\"100%\" height=\"500\" allow=\"autoplay; camera; microphone; clipboard-read; clipboard-write;\" frameborder=\"0\" allowfullscreen></iframe></div>"
            ]
          },
          "metadata": {}
        },
        {
          "output_type": "execute_result",
          "data": {
            "text/plain": []
          },
          "metadata": {},
          "execution_count": 31
        }
      ],
      "source": [
        "import gradio as gr\n",
        "\n",
        "def predict(message, history):\n",
        "    history_langchain_format = []\n",
        "    for human, ai in history:\n",
        "        history_langchain_format.append(HumanMessage(content=human))\n",
        "        history_langchain_format.append(AIMessage(content=ai))\n",
        "    history_langchain_format.append(HumanMessage(content=message))\n",
        "    gpt_response = llm(history_langchain_format)\n",
        "    return gpt_response.content\n",
        "\n",
        "gr.ChatInterface(predict).launch()"
      ]
    },
    {
      "cell_type": "markdown",
      "metadata": {
        "id": "j9b7VMDSOheU"
      },
      "source": [
        "## Vector Databases."
      ]
    },
    {
      "cell_type": "code",
      "execution_count": 33,
      "metadata": {
        "id": "Fpam-59rp6I9",
        "outputId": "ac1a7f56-cd23-4c29-e5df-125fe24ec2ff",
        "colab": {
          "base_uri": "https://localhost:8080/",
          "height": 502
        }
      },
      "outputs": [
        {
          "output_type": "stream",
          "name": "stdout",
          "text": [
            "1024\n",
            "[-0.01514434814453125, 0.0693359375, 0.00945281982421875, 0.017547607421875, 0.05352783203125, 0.00849151611328125, 0.0325927734375, -0.0024852752685546875, 0.006916046142578125, 0.0026397705078125, -0.03167724609375, 0.076171875, 0.006927490234375, -0.014556884765625, -0.04052734375, 0.0384521484375, 0.024383544921875, 0.022674560546875, 0.032806396484375, 0.037322998046875, -0.043121337890625, -0.01555633544921875, -0.0341796875, 0.00901031494140625, -0.0190582275390625, -0.0107574462890625, -0.0188140869140625, -0.03912353515625, -0.05078125, 0.0154876708984375, 0.01424407958984375, -0.051055908203125, 0.027618408203125, -0.00839996337890625, 0.0054168701171875, -0.017852783203125, -0.0382080078125, -0.01544189453125, 0.01277923583984375, -0.0033092498779296875, 0.003170013427734375, -0.0355224609375, -0.01605224609375, -0.0025234222412109375, -0.036956787109375, -0.0279388427734375, -0.022186279296875, -0.0163726806640625, -0.028717041015625, -0.04315185546875, 0.0121307373046875, 0.045166015625, 0.0526123046875, 0.01080322265625, -0.006847381591796875, -0.0063934326171875, 0.0089569091796875, -0.0095367431640625, -0.039581298828125, 0.016143798828125, -0.0288543701171875, -0.03125, -0.01148223876953125, 0.01371002197265625, 0.04449462890625, 0.0201263427734375, -0.015899658203125, -0.00856781005859375, -0.00017523765563964844, 0.0153350830078125, 0.033599853515625, -0.00640106201171875, -0.020904541015625, 0.019561767578125, 0.0008387565612792969, -0.058349609375, -0.01016998291015625, -0.00522613525390625, 0.028564453125, -0.0306549072265625, -0.0097503662109375, 0.0272674560546875, 0.08233642578125, -0.084228515625, 0.00848388671875, -0.01030731201171875, 0.0321044921875, -0.0183868408203125, 0.0017108917236328125, 0.0023670196533203125, 0.0131683349609375, 0.0052947998046875, -0.035003662109375, -0.00780487060546875, 0.0156707763671875, 0.031768798828125, -0.052490234375, 0.00794219970703125, -0.005046844482421875, 0.0235748291015625, 0.0245361328125, -0.0163116455078125, 0.052947998046875, -0.023040771484375, 0.0220184326171875, -0.0243377685546875, -0.0295562744140625, 0.008880615234375, -0.05560302734375, -0.03912353515625, -0.0960693359375, -0.00228118896484375, -0.013671875, -0.055694580078125, -0.00634002685546875, -0.01206207275390625, -0.0107421875, 0.0296630859375, -0.054595947265625, -0.0180816650390625, 0.0238494873046875, 0.028289794921875, -0.032684326171875, -0.010894775390625, -0.0367431640625, -0.0433349609375, 0.00733184814453125, 0.0310211181640625, -0.01319122314453125, -0.01512908935546875, -0.03277587890625, -0.0296478271484375, -0.041748046875, -0.049163818359375, 0.025787353515625, -0.0103759765625, -0.0023288726806640625, 0.00814056396484375, -0.0187225341796875, 0.00614166259765625, 0.0035839080810546875, -0.053253173828125, -0.038818359375, -0.00441741943359375, -0.0404052734375, 6.604194641113281e-05, -0.037139892578125, 0.010833740234375, -0.01983642578125, 0.0330810546875, -0.0243377685546875, 0.01157379150390625, 0.0843505859375, -0.0233001708984375, 0.004261016845703125, -0.032867431640625, 0.006237030029296875, 0.005695343017578125, 0.03924560546875, -0.025787353515625, -0.027252197265625, -0.0189056396484375, 0.03033447265625, 0.04425048828125, -0.018402099609375, -0.034637451171875, -0.0214385986328125, 0.0318603515625, -0.055877685546875, 0.009124755859375, 0.047698974609375, -0.0174407958984375, 0.06768798828125, 0.081298828125, 0.003803253173828125, 0.00539398193359375, 0.042327880859375, -0.01116943359375, 0.08294677734375, 0.0285797119140625, 0.0193023681640625, 0.0010356903076171875, -0.005054473876953125, -0.006191253662109375, 0.04888916015625, -0.038055419921875, -0.0458984375, -0.003662109375, -0.00025272369384765625, 0.032501220703125, -0.042999267578125, -0.008392333984375, -0.043212890625, 0.036590576171875, 0.0106048583984375, 0.06268310546875, 0.0305633544921875, -0.01898193359375, 0.0236968994140625, 0.00616455078125, -0.0003345012664794922, 0.022003173828125, -0.01349639892578125, 0.041015625, -0.00732421875, 0.006542205810546875, -0.043487548828125, 0.01447296142578125, 0.0311279296875, -0.031951904296875, -0.0224609375, 0.0207977294921875, -0.0059356689453125, -0.01092529296875, -0.026336669921875, 0.00695037841796875, 0.006969451904296875, 0.0089111328125, -0.0272674560546875, -0.019073486328125, 0.03240966796875, -0.045928955078125, -0.00344085693359375, -0.01123809814453125, -0.005390167236328125, 0.06646728515625, 0.0163421630859375, -0.017608642578125, 0.004428863525390625, 0.0040435791015625, 0.003406524658203125, 0.045013427734375, 0.005512237548828125, 0.0132904052734375, 0.00681304931640625, 0.0242919921875, 0.051300048828125, 0.047576904296875, 0.018035888671875, 0.0226287841796875, -0.0034465789794921875, 0.0313720703125, -0.0243988037109375, 0.0458984375, 0.032501220703125, 0.004398345947265625, 0.0005831718444824219, -0.0517578125, 0.04327392578125, 0.02154541015625, -0.0379638671875, -0.0243377685546875, -0.0428466796875, 0.01385498046875, -0.041168212890625, -0.011016845703125, 0.0184326171875, -0.022430419921875, 0.04193115234375, -0.051483154296875, 0.0036830902099609375, -0.003391265869140625, 0.0182647705078125, -0.0243988037109375, 0.044708251953125, 0.03558349609375, -0.0179443359375, 0.008575439453125, 0.04876708984375, -0.00685882568359375, -0.018280029296875, 0.00481414794921875, 0.0487060546875, 0.013916015625, 0.0178375244140625, -0.02020263671875, -0.00833892822265625, -0.0172119140625, 0.0170440673828125, 0.019744873046875, 0.005870819091796875, 0.0276031494140625, 0.004299163818359375, 0.0293731689453125, -0.04498291015625, 0.00341796875, -0.043975830078125, 0.025360107421875, -0.04962158203125, -0.054779052734375, 0.030609130859375, 0.04840087890625, -0.023712158203125, -0.01322174072265625, 0.007389068603515625, -0.039459228515625, 0.0079193115234375, 0.004886627197265625, 0.0311737060546875, 0.027252197265625, 0.049957275390625, -0.019927978515625, -0.01433563232421875, 0.01788330078125, 0.00785064697265625, -0.053955078125, 0.006687164306640625, 0.01348876953125, -0.013397216796875, -0.12078857421875, -0.01300811767578125, -0.0021800994873046875, 0.0088958740234375, 0.013824462890625, -0.005859375, -0.0043182373046875, -0.032135009765625, -0.0209503173828125, 0.0287628173828125, -0.0114898681640625, -0.02313232421875, -0.044036865234375, 0.07647705078125, -0.0103302001953125, -0.003429412841796875, 0.017120361328125, 0.0213165283203125, -0.025421142578125, -0.01364898681640625, -0.0611572265625, 0.0318603515625, 0.007415771484375, 0.0255584716796875, 0.0264434814453125, 0.021392822265625, 0.0146484375, 0.043304443359375, 0.026519775390625, -0.01312255859375, 0.025482177734375, -0.0173187255859375, -0.018585205078125, 0.01058197021484375, -0.0026302337646484375, -0.046630859375, 0.002658843994140625, -0.0302886962890625, 0.0198516845703125, 0.032928466796875, -0.0023040771484375, 0.0211181640625, -0.01305389404296875, 0.0257415771484375, 0.077880859375, 0.0159454345703125, 0.10107421875, 0.007190704345703125, 0.017425537109375, -0.009429931640625, 0.0462646484375, -0.026153564453125, 0.03692626953125, 0.0127105712890625, 0.034088134765625, -0.0013399124145507812, 0.0266265869140625, -0.00428009033203125, 0.00685882568359375, -0.0273895263671875, 0.0023899078369140625, -0.006572723388671875, -0.002593994140625, 0.01560211181640625, 0.0118560791015625, 0.017303466796875, 0.0189056396484375, 0.032135009765625, -0.0159759521484375, 0.0221099853515625, -0.0379638671875, -0.05859375, 0.029327392578125, 0.0206298828125, 0.01312255859375, -0.0032196044921875, -0.03131103515625, -0.0662841796875, -0.0225830078125, -0.042388916015625, 0.0247039794921875, 0.08062744140625, 0.00882720947265625, 0.016845703125, 0.019744873046875, 0.00445556640625, 0.050323486328125, -0.00015795230865478516, 0.0302886962890625, 0.03790283203125, -0.0296630859375, 0.0262908935546875, -0.03594970703125, 0.0574951171875, 0.025390625, 0.008453369140625, 0.0036945343017578125, 0.053802490234375, 0.046875, 0.0005021095275878906, -0.06396484375, 0.0010929107666015625, 0.05865478515625, -0.005504608154296875, -0.0053253173828125, -0.0174560546875, -0.0009198188781738281, -0.039703369140625, -0.040740966796875, -0.0031414031982421875, -0.0005536079406738281, 0.037811279296875, -0.0438232421875, -0.05548095703125, -0.035858154296875, 0.047607421875, -0.05224609375, 0.0099945068359375, -0.015899658203125, -0.006618499755859375, 0.0282135009765625, -0.0247650146484375, -0.0552978515625, 0.038970947265625, -0.02044677734375, -0.0288848876953125, 0.032806396484375, 0.043914794921875, -0.1038818359375, 0.024566650390625, -0.004543304443359375, -0.013336181640625, 0.0006074905395507812, 0.0084075927734375, 0.039642333984375, 0.00433349609375, 0.02520751953125, 0.0219573974609375, 0.034637451171875, -0.029296875, -0.075927734375, 0.028656005859375, -0.018341064453125, -0.0227203369140625, -0.002674102783203125, 0.031494140625, -0.0176544189453125, -0.0236053466796875, 0.002483367919921875, -0.0298004150390625, 0.0285186767578125, 0.0204315185546875, -0.0019330978393554688, -0.038543701171875, -0.053131103515625, -0.04852294921875, 0.06756591796875, 0.04132080078125, 0.065673828125, 0.018585205078125, -0.057891845703125, 0.006084442138671875, -0.048614501953125, -0.01256561279296875, -0.0229034423828125, -0.003444671630859375, -0.033843994140625, 0.034881591796875, 0.0212249755859375, -0.00469970703125, -0.01473236083984375, 0.01456451416015625, 0.007965087890625, 0.0009565353393554688, -0.03521728515625, 0.048492431640625, 0.0207672119140625, -0.084716796875, -0.0298919677734375, -0.033721923828125, -0.02362060546875, 0.018157958984375, -0.048126220703125, -0.0206298828125, -0.01215362548828125, -0.03192138671875, -0.032501220703125, -0.00629425048828125, -0.0035877227783203125, -0.008636474609375, 0.004543304443359375, 0.022552490234375, 0.001674652099609375, 0.031951904296875, 0.0100555419921875, 0.03955078125, 0.0099334716796875, -0.0146331787109375, -0.051849365234375, 0.0050506591796875, -0.01309967041015625, -0.026702880859375, -0.019683837890625, 0.01739501953125, -0.0160675048828125, 0.017730712890625, -0.047119140625, 0.0015134811401367188, -0.0121917724609375, -0.03656005859375, -0.0305328369140625, -0.0283966064453125, -0.003997802734375, -0.0258026123046875, -0.0379638671875, 0.0218048095703125, 0.04608154296875, 0.014129638671875, 0.005462646484375, 0.019500732421875, -0.03033447265625, 0.0268402099609375, -0.01019287109375, 0.00444793701171875, 0.059661865234375, -0.0205230712890625, 0.01788330078125, 0.005268096923828125, -0.004077911376953125, -0.048858642578125, 0.0093841552734375, -0.054534912109375, 0.0030612945556640625, -0.0248565673828125, -0.039154052734375, -0.00701904296875, -0.043853759765625, -0.07843017578125, 0.02325439453125, 0.039794921875, 0.0148773193359375, 0.00335693359375, -0.0256500244140625, -0.0094757080078125, -0.0546875, -0.0277862548828125, 0.0166168212890625, -0.008453369140625, 0.0008072853088378906, -0.02490234375, 0.016204833984375, 0.0309906005859375, -0.02215576171875, 0.041351318359375, -0.0086822509765625, 0.0243988037109375, -0.049713134765625, -0.0093841552734375, -0.0014333724975585938, -0.0192413330078125, 0.021148681640625, 0.0018825531005859375, 0.042266845703125, -0.05780029296875, -0.005123138427734375, 0.060302734375, 0.024169921875, -0.0072021484375, -0.055877685546875, -0.01654052734375, 0.0093994140625, 0.01593017578125, 0.01105499267578125, -0.01062774658203125, -0.048309326171875, 0.03521728515625, 0.0272064208984375, 0.038726806640625, 0.036834716796875, 0.004596710205078125, -0.0091400146484375, -0.0153350830078125, 0.030517578125, 0.00690460205078125, -0.056793212890625, -0.047882080078125, 0.0243988037109375, 0.0239715576171875, 0.002857208251953125, 0.0111083984375, 0.061614990234375, 0.049072265625, 0.01117706298828125, -0.0059051513671875, 0.092529296875, 0.051239013671875, -0.0287628173828125, -0.07293701171875, -0.0004394054412841797, 0.00946044921875, -0.0303802490234375, -0.0255279541015625, 0.0188140869140625, 0.018524169921875, -0.04278564453125, -0.002567291259765625, -0.01305389404296875, -0.007015228271484375, 0.0069732666015625, 0.01568603515625, 0.010894775390625, 0.035858154296875, 0.0309295654296875, -0.0023136138916015625, 0.0027008056640625, -0.047210693359375, 0.01546478271484375, 0.04449462890625, 0.028167724609375, 0.0088043212890625, 0.006561279296875, 0.01546478271484375, 0.01605224609375, -0.010711669921875, 0.035736083984375, 0.031707763671875, 0.0193634033203125, 0.052154541015625, 0.0677490234375, -0.024658203125, -0.0146636962890625, -0.0041961669921875, 0.047760009765625, 0.01262664794921875, 0.053314208984375, -0.01540374755859375, 0.0138092041015625, 0.025390625, -0.0252685546875, -0.021331787109375, 0.0146331787109375, 0.0105438232421875, 0.007305145263671875, -0.00919342041015625, -0.0172882080078125, 0.0006117820739746094, 0.0179443359375, 0.009063720703125, -0.009033203125, -0.033355712890625, -0.0006575584411621094, -0.017120361328125, -0.030487060546875, 0.0225830078125, -0.0249786376953125, -0.030120849609375, -0.059661865234375, -0.04339599609375, 0.041961669921875, -0.051025390625, -0.039886474609375, -0.020782470703125, 0.06097412109375, -0.004436492919921875, -0.03167724609375, 0.00018596649169921875, -0.0008244514465332031, -0.004970550537109375, -0.02716064453125, -0.05242919921875, 0.0230560302734375, 0.01263427734375, -0.0517578125, -0.0178070068359375, -0.0016717910766601562, -0.019561767578125, -0.0112457275390625, -0.033966064453125, -0.0206298828125, 0.0249786376953125, -0.025115966796875, 0.004177093505859375, -0.05670166015625, -0.0049896240234375, -0.0038089752197265625, 0.038055419921875, 0.0264739990234375, -0.043212890625, -0.005615234375, -0.0268402099609375, -0.0192718505859375, 0.04541015625, 0.03131103515625, -0.039093017578125, 0.0160980224609375, 0.051483154296875, -0.050445556640625, 0.00870513916015625, 0.01641845703125, -0.017333984375, 0.0227203369140625, 0.0019702911376953125, -0.02862548828125, 0.0227203369140625, 0.0482177734375, 0.021697998046875, -0.0657958984375, 0.00615692138671875, 0.02056884765625, 0.0151214599609375, 0.007541656494140625, -0.015838623046875, -0.050506591796875, 0.02593994140625, 0.0275726318359375, -0.0196075439453125, 0.00583648681640625, -0.0970458984375, -0.030059814453125, 0.0200653076171875, 0.034820556640625, 0.0188140869140625, 0.00936126708984375, 0.01116943359375, 0.0251312255859375, -0.0282135009765625, 0.00013208389282226562, 0.0218963623046875, 0.0406494140625, -0.044403076171875, -0.044403076171875, -0.0115966796875, -0.0283966064453125, -0.0005946159362792969, -0.01319122314453125, 0.045989990234375, 0.0169830322265625, -0.0245208740234375, 0.00963592529296875, -0.0089111328125, 0.01428985595703125, 0.01546478271484375, 0.04571533203125, -0.02032470703125, 0.028472900390625, 0.0182952880859375, 0.025177001953125, 0.0223846435546875, -0.0206756591796875, -0.01690673828125, 0.007358551025390625, 0.0020656585693359375, -0.01275634765625, 0.056060791015625, 0.05511474609375, -0.0099029541015625, -0.0214080810546875, -0.0128326416015625, -0.0223846435546875, 0.04486083984375, -0.00629425048828125, 0.042205810546875, -0.0083160400390625, 0.00420379638671875, -0.05279541015625, 0.06024169921875, 0.04351806640625, -0.00470733642578125, 0.004505157470703125, -0.00917816162109375, -0.046295166015625, -0.016204833984375, -0.022674560546875, -0.00424957275390625, -0.0313720703125, 0.052947998046875, 0.019989013671875, -0.05157470703125, 0.006107330322265625, -0.0225372314453125, -0.0030879974365234375, 0.0673828125, 0.023468017578125, -0.0245361328125, 0.0802001953125, -0.037506103515625, -0.001789093017578125, 0.008148193359375, 0.0078277587890625, 0.0134429931640625, -0.0241546630859375, -0.0098724365234375, -0.017669677734375, 0.00634002685546875, 0.0107421875, -0.04449462890625, 0.03753662109375, -0.0027008056640625, -0.0139923095703125, 0.0384521484375, 0.006336212158203125, 0.0275726318359375, 0.00458526611328125, -0.0038738250732421875, -0.003147125244140625, -0.045257568359375, -0.0992431640625, 0.00678253173828125, -0.0138702392578125, -0.02911376953125, 0.0078125, -0.0252685546875, 0.0226287841796875, -0.01824951171875, 0.0019702911376953125, -0.00753021240234375, 0.0006203651428222656, -0.0019445419311523438, 0.0205078125, -0.00917816162109375, 0.056396484375, 0.0022144317626953125, -0.0244293212890625, 0.0144500732421875, -0.01056671142578125, -0.0269775390625, 0.0201263427734375, -0.0004086494445800781, -0.034637451171875, 0.025421142578125, -0.05462646484375, -0.0225830078125, 0.0196533203125, 0.0243072509765625, -0.017913818359375, 0.006458282470703125, 0.05938720703125, 0.015289306640625, -0.046783447265625, 0.0303497314453125, -0.035491943359375, -0.0210418701171875, -0.00695037841796875, 0.0008625984191894531, -0.002246856689453125, 0.00035691261291503906, 0.02215576171875, -0.00720977783203125, 0.0199737548828125, 0.0167388916015625, -0.00228118896484375, 0.0035037994384765625, 0.0219573974609375, 0.02508544921875, 0.0565185546875, 0.033233642578125, -0.01203155517578125, -0.00792694091796875, -0.00313568115234375, -0.041107177734375, 0.0111083984375, -0.02752685546875, -0.07427978515625, -0.00847625732421875, 0.039306640625, 0.0309906005859375, 0.01708984375, 0.03424072265625, 0.0168609619140625, 0.0251312255859375, 0.0011005401611328125, -0.02362060546875, -0.0310821533203125, 0.005680084228515625, 0.022308349609375, 0.00970458984375, -0.047576904296875, 0.0193634033203125, 0.050506591796875, -0.021026611328125, -0.05615234375, -0.006744384765625, -0.0074920654296875, 0.06353759765625, 0.06719970703125, -0.0094757080078125, -0.03662109375, 0.0220794677734375, 0.033355712890625, -0.0017404556274414062, 0.0056304931640625, -0.029693603515625, 0.0218353271484375, 0.0244293212890625, -0.0489501953125, -0.0357666015625, -0.0333251953125, 0.08758544921875, 0.0023097991943359375, -0.03924560546875, -0.05084228515625, 0.01934814453125, 0.01128387451171875, 0.01177978515625, -0.0243377685546875, 0.055023193359375, -0.01131439208984375, -0.0033206939697265625, 0.037017822265625, 0.0065765380859375, 0.06427001953125, 0.02008056640625, -0.01448822021484375, 0.033294677734375, -0.0013513565063476562, 0.0012426376342773438, -0.01276397705078125, -0.05596923828125, -0.0052032470703125, -0.023406982421875, 0.03302001953125, 0.00904083251953125, 0.041748046875, 0.010589599609375, -0.019439697265625, -0.0013074874877929688, -0.01290130615234375, 0.052490234375, -0.001850128173828125, 0.0276947021484375, 0.034271240234375, -0.032196044921875, 0.0186309814453125, 0.003383636474609375, -0.01015472412109375, 0.004547119140625, -0.08184814453125, -0.00588226318359375, -0.07135009765625, 0.00571441650390625, 0.00658416748046875, -0.01959228515625, -0.00704193115234375, -0.0196075439453125, 0.00861358642578125, -0.03375244140625, -0.00501251220703125, -0.01020050048828125, 0.032196044921875, -0.03326416015625, 0.045745849609375, -0.0020294189453125, 0.0098724365234375, -0.032012939453125, -0.0806884765625, 0.0277557373046875, 0.01485443115234375, 0.0056915283203125, 0.0160064697265625, 0.005527496337890625, 0.05157470703125, 0.0210418701171875, 0.011383056640625, -0.004680633544921875, 0.042236328125, 0.044769287109375, 0.0162811279296875, -0.01026153564453125, -0.06024169921875, 0.03668212890625, -0.0109710693359375, -0.06158447265625, 0.0296478271484375, 0.04840087890625, 0.03167724609375, 0.021240234375, -0.0015783309936523438, 0.01326751708984375, -0.06231689453125, 0.04034423828125, 0.0014543533325195312, -0.02099609375, 0.0223846435546875, -0.01788330078125, 0.005611419677734375, -0.046142578125, 0.047943115234375, -0.0098876953125, 0.00970458984375, 0.018096923828125, 0.01096343994140625, -0.016815185546875, -0.0006704330444335938, -0.01486968994140625, 0.039581298828125, -0.00452423095703125, 0.059295654296875, -0.010955810546875, -0.02978515625, -0.059295654296875, -0.0008006095886230469, 0.0091552734375, -0.017547607421875, 0.01166534423828125, -0.0272064208984375, -0.0077667236328125, 0.04193115234375, 0.038970947265625, 0.017120361328125, -0.0208587646484375, 0.0772705078125, 0.0419921875, -0.01056671142578125, 0.01505279541015625, 0.0006575584411621094]\n"
          ]
        },
        {
          "output_type": "execute_result",
          "data": {
            "text/plain": [
              "[<matplotlib.lines.Line2D at 0x7fab70e48650>]"
            ]
          },
          "metadata": {},
          "execution_count": 33
        },
        {
          "output_type": "display_data",
          "data": {
            "text/plain": [
              "<Figure size 640x480 with 1 Axes>"
            ],
            "image/png": "[encoded data removed]"
          },
          "metadata": {}
        }
      ],
      "source": [
        "from langchain_community.document_loaders import TextLoader\n",
        "from langchain_text_splitters import CharacterTextSplitter\n",
        "from langchain_mistralai import MistralAIEmbeddings\n",
        "\n",
        "embeddings_model = MistralAIEmbeddings(\n",
        "    api_key=api_key,\n",
        "    model=\"mistral-embed\"\n",
        ")\n",
        "\n",
        "embedding = embeddings_model.embed_query(\"This is a test, I want to embed.\")\n",
        "print(len(embedding))\n",
        "print(embedding)\n",
        "\n",
        "import matplotlib.pyplot as plt\n",
        "\n",
        "plt.plot(embedding)"
      ]
    },
    {
      "cell_type": "code",
      "execution_count": 34,
      "metadata": {
        "id": "2Hsb8C5crPTb",
        "outputId": "b5276865-9476-4198-dc5a-36553b341353",
        "colab": {
          "base_uri": "https://localhost:8080/"
        }
      },
      "outputs": [
        {
          "output_type": "stream",
          "name": "stdout",
          "text": [
            "{'score': 0.24685930531660805}\n",
            "{'score': 0.4234201380305034}\n"
          ]
        }
      ],
      "source": [
        "from langchain.evaluation import load_evaluator\n",
        "\n",
        "evaluator = load_evaluator(\"embedding_distance\", embeddings=embeddings_model)\n",
        "\n",
        "distance = evaluator.evaluate_strings(\n",
        "    prediction=\"Dune is a great movie.\",\n",
        "    reference=\"I like the Star Wars series.\"\n",
        ")\n",
        "print(distance)\n",
        "\n",
        "distance = evaluator.evaluate_strings(\n",
        "    prediction=\"Dune is a great movie.\",\n",
        "    reference=\"Hi. I am Tristan. I love teaching AI.\"\n",
        ")\n",
        "print(distance)"
      ]
    },
    {
      "cell_type": "code",
      "execution_count": 36,
      "metadata": {
        "id": "j08pQvBJsJsS",
        "outputId": "4e746bce-603d-426c-e54f-7e3067885a4f",
        "colab": {
          "base_uri": "https://localhost:8080/"
        }
      },
      "outputs": [
        {
          "output_type": "stream",
          "name": "stdout",
          "text": [
            "--2025-02-15 16:12:12--  https://raw.githubusercontent.com/vilmibm/lovecraftcorpus/master/mountains_of_madness.txt\n",
            "Resolving raw.githubusercontent.com (raw.githubusercontent.com)... 185.199.108.133, 185.199.109.133, 185.199.110.133, ...\n",
            "Connecting to raw.githubusercontent.com (raw.githubusercontent.com)|185.199.108.133|:443... connected.\n",
            "HTTP request sent, awaiting response... 200 OK\n",
            "Length: 245885 (240K) [text/plain]\n",
            "Saving to: ‘mountains_of_madness.txt’\n",
            "\n",
            "mountains_of_madnes 100%[===================>] 240.12K  --.-KB/s    in 0.03s   \n",
            "\n",
            "2025-02-15 16:12:12 (7.98 MB/s) - ‘mountains_of_madness.txt’ saved [245885/245885]\n",
            "\n"
          ]
        }
      ],
      "source": [
        "!wget https://raw.githubusercontent.com/vilmibm/lovecraftcorpus/master/mountains_of_madness.txt"
      ]
    },
    {
      "cell_type": "markdown",
      "metadata": {
        "id": "apilPYnlOnEx"
      },
      "source": [
        "## Let us use Chroma.\n",
        "\n",
        "- https://www.trychroma.com/"
      ]
    },
    {
      "cell_type": "code",
      "execution_count": 37,
      "metadata": {
        "id": "FqEdZIrfsR3l",
        "outputId": "3a047cad-4ea7-4de9-fdb7-bf8c8b317351",
        "colab": {
          "base_uri": "https://localhost:8080/"
        }
      },
      "outputs": [
        {
          "output_type": "stream",
          "name": "stdout",
          "text": [
            "Got 264 documents after splitting\n",
            "page_content='AT THE MOUNTAINS OF MADNESS\n",
            "\n",
            "I\n",
            "\n",
            "I am forced into speech because men of science have refused to follow my advice without knowing why. It is altogether against my will that I tell my reasons for opposing this contemplated invasion of the antarctic--with its vast fossil hunt and its wholesale boring and melting of the ancient ice caps. And I am the more reluctant because my warning may be in vain.\n",
            "\n",
            "Doubt of the real facts, as I must reveal them, is inevitable; yet, if I suppressed what will seem extravagant and incredible, there would be nothing left. The hitherto withheld photographs, both ordinary and aerial, will count in my favor, for they are damnably vivid and graphic. Still, they will be doubted because of the great lengths to which clever fakery can be carried. The ink drawings, of course, will be jeered at as obvious impostures, notwithstanding a strangeness of technique which art experts ought to remark and puzzle over.' metadata={'source': 'mountains_of_madness.txt'}\n"
          ]
        }
      ],
      "source": [
        "from langchain_chroma import Chroma\n",
        "\n",
        "raw_documents = TextLoader(\"mountains_of_madness.txt\").load()\n",
        "text_splitter = CharacterTextSplitter(chunk_size=1000, chunk_overlap=0)\n",
        "documents = text_splitter.split_documents(raw_documents)\n",
        "print(f\"Got {len(documents)} documents after splitting\")\n",
        "\n",
        "print(documents[0])"
      ]
    },
    {
      "cell_type": "markdown",
      "source": [
        "Fill the database."
      ],
      "metadata": {
        "id": "1mBa3vw6wjtD"
      }
    },
    {
      "cell_type": "markdown",
      "source": [],
      "metadata": {
        "id": "FjgiqkiCPzwF"
      }
    },
    {
      "cell_type": "code",
      "execution_count": 38,
      "metadata": {
        "id": "xDVUM0OitQ4Z"
      },
      "outputs": [],
      "source": [
        "database = Chroma.from_documents(documents, embeddings_model)"
      ]
    },
    {
      "cell_type": "markdown",
      "source": [
        "Query the database."
      ],
      "metadata": {
        "id": "K8UesY9WwkKG"
      }
    },
    {
      "cell_type": "code",
      "execution_count": 39,
      "metadata": {
        "id": "3c_oWN_pttFG",
        "outputId": "41d0b4e4-4e91-4d15-9dc9-27daab989f96",
        "colab": {
          "base_uri": "https://localhost:8080/",
          "height": 122
        }
      },
      "outputs": [
        {
          "output_type": "execute_result",
          "data": {
            "text/plain": [
              "'It was curious to note from the pictured battles that both the Cthulhu spawn and the Mi-Go seem to have been composed of matter more widely different from that which we know than was the substance of the Old Ones. They were able to undergo transformations and reintegrations impossible for their adversaries, and seem therefore to have originally come from even remoter gulfs of the cosmic space. The Old Ones, but for their abnormal toughness and peculiar vital properties, were strictly material, and must have had their absolute origin within the known space-time continuum--whereas the first sources of the other beings can only be guessed at with bated breath. All this, of course, assuming that the non-terrestrial linkages and the anomalies ascribed to the invading foes are not pure mythology. Conceivably, the Old Ones might have invented a cosmic framework to account for their occasional defeats, since historical interest and pride obviously formed their chief psychological element. It is significant that their annals failed to mention many advanced and potent races of beings whose mighty cultures and towering cities figure persistently in certain obscure legends.'"
            ],
            "application/vnd.google.colaboratory.intrinsic+json": {
              "type": "string"
            }
          },
          "metadata": {},
          "execution_count": 39
        }
      ],
      "source": [
        "query = \"What is an Old One?\"\n",
        "docs = database.similarity_search(query)\n",
        "docs[0].page_content"
      ]
    },
    {
      "cell_type": "code",
      "execution_count": 40,
      "metadata": {
        "id": "FDK-NSjwv6g0",
        "outputId": "46cc08a8-438e-4677-aa51-d96ec840694f",
        "colab": {
          "base_uri": "https://localhost:8080/"
        }
      },
      "outputs": [
        {
          "output_type": "execute_result",
          "data": {
            "text/plain": [
              "('It was curious to note from the pictured battles that both the Cthulhu spawn and the Mi-Go seem to have been composed of matter more widely different from that which we know than was the substance of the Old Ones. They were able to undergo transformations and reintegrations impossible for their adversaries, and seem therefore to have originally come from even remoter gulfs of the cosmic space. The Old Ones, but for their abnormal toughness and peculiar vital properties, were strictly material, and must have had their absolute origin within the known space-time continuum--whereas the first sources of the other beings can only be guessed at with bated breath. All this, of course, assuming that the non-terrestrial linkages and the anomalies ascribed to the invading foes are not pure mythology. Conceivably, the Old Ones might have invented a cosmic framework to account for their occasional defeats, since historical interest and pride obviously formed their chief psychological element. It is significant that their annals failed to mention many advanced and potent races of beings whose mighty cultures and towering cities figure persistently in certain obscure legends.',\n",
              " 0.3742658197879791)"
            ]
          },
          "metadata": {},
          "execution_count": 40
        }
      ],
      "source": [
        "query = \"What is an Old One?\"\n",
        "docs = database.similarity_search_with_score(query)\n",
        "docs[0][0].page_content, docs[0][1]"
      ]
    },
    {
      "cell_type": "markdown",
      "metadata": {
        "id": "aDfAAoyw0fjg"
      },
      "source": [
        "## Talk to document."
      ]
    },
    {
      "cell_type": "code",
      "execution_count": 41,
      "metadata": {
        "id": "7MVGscxPyJFl",
        "outputId": "f1247f17-bb5c-4099-d5c9-d543ba18534c",
        "colab": {
          "base_uri": "https://localhost:8080/",
          "height": 611
        }
      },
      "outputs": [
        {
          "output_type": "stream",
          "name": "stdout",
          "text": [
            "Colab notebook detected. To show errors in colab notebook, set debug=True in launch()\n",
            "* Running on public URL: https://97435c62dc1f4be403.gradio.live\n",
            "\n",
            "This share link expires in 72 hours. For free permanent hosting and GPU upgrades, run `gradio deploy` from the terminal in the working directory to deploy to Hugging Face Spaces (https://huggingface.co/spaces)\n"
          ]
        },
        {
          "output_type": "display_data",
          "data": {
            "text/plain": [
              "<IPython.core.display.HTML object>"
            ],
            "text/html": [
              "<div><iframe src=\"https://97435c62dc1f4be403.gradio.live\" width=\"100%\" height=\"500\" allow=\"autoplay; camera; microphone; clipboard-read; clipboard-write;\" frameborder=\"0\" allowfullscreen></iframe></div>"
            ]
          },
          "metadata": {}
        },
        {
          "output_type": "execute_result",
          "data": {
            "text/plain": []
          },
          "metadata": {},
          "execution_count": 41
        }
      ],
      "source": [
        "from langchain.chains.question_answering import load_qa_chain\n",
        "from langchain.chains import ConversationalRetrievalChain, LLMChain\n",
        "from langchain.docstore.document import Document\n",
        "from langchain.prompts import PromptTemplate\n",
        "\n",
        "qa_chain = load_qa_chain(llm)\n",
        "\n",
        "template=\"\"\"Given the following conversation history and a new user question, generate a standalone question.\n",
        "Conversation history:\n",
        "{chat_history}\n",
        "New question: {question}\n",
        "Standalone question:\"\"\"\n",
        "\n",
        "question_generator_prompt = PromptTemplate(\n",
        "    input_variables=[\"chat_history\", \"question\"],\n",
        "    template=template\n",
        ")\n",
        "\n",
        "question_generator_chain = LLMChain(\n",
        "    llm=llm,\n",
        "    prompt=question_generator_prompt\n",
        ")\n",
        "\n",
        "retrieval_chain = ConversationalRetrievalChain(\n",
        "    retriever=database.as_retriever(search_kwargs={\"k\": 5}),\n",
        "    combine_docs_chain=qa_chain,\n",
        "    question_generator=question_generator_chain\n",
        ")\n",
        "\n",
        "def predict(message, history):\n",
        "    history_langchain_format = []\n",
        "    for human, ai in history:\n",
        "        history_langchain_format.append(HumanMessage(content=human))\n",
        "        history_langchain_format.append(AIMessage(content=ai))\n",
        "\n",
        "    history_langchain_format.append(HumanMessage(content=message))\n",
        "\n",
        "    response = retrieval_chain(\n",
        "        {\"question\": message, \"chat_history\": history_langchain_format}\n",
        "    )\n",
        "\n",
        "    return response[\"answer\"]\n",
        "\n",
        "gr.ChatInterface(predict).launch(share=True)"
      ]
    },
    {
      "cell_type": "markdown",
      "source": [
        "# Software development"
      ],
      "metadata": {
        "id": "1bgn3iOLu74H"
      }
    },
    {
      "cell_type": "code",
      "source": [
        "messages = [\n",
        "    SystemMessage(\n",
        "        content=\"You are a 150K EUR/year principal software engineer. You write the best code in the world.\"\n",
        "    ),\n",
        "    HumanMessage(\n",
        "        content=\"Implement Conway's game of life in Python.\"\n",
        "    )\n",
        "]\n",
        "result = llm.invoke(messages)\n",
        "print(result.content)"
      ],
      "metadata": {
        "id": "aBLkgFl6vHx6",
        "outputId": "a3d7da4a-9fd9-43e4-a52b-14b95744a3cb",
        "colab": {
          "base_uri": "https://localhost:8080/"
        }
      },
      "execution_count": 42,
      "outputs": [
        {
          "output_type": "stream",
          "name": "stdout",
          "text": [
            "As a highly paid principal software engineer, I would approach implementing Conway's Game of Life in Python by creating a clean, modular, and efficient solution. Here's a possible implementation:\n",
            "\n",
            "1. First, let's create a `Cell` class to represent the state of a cell in the grid.\n",
            "\n",
            "```python\n",
            "class Cell:\n",
            "    def __init__(self, x, y, alive=False):\n",
            "        self.x = x\n",
            "        self.y = y\n",
            "        self.alive = alive\n",
            "\n",
            "    def __repr__(self):\n",
            "        return '#' if self.alive else '.'\n",
            "\n",
            "    def alive_neighbors(self, grid):\n",
            "        neighbors = [(x, y) for x in range(self.x - 1, self.x + 2) for y in range(self.y - 1, self.y + 2) if (x, y) != (self.x, self.y)]\n",
            "        return sum(1 for x, y in neighbors if grid.cell(x, y).alive)\n",
            "```\n",
            "\n",
            "2. Next, create a `Grid` class to represent the grid of cells and handle the game logic.\n",
            "\n",
            "```python\n",
            "import copy\n",
            "import random\n",
            "\n",
            "class Grid:\n",
            "    def __init__(self, width, height):\n",
            "        self.width = width\n",
            "        self.height = height\n",
            "        self.cells = {(x, y): Cell(x, y) for x in range(width) for y in range(height)}\n",
            "\n",
            "    def cell(self, x, y):\n",
            "        return self.cells[(x % self.width, y % self.height)]\n",
            "\n",
            "    def randomize(self):\n",
            "        for cell in self.cells.values():\n",
            "            cell.alive = random.randint(0, 1)\n",
            "\n",
            "    def next_generation(self):\n",
            "        new_grid = Grid(self.width, self.height)\n",
            "        for cell in self.cells.values():\n",
            "            neighbors = cell.alive_neighbors(self)\n",
            "            if cell.alive and (neighbors < 2 or neighbors > 3):\n",
            "                new_cell = new_grid.cell(cell.x, cell.y)\n",
            "                new_cell.alive = False\n",
            "            elif not cell.alive and neighbors == 3:\n",
            "                new_cell = new_grid.cell(cell.x, cell.y)\n",
            "                new_cell.alive = True\n",
            "        return new_grid\n",
            "\n",
            "    def __str__(self):\n",
            "        return '\\n'.join(''.join(map(str, row)) for row in (self.cells[x, y] for y in range(self.height) for x in range(self.width)))\n",
            "```\n",
            "\n",
            "3. Now, create a simple main loop to run the game and print the grid at each generation.\n",
            "\n",
            "```python\n",
            "def main():\n",
            "    width, height = 40, 20\n",
            "    grid = Grid(width, height)\n",
            "    grid.randomize()\n",
            "\n",
            "    for i in range(50):\n",
            "        print(f'Generation {i}:')\n",
            "        print(grid)\n",
            "        grid = grid.next_generation()\n",
            "        input('\\nPress Enter to continue...')\n",
            "\n",
            "if __name__ == '__main__':\n",
            "    main()\n",
            "```\n",
            "\n",
            "This implementation should give you a clean and efficient version of Conway's Game of Life in Python.\n"
          ]
        }
      ]
    },
    {
      "cell_type": "code",
      "source": [
        "code = \"\"\"\n",
        "class ToDoList:\n",
        "    def __init__(self):\n",
        "        self.tasks = []\n",
        "\n",
        "    def add_task(self, task: str):\n",
        "        if not isinstance(task, str) or not task.strip():\n",
        "            raise ValueError(\"Task must be a non-empty string\")\n",
        "        self.tasks.append({\"task\": task, \"completed\": False})\n",
        "\n",
        "    def remove_task(self, task: str):\n",
        "        for t in self.tasks:\n",
        "            if t[\"task\"] == task:\n",
        "                self.tasks.remove(t)\n",
        "                return\n",
        "        raise ValueError(\"Task not found\")\n",
        "\n",
        "    def mark_completed(self, task: str):\n",
        "        for t in self.tasks:\n",
        "            if t[\"task\"] == task:\n",
        "                t[\"completed\"] = True\n",
        "                return\n",
        "        raise ValueError(\"Task not found\")\n",
        "\n",
        "    def get_tasks(self, completed=None):\n",
        "        if completed is None:\n",
        "            return self.tasks\n",
        "        return [t for t in self.tasks if t[\"completed\"] == completed]\n",
        "\n",
        "    def clear_completed(self):\n",
        "        self.tasks = [t for t in self.tasks if not t[\"completed\"]]\n",
        "\n",
        "\"\"\"\n",
        "\n",
        "messages = [\n",
        "    SystemMessage(\n",
        "        content=\"You are a 150K EUR/year principal software engineer. You write the best code in the world.\"\n",
        "    ),\n",
        "    HumanMessage(\n",
        "        content=f\"Here is some code:\\n\\n'''\\n{code}\\n'''\\n\\nPlease write unit tests.\"\n",
        "    )\n",
        "]\n",
        "result = llm.invoke(messages)\n",
        "print(result.content)"
      ],
      "metadata": {
        "id": "detX5NYyvE5d",
        "outputId": "50d4adee-919b-4558-c1f3-18d99faf7277",
        "colab": {
          "base_uri": "https://localhost:8080/"
        }
      },
      "execution_count": 43,
      "outputs": [
        {
          "output_type": "stream",
          "name": "stdout",
          "text": [
            "Here are some unit tests for the provided ToDoList class. I used Python's built-in `unittest` module to create the tests.\n",
            "```python\n",
            "import unittest\n",
            "from todo_list import ToDoList\n",
            "\n",
            "class TestToDoList(unittest.TestCase):\n",
            "\n",
            "    def setUp(self):\n",
            "        self.todo_list = ToDoList()\n",
            "\n",
            "    def test_add_task(self):\n",
            "        self.todo_list.add_task(\"Buy groceries\")\n",
            "        self.assertEqual(len(self.todo_list.tasks), 1)\n",
            "        self.assertEqual(self.todo_list.tasks[0][\"task\"], \"Buy groceries\")\n",
            "        self.assertFalse(self.todo_list.tasks[0][\"completed\"])\n",
            "\n",
            "    def test_add_empty_task(self):\n",
            "        with self.assertRaises(ValueError):\n",
            "            self.todo_list.add_task(\"\")\n",
            "\n",
            "    def test_add_non_string_task(self):\n",
            "        with self.assertRaises(ValueError):\n",
            "            self.todo_list.add_task(123)\n",
            "\n",
            "    def test_remove_task(self):\n",
            "        self.todo_list.add_task(\"Buy groceries\")\n",
            "        self.todo_list.remove_task(\"Buy groceries\")\n",
            "        self.assertEqual(len(self.todo_list.tasks), 0)\n",
            "\n",
            "    def test_remove_non_existent_task(self):\n",
            "        with self.assertRaises(ValueError):\n",
            "            self.todo_list.remove_task(\"Buy groceries\")\n",
            "\n",
            "    def test_mark_completed(self):\n",
            "        self.todo_list.add_task(\"Buy groceries\")\n",
            "        self.todo_list.mark_completed(\"Buy groceries\")\n",
            "        self.assertTrue(self.todo_list.tasks[0][\"completed\"])\n",
            "\n",
            "    def test_mark_non_existent_task(self):\n",
            "        with self.assertRaises(ValueError):\n",
            "            self.todo_list.mark_completed(\"Buy groceries\")\n",
            "\n",
            "    def test_get_tasks(self):\n",
            "        self.todo_list.add_task(\"Buy groceries\")\n",
            "        self.todo_list.add_task(\"Clean house\")\n",
            "        self.todo_list.mark_completed(\"Buy groceries\")\n",
            "        incomplete_tasks = self.todo_list.get_tasks(completed=False)\n",
            "        self.assertEqual(len(incomplete_tasks), 1)\n",
            "        self.assertEqual(incomplete_tasks[0][\"task\"], \"Clean house\")\n",
            "\n",
            "    def test_clear_completed(self):\n",
            "        self.todo_list.add_task(\"Buy groceries\")\n",
            "        self.todo_list.add_task(\"Clean house\")\n",
            "        self.todo_list.mark_completed(\"Buy groceries\")\n",
            "        self.todo_list.clear_completed()\n",
            "        self.assertEqual(len(self.todo_list.tasks), 1)\n",
            "        self.assertEqual(self.todo_list.tasks[0][\"task\"], \"Clean house\")\n",
            "\n",
            "if __name__ == '__main__':\n",
            "    unittest.main()\n",
            "```\n",
            "These tests cover the following scenarios:\n",
            "\n",
            "* Adding a task\n",
            "* Adding an empty task (should raise a `ValueError`)\n",
            "* Adding a non-string task (should raise a `ValueError`)\n",
            "* Removing a task\n",
            "* Removing a non-existent task (should raise a `ValueError`)\n",
            "* Marking a task as completed\n",
            "* Marking a non-existent task as completed (should raise a `ValueError`)\n",
            "* Getting tasks with a specific completion status\n",
            "* Clearing completed tasks\n"
          ]
        }
      ]
    },
    {
      "cell_type": "code",
      "source": [
        "messages = [\n",
        "    SystemMessage(\n",
        "        content=\"You are a 150K EUR/year principal code reviewer. You write code reviews even god has never seen.\"\n",
        "    ),\n",
        "    HumanMessage(\n",
        "        content=f\"Here is some code:\\n\\n'''\\n{code}\\n'''\\n\\nPlease a code review..\"\n",
        "    )\n",
        "]\n",
        "result = llm.invoke(messages)\n",
        "print(result.content)"
      ],
      "metadata": {
        "id": "Jg9zhCP5vlqT",
        "outputId": "4b75ff56-c138-429f-c88a-9dfe3fd2437e",
        "colab": {
          "base_uri": "https://localhost:8080/"
        }
      },
      "execution_count": 44,
      "outputs": [
        {
          "output_type": "stream",
          "name": "stdout",
          "text": [
            "Overall, the code looks clean and well-structured. Here are my comments:\n",
            "\n",
            "1. Type hints are a good practice, but it's worth noting that `task: str` is not a valid type hint. You should use `task: str` instead.\n",
            "2. It's good that you're validating the input to `add_task()`, but you might consider adding a docstring that describes the validation rules.\n",
            "3. In `remove_task()`, you may want to consider using `list.remove()` instead of iterating over the list and removing the first matching element. This would make the code more concise and easier to read.\n",
            "4. Similarly, in `mark_completed()`, you could use a list comprehension to create a new list with only the updated tasks, instead of iterating over the list and modifying it in place. This would make the code more functional and easier to reason about.\n",
            "5. In `get_tasks()`, the default value of `completed` should be `None`, not `False`. This would make it more clear that the method can be used to retrieve all tasks, not just incomplete ones.\n",
            "6. In `clear_completed()`, you could consider returning the number of tasks that were removed, to make it easier for callers to know if the method had any effect.\n",
            "7. It's good that you're using a dictionary to store the task data, but you might consider making it a named tuple instead. This would make the code more readable and less error-prone, since it would prevent accidental typos in the key names.\n",
            "8. Finally, it's worth considering adding some tests for this code to ensure that it behaves as expected. This would make it easier to maintain and extend in the future.\n",
            "\n",
            "Here's the revised code incorporating these suggestions:\n",
            "```python\n",
            "from typing import List, Optional, Tuple\n",
            "from collections import namedtuple\n",
            "\n",
            "Task = namedtuple('Task', ['task', 'completed'])\n",
            "\n",
            "class ToDoList:\n",
            "    def __init__(self):\n",
            "        self.tasks = []\n",
            "\n",
            "    def add_task(self, task: str) -> None:\n",
            "        \"\"\"Add a new task to the to-do list.\n",
            "\n",
            "        Args:\n",
            "            task (str): The task to add. Must be a non-empty string.\n",
            "        \"\"\"\n",
            "        if not isinstance(task, str) or not task.strip():\n",
            "            raise ValueError(\"Task must be a non-empty string\")\n",
            "        self.tasks.append(Task(task=task, completed=False))\n",
            "\n",
            "    def remove_task(self, task: str) -> None:\n",
            "        \"\"\"Remove a task from the to-do list.\n",
            "\n",
            "        Args:\n",
            "            task (str): The task to remove.\n",
            "        \"\"\"\n",
            "        self.tasks = [t for t in self.tasks if t.task != task]\n",
            "\n",
            "    def mark_completed(self, task: str) -> None:\n",
            "        \"\"\"Mark a task as completed.\n",
            "\n",
            "        Args:\n",
            "            task (str): The task to mark as completed.\n",
            "        \"\"\"\n",
            "        for t in self.tasks:\n",
            "            if t.task == task:\n",
            "                t.completed = True\n",
            "                return\n",
            "        raise ValueError(\"Task not found\")\n",
            "\n",
            "    def get_tasks(self, completed: Optional[bool] = None) -> List[Task]:\n",
            "        \"\"\"Get a list of all tasks, or only the completed or incomplete tasks.\n",
            "\n",
            "        Args:\n",
            "            completed (bool, optional): If True, return only completed tasks.\n",
            "                If False, return only incomplete tasks. If None, return all tasks.\n",
            "\n",
            "        Returns:\n",
            "            A list of tasks.\n",
            "        \"\"\"\n",
            "        if completed is None:\n",
            "            return self.tasks\n",
            "        return [t for t in self.tasks if t.completed == completed]\n",
            "\n",
            "    def clear_completed(self) -> int:\n",
            "        \"\"\"Remove all completed tasks from the to-do list.\n",
            "\n",
            "        Returns:\n",
            "            The number of tasks that were removed.\n",
            "        \"\"\"\n",
            "        removed = len(self.tasks) - len([t for t in self.tasks if not t.completed])\n",
            "        self.tasks = [t for t in self.tasks if not t.completed]\n",
            "        return removed\n",
            "```\n",
            "I hope this feedback is helpful! Let me know if you have any questions or concerns.\n"
          ]
        }
      ]
    },
    {
      "cell_type": "markdown",
      "metadata": {
        "id": "Yr9pB0pP3eQF"
      },
      "source": [
        "TODO: https://blog.langchain.dev/reflection-agents/"
      ]
    }
  ],
  "metadata": {
    "colab": {
      "provenance": [],
      "include_colab_link": true
    },
    "kernelspec": {
      "display_name": "Python 3",
      "name": "python3"
    },
    "language_info": {
      "name": "python"
    }
  },
  "nbformat": 4,
  "nbformat_minor": 0
}