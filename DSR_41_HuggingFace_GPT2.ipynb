{
  "cells": [
    {
      "cell_type": "markdown",
      "metadata": {
        "id": "view-in-github",
        "colab_type": "text"
      },
      "source": [
        "<a href=\"https://colab.research.google.com/github/shahabday/NLP_learning/blob/main/DSR_41_HuggingFace_GPT2.ipynb\" target=\"_parent\"><img src=\"https://colab.research.google.com/assets/colab-badge.svg\" alt=\"Open In Colab\"/></a>"
      ]
    },
    {
      "cell_type": "markdown",
      "metadata": {
        "id": "ENuTHenyD91-"
      },
      "source": [
        "# Text Generation with Hugging Face."
      ]
    },
    {
      "cell_type": "markdown",
      "metadata": {
        "id": "o0J0FqEyEDPa"
      },
      "source": [
        "# Part 1: Dealing with the dataset.\n",
        "\n",
        "---\n",
        "\n",
        "## Check if a GPU is available.\n",
        "\n",
        "If not, activate it in Runtime -> Change Runtime Type."
      ]
    },
    {
      "cell_type": "code",
      "execution_count": 1,
      "metadata": {
        "id": "kgnF0xmTaVJ_",
        "colab": {
          "base_uri": "https://localhost:8080/"
        },
        "outputId": "77ee9ac1-cfa8-4b58-c34a-c5880fd39404"
      },
      "outputs": [
        {
          "output_type": "stream",
          "name": "stdout",
          "text": [
            "Requirement already satisfied: datasets in /usr/local/lib/python3.11/dist-packages (3.3.0)\n",
            "Requirement already satisfied: accelerate in /usr/local/lib/python3.11/dist-packages (1.3.0)\n",
            "Requirement already satisfied: transformers[torch] in /usr/local/lib/python3.11/dist-packages (4.48.3)\n",
            "Requirement already satisfied: filelock in /usr/local/lib/python3.11/dist-packages (from transformers[torch]) (3.17.0)\n",
            "Requirement already satisfied: huggingface-hub<1.0,>=0.24.0 in /usr/local/lib/python3.11/dist-packages (from transformers[torch]) (0.28.1)\n",
            "Requirement already satisfied: numpy>=1.17 in /usr/local/lib/python3.11/dist-packages (from transformers[torch]) (1.26.4)\n",
            "Requirement already satisfied: packaging>=20.0 in /usr/local/lib/python3.11/dist-packages (from transformers[torch]) (24.2)\n",
            "Requirement already satisfied: pyyaml>=5.1 in /usr/local/lib/python3.11/dist-packages (from transformers[torch]) (6.0.2)\n",
            "Requirement already satisfied: regex!=2019.12.17 in /usr/local/lib/python3.11/dist-packages (from transformers[torch]) (2024.11.6)\n",
            "Requirement already satisfied: requests in /usr/local/lib/python3.11/dist-packages (from transformers[torch]) (2.32.3)\n",
            "Requirement already satisfied: tokenizers<0.22,>=0.21 in /usr/local/lib/python3.11/dist-packages (from transformers[torch]) (0.21.0)\n",
            "Requirement already satisfied: safetensors>=0.4.1 in /usr/local/lib/python3.11/dist-packages (from transformers[torch]) (0.5.2)\n",
            "Requirement already satisfied: tqdm>=4.27 in /usr/local/lib/python3.11/dist-packages (from transformers[torch]) (4.67.1)\n",
            "Requirement already satisfied: torch>=2.0 in /usr/local/lib/python3.11/dist-packages (from transformers[torch]) (2.5.1+cu124)\n",
            "Requirement already satisfied: pyarrow>=15.0.0 in /usr/local/lib/python3.11/dist-packages (from datasets) (17.0.0)\n",
            "Requirement already satisfied: dill<0.3.9,>=0.3.0 in /usr/local/lib/python3.11/dist-packages (from datasets) (0.3.8)\n",
            "Requirement already satisfied: pandas in /usr/local/lib/python3.11/dist-packages (from datasets) (2.2.2)\n",
            "Requirement already satisfied: xxhash in /usr/local/lib/python3.11/dist-packages (from datasets) (3.5.0)\n",
            "Requirement already satisfied: multiprocess<0.70.17 in /usr/local/lib/python3.11/dist-packages (from datasets) (0.70.16)\n",
            "Requirement already satisfied: fsspec<=2024.12.0,>=2023.1.0 in /usr/local/lib/python3.11/dist-packages (from fsspec[http]<=2024.12.0,>=2023.1.0->datasets) (2024.10.0)\n",
            "Requirement already satisfied: aiohttp in /usr/local/lib/python3.11/dist-packages (from datasets) (3.11.12)\n",
            "Requirement already satisfied: psutil in /usr/local/lib/python3.11/dist-packages (from accelerate) (5.9.5)\n",
            "Requirement already satisfied: aiohappyeyeballs>=2.3.0 in /usr/local/lib/python3.11/dist-packages (from aiohttp->datasets) (2.4.6)\n",
            "Requirement already satisfied: aiosignal>=1.1.2 in /usr/local/lib/python3.11/dist-packages (from aiohttp->datasets) (1.3.2)\n",
            "Requirement already satisfied: attrs>=17.3.0 in /usr/local/lib/python3.11/dist-packages (from aiohttp->datasets) (25.1.0)\n",
            "Requirement already satisfied: frozenlist>=1.1.1 in /usr/local/lib/python3.11/dist-packages (from aiohttp->datasets) (1.5.0)\n",
            "Requirement already satisfied: multidict<7.0,>=4.5 in /usr/local/lib/python3.11/dist-packages (from aiohttp->datasets) (6.1.0)\n",
            "Requirement already satisfied: propcache>=0.2.0 in /usr/local/lib/python3.11/dist-packages (from aiohttp->datasets) (0.2.1)\n",
            "Requirement already satisfied: yarl<2.0,>=1.17.0 in /usr/local/lib/python3.11/dist-packages (from aiohttp->datasets) (1.18.3)\n",
            "Requirement already satisfied: typing-extensions>=3.7.4.3 in /usr/local/lib/python3.11/dist-packages (from huggingface-hub<1.0,>=0.24.0->transformers[torch]) (4.12.2)\n",
            "Requirement already satisfied: charset-normalizer<4,>=2 in /usr/local/lib/python3.11/dist-packages (from requests->transformers[torch]) (3.4.1)\n",
            "Requirement already satisfied: idna<4,>=2.5 in /usr/local/lib/python3.11/dist-packages (from requests->transformers[torch]) (3.10)\n",
            "Requirement already satisfied: urllib3<3,>=1.21.1 in /usr/local/lib/python3.11/dist-packages (from requests->transformers[torch]) (2.3.0)\n",
            "Requirement already satisfied: certifi>=2017.4.17 in /usr/local/lib/python3.11/dist-packages (from requests->transformers[torch]) (2025.1.31)\n",
            "Requirement already satisfied: networkx in /usr/local/lib/python3.11/dist-packages (from torch>=2.0->transformers[torch]) (3.4.2)\n",
            "Requirement already satisfied: jinja2 in /usr/local/lib/python3.11/dist-packages (from torch>=2.0->transformers[torch]) (3.1.5)\n",
            "Requirement already satisfied: nvidia-cuda-nvrtc-cu12==12.4.127 in /usr/local/lib/python3.11/dist-packages (from torch>=2.0->transformers[torch]) (12.4.127)\n",
            "Requirement already satisfied: nvidia-cuda-runtime-cu12==12.4.127 in /usr/local/lib/python3.11/dist-packages (from torch>=2.0->transformers[torch]) (12.4.127)\n",
            "Requirement already satisfied: nvidia-cuda-cupti-cu12==12.4.127 in /usr/local/lib/python3.11/dist-packages (from torch>=2.0->transformers[torch]) (12.4.127)\n",
            "Requirement already satisfied: nvidia-cudnn-cu12==9.1.0.70 in /usr/local/lib/python3.11/dist-packages (from torch>=2.0->transformers[torch]) (9.1.0.70)\n",
            "Requirement already satisfied: nvidia-cublas-cu12==12.4.5.8 in /usr/local/lib/python3.11/dist-packages (from torch>=2.0->transformers[torch]) (12.4.5.8)\n",
            "Requirement already satisfied: nvidia-cufft-cu12==11.2.1.3 in /usr/local/lib/python3.11/dist-packages (from torch>=2.0->transformers[torch]) (11.2.1.3)\n",
            "Requirement already satisfied: nvidia-curand-cu12==10.3.5.147 in /usr/local/lib/python3.11/dist-packages (from torch>=2.0->transformers[torch]) (10.3.5.147)\n",
            "Requirement already satisfied: nvidia-cusolver-cu12==11.6.1.9 in /usr/local/lib/python3.11/dist-packages (from torch>=2.0->transformers[torch]) (11.6.1.9)\n",
            "Requirement already satisfied: nvidia-cusparse-cu12==12.3.1.170 in /usr/local/lib/python3.11/dist-packages (from torch>=2.0->transformers[torch]) (12.3.1.170)\n",
            "Requirement already satisfied: nvidia-nccl-cu12==2.21.5 in /usr/local/lib/python3.11/dist-packages (from torch>=2.0->transformers[torch]) (2.21.5)\n",
            "Requirement already satisfied: nvidia-nvtx-cu12==12.4.127 in /usr/local/lib/python3.11/dist-packages (from torch>=2.0->transformers[torch]) (12.4.127)\n",
            "Requirement already satisfied: nvidia-nvjitlink-cu12==12.4.127 in /usr/local/lib/python3.11/dist-packages (from torch>=2.0->transformers[torch]) (12.4.127)\n",
            "Requirement already satisfied: triton==3.1.0 in /usr/local/lib/python3.11/dist-packages (from torch>=2.0->transformers[torch]) (3.1.0)\n",
            "Requirement already satisfied: sympy==1.13.1 in /usr/local/lib/python3.11/dist-packages (from torch>=2.0->transformers[torch]) (1.13.1)\n",
            "Requirement already satisfied: mpmath<1.4,>=1.1.0 in /usr/local/lib/python3.11/dist-packages (from sympy==1.13.1->torch>=2.0->transformers[torch]) (1.3.0)\n",
            "Requirement already satisfied: python-dateutil>=2.8.2 in /usr/local/lib/python3.11/dist-packages (from pandas->datasets) (2.8.2)\n",
            "Requirement already satisfied: pytz>=2020.1 in /usr/local/lib/python3.11/dist-packages (from pandas->datasets) (2025.1)\n",
            "Requirement already satisfied: tzdata>=2022.7 in /usr/local/lib/python3.11/dist-packages (from pandas->datasets) (2025.1)\n",
            "Requirement already satisfied: six>=1.5 in /usr/local/lib/python3.11/dist-packages (from python-dateutil>=2.8.2->pandas->datasets) (1.17.0)\n",
            "Requirement already satisfied: MarkupSafe>=2.0 in /usr/local/lib/python3.11/dist-packages (from jinja2->torch>=2.0->transformers[torch]) (3.0.2)\n"
          ]
        }
      ],
      "source": [
        "!pip install -U transformers[torch] datasets accelerate"
      ]
    },
    {
      "cell_type": "code",
      "execution_count": 2,
      "metadata": {
        "id": "L-F3M2WNEWPp",
        "colab": {
          "base_uri": "https://localhost:8080/"
        },
        "outputId": "3b752509-2f71-48ac-8db8-d844ae707e9a"
      },
      "outputs": [
        {
          "output_type": "execute_result",
          "data": {
            "text/plain": [
              "[PhysicalDevice(name='/physical_device:GPU:0', device_type='GPU')]"
            ]
          },
          "metadata": {},
          "execution_count": 2
        }
      ],
      "source": [
        "import tensorflow as tf\n",
        "import glob\n",
        "import os\n",
        "import shutil\n",
        "import tqdm\n",
        "import random\n",
        "import matplotlib.pyplot as plt\n",
        "import torch\n",
        "from datasets import load_dataset\n",
        "from tokenizers import Tokenizer\n",
        "from tokenizers.models import BPE\n",
        "from tokenizers.trainers import BpeTrainer\n",
        "from tokenizers.pre_tokenizers import Whitespace\n",
        "from transformers import PreTrainedTokenizerFast\n",
        "from transformers import DataCollatorForLanguageModeling\n",
        "from transformers import GPT2Config, GPT2LMHeadModel\n",
        "from transformers import TrainingArguments, Trainer\n",
        "\n",
        "tf.config.list_physical_devices(\"GPU\")"
      ]
    },
    {
      "cell_type": "markdown",
      "metadata": {
        "id": "A-2RJg-BE-LO"
      },
      "source": [
        "## Load the dataset. First from the internet. Then from the hard drive.\n"
      ]
    },
    {
      "cell_type": "code",
      "execution_count": 5,
      "metadata": {
        "id": "LPywz4N5BYWW",
        "colab": {
          "base_uri": "https://localhost:8080/"
        },
        "outputId": "c13f2ff4-a31a-47fd-e9b3-0dd8f1877a82"
      },
      "outputs": [
        {
          "output_type": "stream",
          "name": "stdout",
          "text": [
            "Cloning into 'lovecraftcorpus'...\n",
            "remote: Enumerating objects: 74, done.\u001b[K\n",
            "remote: Counting objects: 100% (4/4), done.\u001b[K\n",
            "remote: Compressing objects: 100% (4/4), done.\u001b[K\n",
            "remote: Total 74 (delta 0), reused 3 (delta 0), pack-reused 70 (from 1)\u001b[K\n",
            "Receiving objects: 100% (74/74), 1.12 MiB | 2.74 MiB/s, done.\n",
            "['lovecraftcorpus/alchemist.txt', 'lovecraftcorpus/arthur_jermyn.txt', 'lovecraftcorpus/azathoth.txt', 'lovecraftcorpus/beast.txt', 'lovecraftcorpus/beyond_wall_of_sleep.txt', 'lovecraftcorpus/book.txt', 'lovecraftcorpus/celephais.txt', 'lovecraftcorpus/charles_dexter_ward.txt', 'lovecraftcorpus/clergyman.txt', 'lovecraftcorpus/colour_out_of_space.txt', 'lovecraftcorpus/cool_air.txt', 'lovecraftcorpus/crawling_chaos.txt', 'lovecraftcorpus/cthulhu.txt', 'lovecraftcorpus/dagon.txt', 'lovecraftcorpus/descendent.txt', 'lovecraftcorpus/doorstep.txt', 'lovecraftcorpus/dreams_in_the_witch.txt', 'lovecraftcorpus/dunwich.txt', 'lovecraftcorpus/erich_zann.txt', 'lovecraftcorpus/ex_oblivione.txt', 'lovecraftcorpus/festival.txt', 'lovecraftcorpus/from_beyond.txt', 'lovecraftcorpus/gates_of_silver_key.txt', 'lovecraftcorpus/haunter.txt', 'lovecraftcorpus/he.txt', 'lovecraftcorpus/high_house_mist.txt', 'lovecraftcorpus/hound.txt', 'lovecraftcorpus/hypnos.txt', 'lovecraftcorpus/innsmouth.txt', 'lovecraftcorpus/iranon.txt', 'lovecraftcorpus/juan_romero.txt', 'lovecraftcorpus/kadath.txt', 'lovecraftcorpus/lurking_fear.txt', 'lovecraftcorpus/martins_beach.txt', 'lovecraftcorpus/medusas_coil.txt', 'lovecraftcorpus/memory.txt', 'lovecraftcorpus/moon_bog.txt', 'lovecraftcorpus/mountains_of_madness.txt', 'lovecraftcorpus/nameless.txt', 'lovecraftcorpus/nyarlathotep.txt', 'lovecraftcorpus/old_folk.txt', 'lovecraftcorpus/other_gods.txt', 'lovecraftcorpus/outsider.txt', 'lovecraftcorpus/pharoahs.txt', 'lovecraftcorpus/pickman.txt', 'lovecraftcorpus/picture_house.txt', 'lovecraftcorpus/poetry_of_gods.txt', 'lovecraftcorpus/polaris.txt', 'lovecraftcorpus/randolph_carter.txt', 'lovecraftcorpus/rats_walls.txt', 'lovecraftcorpus/reanimator.txt', 'lovecraftcorpus/redhook.txt', 'lovecraftcorpus/sarnath.txt', 'lovecraftcorpus/shadow_out_of_time.txt', 'lovecraftcorpus/shunned_house.txt', 'lovecraftcorpus/silver_key.txt', 'lovecraftcorpus/street.txt', 'lovecraftcorpus/temple.txt', 'lovecraftcorpus/terrible_old_man.txt', 'lovecraftcorpus/tomb.txt', 'lovecraftcorpus/tree.txt', 'lovecraftcorpus/ulthar.txt', 'lovecraftcorpus/unnamable.txt', 'lovecraftcorpus/vault.txt', 'lovecraftcorpus/what_moon_brings.txt', 'lovecraftcorpus/whisperer.txt', 'lovecraftcorpus/white_ship.txt']\n",
            "Corpus downloaded.\n"
          ]
        }
      ],
      "source": [
        "dataset_file = \"dataset.txt\"\n",
        "\n",
        "# How many files to load.\n",
        "file_number = 100\n",
        "\n",
        "# Clone the repo.\n",
        "!git clone https://github.com/vilmibm/lovecraftcorpus\n",
        "\n",
        "# Find all the files.\n",
        "paths = glob.glob(\"lovecraftcorpus/*.txt\")\n",
        "\n",
        "# Do not use all.\n",
        "paths = paths[:file_number]\n",
        "print(sorted(paths))\n",
        "\n",
        "# Merge.\n",
        "with open(dataset_file, \"w\") as output_file:\n",
        "    for path in paths:\n",
        "        for line in open(path, \"r\"):\n",
        "            for split in line.split(\"\\n\"):\n",
        "                split = split.strip()\n",
        "                if split != \"\":\n",
        "                    print(split, file=output_file)\n",
        "\n",
        "# Delete repo.\n",
        "!rm -rf lovecraftcorpus\n",
        "\n",
        "# Done.\n",
        "print(\"Corpus downloaded.\")"
      ]
    },
    {
      "cell_type": "code",
      "source": [
        "import os\n",
        "import kagglehub\n",
        "import shutil\n",
        "\n",
        "# Define the folder where the dataset will be stored\n",
        "output_folder = \"/content/scripts\"\n",
        "\n",
        "# Ensure the directory exists\n",
        "os.makedirs(output_folder, exist_ok=True)\n",
        "\n",
        "# Download the dataset\n",
        "path = kagglehub.dataset_download(\"divyansh22/friends-tv-show-script\")\n",
        "\n",
        "print(\"✅ Dataset downloaded and saved in:\", path)\n",
        "\n",
        "# Copy all files from the source path to the destination\n",
        "shutil.copytree(path, output_folder, dirs_exist_ok=True)\n",
        "\n"
      ],
      "metadata": {
        "colab": {
          "base_uri": "https://localhost:8080/",
          "height": 122
        },
        "id": "H0pwG1ZkApLd",
        "outputId": "88d99fb7-6886-4c28-a8a6-1d75e1a9387f"
      },
      "execution_count": 3,
      "outputs": [
        {
          "output_type": "stream",
          "name": "stdout",
          "text": [
            "Warning: Looks like you're using an outdated `kagglehub` version (installed: 0.3.7), please consider upgrading to the latest version (0.3.8).\n",
            "Downloading from https://www.kaggle.com/api/v1/datasets/download/divyansh22/friends-tv-show-script?dataset_version_number=1...\n"
          ]
        },
        {
          "output_type": "stream",
          "name": "stderr",
          "text": [
            "100%|██████████| 1.67M/1.67M [00:00<00:00, 126MB/s]"
          ]
        },
        {
          "output_type": "stream",
          "name": "stdout",
          "text": [
            "Extracting files...\n",
            "✅ Dataset downloaded and saved in: /root/.cache/kagglehub/datasets/divyansh22/friends-tv-show-script/versions/1\n"
          ]
        },
        {
          "output_type": "stream",
          "name": "stderr",
          "text": [
            "\n"
          ]
        },
        {
          "output_type": "execute_result",
          "data": {
            "text/plain": [
              "'/content/scripts'"
            ],
            "application/vnd.google.colaboratory.intrinsic+json": {
              "type": "string"
            }
          },
          "metadata": {},
          "execution_count": 3
        }
      ]
    },
    {
      "cell_type": "code",
      "execution_count": 4,
      "metadata": {
        "id": "5qNLKWdLEuEj",
        "colab": {
          "base_uri": "https://localhost:8080/",
          "height": 153,
          "referenced_widgets": [
            "c080f0559666411e995a2ae996e3d886",
            "9961fba313414f1c93e47bf475dce1a5",
            "5d0a7f40cf56461e8de3b67c5180ed19",
            "d462eae96de3466890ec4f36444e4ab6",
            "beb4c84c4dde415582e0f65252ec8d73",
            "cd907bf687134a40b1a2c5ae197a88dc",
            "6b76f8c997294777bce89bccd43918a6",
            "98dbf784b5324e309f244c765e32f4bd",
            "ba3c8cc75fc84e289041f0f524b5d5c7",
            "aa342437972547f39422ec5821aaa786",
            "3d72744e23e14336b39dcbe2fbaf6298"
          ]
        },
        "outputId": "6eab84cd-518d-4896-dea8-b4116fc3341b"
      },
      "outputs": [
        {
          "output_type": "display_data",
          "data": {
            "text/plain": [
              "Generating train split: 0 examples [00:00, ? examples/s]"
            ],
            "application/vnd.jupyter.widget-view+json": {
              "version_major": 2,
              "version_minor": 0,
              "model_id": "c080f0559666411e995a2ae996e3d886"
            }
          },
          "metadata": {}
        },
        {
          "output_type": "execute_result",
          "data": {
            "text/plain": [
              "DatasetDict({\n",
              "    train: Dataset({\n",
              "        features: ['text'],\n",
              "        num_rows: 66540\n",
              "    })\n",
              "})"
            ]
          },
          "metadata": {},
          "execution_count": 4
        }
      ],
      "source": [
        "dataset_file = '/content/scripts/Friends_Transcript.txt'\n",
        "raw_datasets = load_dataset(\"text\", data_files=[dataset_file])\n",
        "raw_datasets"
      ]
    },
    {
      "cell_type": "markdown",
      "metadata": {
        "id": "TdsAkrgaFGqf"
      },
      "source": [
        "Let us look at an example."
      ]
    },
    {
      "cell_type": "code",
      "execution_count": 5,
      "metadata": {
        "id": "Oizu6moyFA_A",
        "colab": {
          "base_uri": "https://localhost:8080/"
        },
        "outputId": "d53b2d95-fd1e-427a-e481-057d7cd3b200"
      },
      "outputs": [
        {
          "output_type": "stream",
          "name": "stdout",
          "text": [
            "THE ONE WHERE MONICA GETS A NEW ROOMATE (THE PILOT-THE UNCUT VERSION)\n",
            "Written by: Marta Kauffman & David Crane\n",
            "[Scene: Central Perk, Chandler, Joey, Phoebe, and Monica are there.]\n",
            "Monica: There's nothing to tell! He's just some guy I work with!\n",
            "Joey: C'mon, you're going out with the guy! There's gotta be something wrong with him!\n",
            "Chandler: All right Joey, be nice. So does he have a hump? A hump and a hairpiece?\n",
            "Phoebe: Wait, does he eat chalk?\n",
            "(They all stare, bemused.)\n",
            "Phoebe: Just, 'cause, I don't want her to go through what I went through with Carl- oh!\n",
            "Monica: Okay, everybody relax. This is not even a date. It's just two people going out to dinner and- not having sex.\n"
          ]
        }
      ],
      "source": [
        "for index in range(10):\n",
        "    token_sequence = raw_datasets[\"train\"][index][\"text\"]\n",
        "    print(token_sequence)"
      ]
    },
    {
      "cell_type": "markdown",
      "metadata": {
        "id": "wnBUMINdGccB"
      },
      "source": [
        "# Part 2: Training GPT-2.\n",
        "\n",
        "---\n",
        "\n",
        "## Train the tokenizer."
      ]
    },
    {
      "cell_type": "code",
      "execution_count": 6,
      "metadata": {
        "id": "3NTb_LYYDkU4",
        "colab": {
          "base_uri": "https://localhost:8080/"
        },
        "outputId": "b82fd198-fe22-435e-d6d8-b5026093084d"
      },
      "outputs": [
        {
          "output_type": "execute_result",
          "data": {
            "text/plain": [
              "0"
            ]
          },
          "metadata": {},
          "execution_count": 6
        }
      ],
      "source": [
        "tokenizer = Tokenizer(BPE(unk_token=\"[UNK]\"))\n",
        "trainer = BpeTrainer(vocab_size=5000, special_tokens=[\"[UNK]\", \"[PAD]\"])\n",
        "tokenizer.pre_tokenizer = Whitespace()\n",
        "\n",
        "def batch_iterator(batch_size=1000):\n",
        "    for i in range(0, len(raw_datasets[\"train\"]), batch_size):\n",
        "        yield raw_datasets[\"train\"][i : i + batch_size][\"text\"]\n",
        "\n",
        "tokenizer.train_from_iterator(batch_iterator(), trainer=trainer, length=len(raw_datasets[\"train\"]))\n",
        "tokenizer.save(\"tokenizer.json\")\n",
        "\n",
        "tokenizer = PreTrainedTokenizerFast(tokenizer_file=\"tokenizer.json\")\n",
        "tokenizer.add_special_tokens({'pad_token': '[PAD]'})"
      ]
    },
    {
      "cell_type": "code",
      "execution_count": 9,
      "metadata": {
        "id": "2oQFOog5EYTV",
        "colab": {
          "base_uri": "https://localhost:8080/"
        },
        "outputId": "74143344-3d53-4f65-a87d-a04000e4b082"
      },
      "outputs": [
        {
          "output_type": "execute_result",
          "data": {
            "text/plain": [
              "5000"
            ]
          },
          "metadata": {},
          "execution_count": 9
        }
      ],
      "source": [
        "tokenizer.vocab_size"
      ]
    },
    {
      "cell_type": "code",
      "execution_count": 7,
      "metadata": {
        "id": "pFyFYaWaG1bc",
        "colab": {
          "base_uri": "https://localhost:8080/"
        },
        "outputId": "693e6cdf-ec6a-4d1f-d1b4-4d09eeef4bfd"
      },
      "outputs": [
        {
          "output_type": "execute_result",
          "data": {
            "text/plain": [
              "{'display': 4733,\n",
              " 'inet': 3755,\n",
              " 'my': 183,\n",
              " 'oney': 722,\n",
              " 'pact': 4971,\n",
              " 'Day': 1793,\n",
              " 'li': 162,\n",
              " 'Hold': 1557,\n",
              " 'father': 1296,\n",
              " 'dancing': 2115,\n",
              " 'power': 3747,\n",
              " 'ouder': 4978,\n",
              " 'unfair': 4995,\n",
              " 'Episode': 4131,\n",
              " 'Ye': 3962,\n",
              " 'fr': 900,\n",
              " 'instead': 2737,\n",
              " 'tech': 3519,\n",
              " 'youve': 1774,\n",
              " 'isnt': 1541,\n",
              " 'ount': 3162,\n",
              " 'read': 427,\n",
              " 'sister': 1199,\n",
              " 'Both': 2499,\n",
              " 'Five': 3862,\n",
              " 'annoy': 2532,\n",
              " 'clock': 2252,\n",
              " 'Susan': 1207,\n",
              " 'ium': 4330,\n",
              " 'alone': 1407,\n",
              " 'marry': 1779,\n",
              " 'may': 1299,\n",
              " 'rab': 4833,\n",
              " 'Itll': 4712,\n",
              " 'explain': 2431,\n",
              " 'Cha': 3103,\n",
              " 'Wait': 697,\n",
              " 'cate': 3308,\n",
              " 'involved': 4127,\n",
              " '...?': 2428,\n",
              " 'Val': 3261,\n",
              " 'pregn': 1515,\n",
              " 'ITS': 3193,\n",
              " 'Or': 1225,\n",
              " 'ellent': 2759,\n",
              " '::': 2420,\n",
              " 'meant': 1812,\n",
              " 'Mee': 4617,\n",
              " 'OR': 2779,\n",
              " 'categor': 4642,\n",
              " 'lap': 1398,\n",
              " 'dia': 2947,\n",
              " 'wouldn': 1674,\n",
              " 'Lea': 3349,\n",
              " 'S': 52,\n",
              " 'closet': 2946,\n",
              " 'exits': 1911,\n",
              " 'hundred': 2097,\n",
              " 'Parker': 2918,\n",
              " 'wasnt': 1635,\n",
              " 'ges': 3124,\n",
              " '20': 2326,\n",
              " 'Con': 2993,\n",
              " 'date': 841,\n",
              " 'ness': 2039,\n",
              " 'll': 108,\n",
              " 'Say': 2929,\n",
              " 'pur': 3005,\n",
              " 'talking': 653,\n",
              " 'Gell': 659,\n",
              " 'ful': 985,\n",
              " 'quarter': 4644,\n",
              " '.,': 4657,\n",
              " 'Right': 962,\n",
              " 'ower': 3091,\n",
              " 'spo': 1492,\n",
              " 'Meehan': 4798,\n",
              " 'fav': 1711,\n",
              " 'scary': 3698,\n",
              " 'DUNCAN': 4930,\n",
              " 'bottle': 2346,\n",
              " 'sp': 443,\n",
              " 'conference': 4267,\n",
              " 'inter': 954,\n",
              " 'pain': 1409,\n",
              " 'sticking': 3978,\n",
              " 'told': 765,\n",
              " 'actly': 4475,\n",
              " 'ara': 3166,\n",
              " 'parents': 1228,\n",
              " 'cups': 3785,\n",
              " 'cial': 888,\n",
              " 'Outside': 3038,\n",
              " 'proble': 1090,\n",
              " 'wed': 637,\n",
              " 'taking': 1152,\n",
              " 'mis': 1654,\n",
              " 'tissue': 4781,\n",
              " 'iss': 456,\n",
              " 'ven': 426,\n",
              " 'front': 1073,\n",
              " 'gg': 2088,\n",
              " 'try': 910,\n",
              " 'Sophie': 3247,\n",
              " 'Pottery': 4916,\n",
              " 'Dire': 1352,\n",
              " 'lin': 1441,\n",
              " 'Tries': 4189,\n",
              " 'igh': 2487,\n",
              " 'Hes': 1391,\n",
              " 'ROL': 3024,\n",
              " 'Bu': 1723,\n",
              " 'Gets': 2119,\n",
              " 'Jack': 1718,\n",
              " 'dest': 3226,\n",
              " '..': 144,\n",
              " 'ads': 3221,\n",
              " 'O': 48,\n",
              " 'co': 216,\n",
              " 'Stop': 1811,\n",
              " 'taken': 2833,\n",
              " 'hy': 296,\n",
              " 'cts': 3503,\n",
              " 'shakes': 2454,\n",
              " 'ii': 3265,\n",
              " 'Turns': 2923,\n",
              " 'Ac': 1470,\n",
              " 'Harad': 4406,\n",
              " 'dou': 4960,\n",
              " 'yan': 4062,\n",
              " 'revealing': 4632,\n",
              " 'ulations': 2494,\n",
              " 'Issac': 4654,\n",
              " '!!!!!': 4710,\n",
              " 'Play': 3288,\n",
              " 'fl': 1127,\n",
              " 'woman': 687,\n",
              " 'chasing': 4232,\n",
              " 'continu': 1643,\n",
              " 'playing': 1088,\n",
              " 'since': 1276,\n",
              " 'suit': 3273,\n",
              " 'feed': 3471,\n",
              " 'mental': 4716,\n",
              " 'asting': 2649,\n",
              " 'seen': 1263,\n",
              " 'time': 339,\n",
              " 'wore': 4463,\n",
              " 'Relax': 4215,\n",
              " 'dd': 984,\n",
              " 'Woo': 3609,\n",
              " 'Danny': 1980,\n",
              " 'bor': 1371,\n",
              " 'chance': 1604,\n",
              " 'able': 448,\n",
              " 'ped': 2821,\n",
              " 'congrat': 4594,\n",
              " 'Thanks': 748,\n",
              " '17': 4136,\n",
              " 'seat': 1577,\n",
              " 'yknow': 640,\n",
              " 'cu': 1573,\n",
              " 'flow': 2054,\n",
              " 'oun': 1773,\n",
              " 'yesterday': 2658,\n",
              " 'wallet': 4501,\n",
              " 'were': 333,\n",
              " 'ism': 4839,\n",
              " 'ound': 345,\n",
              " 'after': 772,\n",
              " 'cons': 2943,\n",
              " 'Whe': 3501,\n",
              " 'dollars': 1810,\n",
              " 'jar': 4553,\n",
              " 'Passenger': 4299,\n",
              " 'certain': 2735,\n",
              " 'ket': 816,\n",
              " 'noon': 3619,\n",
              " 'soft': 3651,\n",
              " 'candle': 4505,\n",
              " 'surprise': 2169,\n",
              " 'treat': 2893,\n",
              " 'Great': 1275,\n",
              " 'about': 253,\n",
              " 'haven': 1814,\n",
              " 'tal': 361,\n",
              " 'Transcri': 1134,\n",
              " \"'.\": 2217,\n",
              " 'moon': 2537,\n",
              " 'ache': 3052,\n",
              " 'rew': 1632,\n",
              " 'antically': 3470,\n",
              " '!': 2,\n",
              " 'there': 252,\n",
              " 'appoint': 2125,\n",
              " 'irst': 553,\n",
              " 'EL': 531,\n",
              " 'listens': 2342,\n",
              " 'slip': 4628,\n",
              " 'open': 573,\n",
              " 'tip': 3424,\n",
              " 'lly': 870,\n",
              " 'together': 730,\n",
              " 'vo': 1007,\n",
              " 'wants': 1077,\n",
              " 'wrote': 2685,\n",
              " 'deser': 3372,\n",
              " 'Who': 607,\n",
              " 'sor': 3750,\n",
              " 'Ne': 3551,\n",
              " 'believ': 2338,\n",
              " 'ok': 877,\n",
              " 'appreciate': 2739,\n",
              " 'profess': 3915,\n",
              " 'poss': 1928,\n",
              " 'history': 3901,\n",
              " 'leaving': 1521,\n",
              " 'member': 803,\n",
              " 'pages': 4117,\n",
              " 'ility': 2861,\n",
              " 'kers': 3457,\n",
              " 'small': 1753,\n",
              " 'clo': 537,\n",
              " 'dressed': 2236,\n",
              " '#': 4,\n",
              " 'experience': 3789,\n",
              " 'catching': 4750,\n",
              " 'Kash': 4949,\n",
              " 'weve': 2615,\n",
              " 'sball': 3159,\n",
              " 'yester': 2622,\n",
              " 'plans': 2584,\n",
              " 'long': 778,\n",
              " 'COMMERCIAL': 4135,\n",
              " 'RE': 1186,\n",
              " 'presents': 2519,\n",
              " 'beer': 2351,\n",
              " 'Hum': 4541,\n",
              " '.\")': 4485,\n",
              " 'Cat': 3251,\n",
              " 'trash': 3429,\n",
              " 'ig': 366,\n",
              " 'keep': 785,\n",
              " 'major': 4868,\n",
              " 'dancer': 4624,\n",
              " 'minute': 892,\n",
              " 'ged': 2385,\n",
              " 'information': 3357,\n",
              " 'uation': 2402,\n",
              " 'machine': 1642,\n",
              " 'Ew': 4034,\n",
              " 'You': 191,\n",
              " 'Zack': 3262,\n",
              " 'walked': 3367,\n",
              " 'ately': 2111,\n",
              " 'raise': 2944,\n",
              " 'em': 762,\n",
              " 'Tony': 4120,\n",
              " 'naked': 1661,\n",
              " 'youd': 2245,\n",
              " 'buy': 1451,\n",
              " 'cer': 1308,\n",
              " 'sn': 2023,\n",
              " 'Te': 2399,\n",
              " 'expen': 4082,\n",
              " 'acle': 4444,\n",
              " 'obviously': 2045,\n",
              " 'CAN': 4137,\n",
              " 'means': 1420,\n",
              " 'viol': 4904,\n",
              " 'sensitive': 4883,\n",
              " 'bunny': 4020,\n",
              " 'Mom': 1666,\n",
              " 'Can': 868,\n",
              " 'attr': 4443,\n",
              " 'fat': 2032,\n",
              " 'noticing': 3824,\n",
              " 'lau': 534,\n",
              " 'wonder': 1332,\n",
              " 'screams': 3143,\n",
              " 'marriage': 1923,\n",
              " 'thous': 3010,\n",
              " 'scar': 4177,\n",
              " 'notices': 1815,\n",
              " 'god': 1288,\n",
              " 'jealous': 2839,\n",
              " 'worse': 2206,\n",
              " 'Mor': 2329,\n",
              " 'gay': 2177,\n",
              " 'Cli': 3664,\n",
              " 'How': 473,\n",
              " 'ides': 1611,\n",
              " 'fle': 2849,\n",
              " 'press': 1139,\n",
              " 'ran': 467,\n",
              " 'Philli': 4016,\n",
              " 'basket': 2806,\n",
              " 'later': 1082,\n",
              " 'Alright': 895,\n",
              " 'CHANDLER': 562,\n",
              " '^': 62,\n",
              " 'respe': 3461,\n",
              " 'sing': 674,\n",
              " 'Takes': 2502,\n",
              " 'turning': 1400,\n",
              " 'Now': 664,\n",
              " 'Missy': 4752,\n",
              " 'ating': 744,\n",
              " 'follow': 1698,\n",
              " 'those': 755,\n",
              " 'excuse': 2210,\n",
              " 'ye': 452,\n",
              " 'sof': 2225,\n",
              " 'sleeping': 2213,\n",
              " 'anc': 997,\n",
              " 'thing': 217,\n",
              " 'separ': 4341,\n",
              " 'kay': 195,\n",
              " 'ltane': 4383,\n",
              " 'Ex': 879,\n",
              " '8': 25,\n",
              " 'bers': 2149,\n",
              " 'gone': 1408,\n",
              " 'Rob': 3306,\n",
              " 'Jill': 1550,\n",
              " 'Saturday': 3496,\n",
              " 'apes': 4348,\n",
              " 'ee': 1425,\n",
              " 'row': 497,\n",
              " 'velo': 3417,\n",
              " 'cle': 864,\n",
              " 'Should': 3644,\n",
              " 'points': 1282,\n",
              " 'Bri': 3075,\n",
              " 'Bloomingda': 4655,\n",
              " \"',\": 3600,\n",
              " 'do': 153,\n",
              " 'difficult': 4026,\n",
              " 'fortun': 4301,\n",
              " 'y': 89,\n",
              " 'zabeth': 1402,\n",
              " 'Pete': 1385,\n",
              " 'Whoo': 4484,\n",
              " 'heads': 1656,\n",
              " 'here': 233,\n",
              " 'appointment': 4630,\n",
              " 'better': 749,\n",
              " 'Richard': 921,\n",
              " 'ron': 3972,\n",
              " 'accidentally': 4297,\n",
              " 'By': 2812,\n",
              " 'app': 906,\n",
              " 'ces': 1761,\n",
              " 'cook': 1250,\n",
              " 'freaked': 3149,\n",
              " 'trees': 4563,\n",
              " 'Sarah': 2456,\n",
              " 'mem': 764,\n",
              " 'Ah': 1021,\n",
              " 'COMM': 4123,\n",
              " 'So': 270,\n",
              " 'catch': 2020,\n",
              " 'subway': 4012,\n",
              " 'zes': 4835,\n",
              " 'hh': 482,\n",
              " 'Well': 238,\n",
              " 'full': 1343,\n",
              " 'bags': 3189,\n",
              " 'About': 3381,\n",
              " 'cony': 2336,\n",
              " 'Daddy': 3342,\n",
              " 'supposed': 1114,\n",
              " 'shouldn': 2908,\n",
              " 'swing': 3141,\n",
              " 'rible': 1368,\n",
              " 'gun': 2901,\n",
              " 'sur': 1151,\n",
              " 'bath': 782,\n",
              " 'anim': 3050,\n",
              " 'schedu': 4237,\n",
              " 'ises': 1732,\n",
              " 'ald': 4445,\n",
              " 'soap': 3122,\n",
              " '??': 2394,\n",
              " 'Love': 3291,\n",
              " 'fli': 1738,\n",
              " 'be': 111,\n",
              " 'sha': 959,\n",
              " 'bald': 4747,\n",
              " 'wat': 2691,\n",
              " 'fro': 4150,\n",
              " 'ives': 2355,\n",
              " 'Exactly': 4482,\n",
              " 'isn': 1373,\n",
              " 'ly': 203,\n",
              " 'tired': 2763,\n",
              " 'through': 804,\n",
              " 'uni': 2697,\n",
              " 'put': 480,\n",
              " 'whenever': 4395,\n",
              " 'wet': 3569,\n",
              " 'feelings': 2256,\n",
              " 'Kat': 1158,\n",
              " 'OH': 2611,\n",
              " 'ild': 1692,\n",
              " 'right': 223,\n",
              " 'tongue': 4094,\n",
              " 'They': 369,\n",
              " 'FBO': 3949,\n",
              " 'case': 2050,\n",
              " 'gotta': 716,\n",
              " 'kinda': 854,\n",
              " 'ar': 120,\n",
              " 'finite': 1858,\n",
              " 'giant': 3635,\n",
              " 'CAROL': 3026,\n",
              " 'youll': 2001,\n",
              " 'Real': 2945,\n",
              " 'Naked': 3402,\n",
              " 'hurry': 4286,\n",
              " 'via': 4976,\n",
              " 'GER': 4418,\n",
              " 'priate': 3844,\n",
              " 'pointing': 2496,\n",
              " 'middle': 2171,\n",
              " 'amazing': 1461,\n",
              " 'pushing': 3384,\n",
              " 'turned': 2357,\n",
              " 'Open': 1185,\n",
              " 'ise': 745,\n",
              " 'painting': 4495,\n",
              " 'whispering': 2875,\n",
              " 'GO': 3348,\n",
              " 'ational': 4181,\n",
              " 'wasn': 1680,\n",
              " 'runs': 1066,\n",
              " 'numbers': 3234,\n",
              " 'Bl': 3074,\n",
              " 'awkward': 2589,\n",
              " 'ne': 218,\n",
              " 'credits': 4231,\n",
              " 'Points': 1290,\n",
              " 'song': 1559,\n",
              " 'cool': 1161,\n",
              " 'LA': 4322,\n",
              " 'Lor': 4223,\n",
              " 'Room': 1896,\n",
              " 'zie': 2692,\n",
              " 'norm': 2775,\n",
              " 'ofessor': 2481,\n",
              " 'vac': 3088,\n",
              " 'opp': 2820,\n",
              " 'looked': 2240,\n",
              " 'past': 1712,\n",
              " 'Ti': 1784,\n",
              " 'att': 1648,\n",
              " 'warm': 3460,\n",
              " 'crush': 3031,\n",
              " 'Ya': 2485,\n",
              " 'Back': 2686,\n",
              " 'dessert': 4304,\n",
              " 'fu': 3452,\n",
              " 'paper': 1598,\n",
              " 'ms': 849,\n",
              " 'free': 1575,\n",
              " 'guest': 2334,\n",
              " 'very': 286,\n",
              " 'class': 1490,\n",
              " 'hoping': 2758,\n",
              " 'IE': 1440,\n",
              " 'last': 676,\n",
              " 'Dry': 4940,\n",
              " 'beautiful': 1229,\n",
              " 'speed': 3708,\n",
              " 'still': 469,\n",
              " 'acing': 3820,\n",
              " 'Alex': 3728,\n",
              " 'speaking': 2984,\n",
              " 'older': 3703,\n",
              " 'Receptionist': 3596,\n",
              " 'ously': 3772,\n",
              " 'Mike': 598,\n",
              " 'shoe': 1639,\n",
              " 'Night': 4816,\n",
              " 'roof': 3748,\n",
              " 'Like': 1436,\n",
              " 'locked': 3765,\n",
              " 'assistant': 2587,\n",
              " 'professor': 3916,\n",
              " 'Monday': 3896,\n",
              " 'porn': 2344,\n",
              " 'charity': 4387,\n",
              " 'Put': 3260,\n",
              " 'cream': 2529,\n",
              " 'oween': 4970,\n",
              " 'G': 40,\n",
              " 'mimes': 4471,\n",
              " 'descri': 4282,\n",
              " 'tions': 1735,\n",
              " 'cannot': 1828,\n",
              " 'relation': 1627,\n",
              " 'abs': 2124,\n",
              " 'ac': 114,\n",
              " 'bian': 2555,\n",
              " 'ummy': 4456,\n",
              " 'MRS': 1942,\n",
              " 'disgusted': 3383,\n",
              " 'worked': 2297,\n",
              " 'realizes': 2255,\n",
              " 'approaches': 3035,\n",
              " 'dec': 1016,\n",
              " 'ings': 2103,\n",
              " 'easy': 1792,\n",
              " 'ask': 897,\n",
              " 'monkey': 1972,\n",
              " 'finger': 1963,\n",
              " 'shake': 1765,\n",
              " 'nu': 3354,\n",
              " 'attractive': 3795,\n",
              " 'learned': 3713,\n",
              " 'reme': 3890,\n",
              " 'ying': 4438,\n",
              " 'Amer': 3379,\n",
              " 'vin': 3815,\n",
              " 'interest': 1637,\n",
              " 'Qu': 2423,\n",
              " 'Cont': 4660,\n",
              " 'the': 100,\n",
              " 'apart': 2582,\n",
              " 'started': 1571,\n",
              " 'MN': 1820,\n",
              " 'legs': 2452,\n",
              " 'atch': 548,\n",
              " 'opportun': 4769,\n",
              " 'Fat': 3861,\n",
              " 'holding': 1253,\n",
              " 'engagement': 3295,\n",
              " 'flo': 1337,\n",
              " 'Ohhh': 1741,\n",
              " 'underwear': 2495,\n",
              " 'Benjam': 2866,\n",
              " 'Fran': 826,\n",
              " 'Hello': 865,\n",
              " 'tur': 1864,\n",
              " 'agree': 2538,\n",
              " 'didnt': 622,\n",
              " 'Minsk': 4029,\n",
              " 'Story': 3045,\n",
              " 'form': 1655,\n",
              " 'til': 2857,\n",
              " 'returns': 2138,\n",
              " 'success': 4523,\n",
              " 'ding': 555,\n",
              " 'AL': 3249,\n",
              " 'cially': 3332,\n",
              " 'Unless': 3195,\n",
              " 'Were': 1237,\n",
              " 'sou': 3749,\n",
              " 'ahh': 3081,\n",
              " 'te': 402,\n",
              " 'episode': 3518,\n",
              " 'JOEY': 579,\n",
              " 'keeps': 2435,\n",
              " 'moved': 2093,\n",
              " 'simu': 3923,\n",
              " 'CH': 324,\n",
              " 'him': 241,\n",
              " 'hungry': 3719,\n",
              " 'aul': 940,\n",
              " 'dates': 4044,\n",
              " 'hasing': 3831,\n",
              " 'ST': 1653,\n",
              " 'Rac': 127,\n",
              " 'goes': 601,\n",
              " 'nod': 3822,\n",
              " 'organ': 4246,\n",
              " 'rules': 2911,\n",
              " 'dent': 2556,\n",
              " 'glare': 4734,\n",
              " 'Cam': 4033,\n",
              " 'bles': 3428,\n",
              " 'Sil': 2552,\n",
              " 'ably': 4253,\n",
              " 'pad': 3971,\n",
              " 'pants': 1216,\n",
              " 'are': 178,\n",
              " 'ked': 422,\n",
              " 'scared': 2207,\n",
              " '>': 31,\n",
              " 'Any': 1140,\n",
              " 'RA': 506,\n",
              " 'uses': 4056,\n",
              " 'Vermont': 4748,\n",
              " 'dumped': 4118,\n",
              " 'ohn': 4175,\n",
              " 'Inter': 2187,\n",
              " 'roll': 1514,\n",
              " 'uncomfortable': 3128,\n",
              " 'wesome': 4848,\n",
              " 'Isn': 3333,\n",
              " 'word': 1457,\n",
              " 'beers': 4981,\n",
              " 'funny': 945,\n",
              " 'Barry': 1703,\n",
              " 'Forget': 3340,\n",
              " 'Roy': 3780,\n",
              " 'no': 118,\n",
              " 'Hot': 3140,\n",
              " 'favour': 4008,\n",
              " 'Seriously': 2322,\n",
              " 'pleased': 4832,\n",
              " 'college': 2172,\n",
              " 'pans': 4049,\n",
              " 'cut': 946,\n",
              " 'rip': 3169,\n",
              " 'smaller': 4627,\n",
              " 'brought': 1913,\n",
              " 'pot': 1987,\n",
              " 'Surpr': 4794,\n",
              " 'En': 2131,\n",
              " 'ates': 1482,\n",
              " 'poor': 3770,\n",
              " 'followed': 4724,\n",
              " '11': 4532,\n",
              " 'ier': 2307,\n",
              " 'shout': 3325,\n",
              " 'ooo': 1673,\n",
              " 'kets': 1601,\n",
              " 'aff': 4147,\n",
              " 'theyre': 1181,\n",
              " 'neat': 4993,\n",
              " 'ca': 3307,\n",
              " 'throw': 859,\n",
              " 'feels': 2316,\n",
              " 'yeah': 429,\n",
              " 'teach': 2386,\n",
              " 'reserv': 4692,\n",
              " 'j': 74,\n",
              " 'os': 1540,\n",
              " 'children': 2572,\n",
              " 'mi': 495,\n",
              " 'whole': 951,\n",
              " 'Gen': 2633,\n",
              " 'cro': 3874,\n",
              " 'mmer': 1040,\n",
              " 'JU': 4543,\n",
              " 'Call': 3444,\n",
              " 'agne': 3224,\n",
              " 'pol': 2618,\n",
              " 'salmon': 4746,\n",
              " 'selves': 3152,\n",
              " 'twelve': 4685,\n",
              " 'dry': 2636,\n",
              " 'Caitlin': 3599,\n",
              " 'green': 3741,\n",
              " 'recogn': 3937,\n",
              " 'teacher': 3177,\n",
              " 'closed': 3184,\n",
              " 'button': 2565,\n",
              " '\"?': 3944,\n",
              " 'exper': 2904,\n",
              " 'missed': 2239,\n",
              " 'step': 1740,\n",
              " 'state': 3416,\n",
              " 'ves': 1240,\n",
              " 'realiz': 1259,\n",
              " 'Chandlers': 1248,\n",
              " 'Every': 1010,\n",
              " 'Ori': 4143,\n",
              " 'Brend': 3948,\n",
              " 'Cop': 4538,\n",
              " 'z': 90,\n",
              " 'solutely': 1667,\n",
              " 'hoe': 145,\n",
              " 'Le': 2348,\n",
              " 'close': 1379,\n",
              " 'Bye': 1184,\n",
              " 'pretend': 1847,\n",
              " 'wide': 4565,\n",
              " 'Malcom': 4782,\n",
              " 'one': 177,\n",
              " 'cen': 231,\n",
              " 'planning': 3432,\n",
              " 'emp': 2343,\n",
              " 'def': 3695,\n",
              " 'olo': 1999,\n",
              " 'ignores': 4765,\n",
              " 'Mad': 4545,\n",
              " 'esc': 3513,\n",
              " 'attendant': 4623,\n",
              " 'labor': 4778,\n",
              " 'puzzled': 4121,\n",
              " 'He': 170,\n",
              " 'it': 113,\n",
              " 'Super': 3538,\n",
              " 'atest': 4172,\n",
              " 'dire': 2004,\n",
              " 'Pau': 4226,\n",
              " 'weler': 4699,\n",
              " 'ine': 316,\n",
              " 'CREDITS': 3442,\n",
              " 'dle': 1832,\n",
              " 'dial': 3370,\n",
              " 'enough': 1190,\n",
              " '[PAD]': 1,\n",
              " 'odo': 4969,\n",
              " 'stem': 3360,\n",
              " 'NOW': 4756,\n",
              " 'Julie': 1523,\n",
              " 'aisle': 3557,\n",
              " 'stupid': 1079,\n",
              " 'HA': 4664,\n",
              " 'bridesmaid': 4128,\n",
              " 'done': 1092,\n",
              " 'First': 2925,\n",
              " 'MIKE': 3593,\n",
              " 'crowd': 4918,\n",
              " 'ilt': 4464,\n",
              " 'ist': 329,\n",
              " 'lands': 4682,\n",
              " 'decis': 2605,\n",
              " 'pri': 1833,\n",
              " 'est': 792,\n",
              " 'dude': 2867,\n",
              " 'Sop': 3058,\n",
              " 'quick': 1242,\n",
              " 'Shows': 3556,\n",
              " 'champagne': 4305,\n",
              " 'prove': 4270,\n",
              " 'doin': 1960,\n",
              " 'must': 1196,\n",
              " 'focus': 4179,\n",
              " 'cles': 4677,\n",
              " 'white': 2653,\n",
              " 'asp': 4577,\n",
              " 'mad': 652,\n",
              " 'support': 3706,\n",
              " 'pre': 380,\n",
              " 'curtain': 4393,\n",
              " 'huh': 658,\n",
              " 'Tul': 2847,\n",
              " 'creep': 3244,\n",
              " 'ouble': 1748,\n",
              " 'Br': 2328,\n",
              " 'akes': 1399,\n",
              " 'counter': 1510,\n",
              " 'St': 770,\n",
              " 'swe': 680,\n",
              " 'Mary': 3185,\n",
              " 'Rachels': 1193,\n",
              " 'spital': 1849,\n",
              " 'brace': 3336,\n",
              " 'Ethan': 2965,\n",
              " 'kick': 2579,\n",
              " 'wave': 2464,\n",
              " 'ated': 1061,\n",
              " 'GRAND': 4924,\n",
              " 'Ohh': 760,\n",
              " 'Pa': 1821,\n",
              " 'Sup': 2634,\n",
              " 'These': 2726,\n",
              " 'listen': 737,\n",
              " 'ppers': 4080,\n",
              " 'smile': 2257,\n",
              " 'Hmm': 1819,\n",
              " 'lobster': 4513,\n",
              " 'ones': 1488,\n",
              " 'played': 2769,\n",
              " 'seated': 4575,\n",
              " '|': 92,\n",
              " 'ship': 1414,\n",
              " '200': 3662,\n",
              " 'ite': 627,\n",
              " 'nn': 4153,\n",
              " 'sweet': 1304,\n",
              " 'Isa': 4666,\n",
              " 'today': 992,\n",
              " 'Estelle': 2483,\n",
              " 'inks': 2470,\n",
              " 'lea': 311,\n",
              " 'ni': 1388,\n",
              " 'happily': 3327,\n",
              " 'breaking': 2773,\n",
              " 'colle': 1807,\n",
              " 'ive': 358,\n",
              " 'imagine': 2877,\n",
              " 'ys': 3355,\n",
              " 'fruit': 3877,\n",
              " 'much': 518,\n",
              " 'seven': 2060,\n",
              " 'foosball': 3245,\n",
              " 'Mis': 3498,\n",
              " 'acted': 3277,\n",
              " 'hoo': 2101,\n",
              " 'thinkin': 4590,\n",
              " 'M': 46,\n",
              " 'Pors': 2598,\n",
              " 'couldn': 1886,\n",
              " 'sal': 1720,\n",
              " 'ining': 3117,\n",
              " '!?': 2882,\n",
              " 'bi': 2486,\n",
              " 'Doug': 2301,\n",
              " 'ended': 2491,\n",
              " 'making': 1071,\n",
              " 'Scene': 249,\n",
              " 'cks': 805,\n",
              " 'CR': 4936,\n",
              " 'Er': 780,\n",
              " 'Ohhhh': 4626,\n",
              " 'cl': 2133,\n",
              " 'knocks': 1879,\n",
              " 'ohh': 4600,\n",
              " 'oss': 125,\n",
              " 'port': 996,\n",
              " 'Charlie': 952,\n",
              " 'too': 375,\n",
              " 'Realizes': 3720,\n",
              " 'Buff': 2655,\n",
              " 'Se': 695,\n",
              " 'fly': 2782,\n",
              " 'Pet': 1273,\n",
              " 'Than': 462,\n",
              " 'Jr': 2926,\n",
              " 'Lad': 3733,\n",
              " 'Excuse': 1460,\n",
              " 'Michael': 3590,\n",
              " 'ame': 625,\n",
              " 'cousin': 4405,\n",
              " 'ind': 301,\n",
              " 'pump': 4830,\n",
              " 'tery': 2854,\n",
              " 'rows': 3134,\n",
              " 'exact': 1676,\n",
              " 'lean': 2510,\n",
              " 'Sergei': 3853,\n",
              " 'Sorry': 1219,\n",
              " 'onora': 4689,\n",
              " 'Hay': 4946,\n",
              " 'birds': 3343,\n",
              " 'ator': 1898,\n",
              " 'Cut': 861,\n",
              " 'least': 1689,\n",
              " 'Eh': 2421,\n",
              " 'straight': 2016,\n",
              " 'sometimes': 2313,\n",
              " 'ways': 825,\n",
              " 'itting': 681,\n",
              " 'group': 2834,\n",
              " 'era': 1446,\n",
              " 'or': 121,\n",
              " 'dis': 806,\n",
              " 'Vince': 3670,\n",
              " 'kis': 1059,\n",
              " 'Monica': 139,\n",
              " 'obsess': 4615,\n",
              " 'elle': 2106,\n",
              " 'gain': 3677,\n",
              " 'ds': 839,\n",
              " 'else': 894,\n",
              " 'Cher': 3730,\n",
              " 'Thanksgiving': 1699,\n",
              " 'et': 283,\n",
              " 'Ser': 1755,\n",
              " 'brea': 1889,\n",
              " 'crap': 2732,\n",
              " 'sold': 3419,\n",
              " 'hes': 594,\n",
              " 'ing': 105,\n",
              " 'redits': 873,\n",
              " '?!': 303,\n",
              " 'brain': 3186,\n",
              " 'believable': 2594,\n",
              " 'asleep': 1838,\n",
              " 'Si': 3404,\n",
              " 'covers': 2468,\n",
              " 'Ooo': 3552,\n",
              " 'perfect': 1505,\n",
              " 'grown': 3456,\n",
              " 'Joey': 136,\n",
              " 'slides': 4290,\n",
              " 'cene': 244,\n",
              " 'movie': 1361,\n",
              " 'RI': 1277,\n",
              " 'Pass': 3079,\n",
              " 'butter': 4996,\n",
              " 'afternoon': 4001,\n",
              " 'arran': 4846,\n",
              " 'chase': 4738,\n",
              " 'mister': 4967,\n",
              " 'pool': 3679,\n",
              " 'eah': 192,\n",
              " 'pan': 907,\n",
              " 'pract': 2522,\n",
              " 'quack': 4720,\n",
              " 'gig': 4964,\n",
              " 'suppose': 4480,\n",
              " 'swi': 2892,\n",
              " 'decision': 3201,\n",
              " 'Baby': 4934,\n",
              " 'REA': 3528,\n",
              " 'act': 679,\n",
              " 'ath': 665,\n",
              " 'scene': 1731,\n",
              " 'Nina': 3735,\n",
              " 'gasps': 1861,\n",
              " 'imagin': 4014,\n",
              " '!\"': 1428,\n",
              " 'Aas': 1529,\n",
              " 'rt': 1519,\n",
              " 'High': 4595,\n",
              " 'GOD': 4912,\n",
              " 'bout': 3739,\n",
              " 'ching': 2727,\n",
              " 'leontolog': 2672,\n",
              " 'strip': 4392,\n",
              " 'ud': 4564,\n",
              " 'Commercial': 1302,\n",
              " 'dam': 4149,\n",
              " 'Huh': 999,\n",
              " 'Produ': 4633,\n",
              " 'Al': 615,\n",
              " 'ag': 273,\n",
              " 'du': 856,\n",
              " 'a': 65,\n",
              " 'Franzblau': 4217,\n",
              " 'anger': 3369,\n",
              " 'hold': 696,\n",
              " 'realises': 3276,\n",
              " 'riage': 1875,\n",
              " 'This': 479,\n",
              " 'Cause': 1497,\n",
              " 'BIG': 4208,\n",
              " 'Grabs': 2390,\n",
              " 'bla': 1994,\n",
              " 'stru': 4245,\n",
              " 'Ta': 4822,\n",
              " 'jacket': 2547,\n",
              " 'za': 991,\n",
              " 'dered': 3059,\n",
              " 'Gold': 3576,\n",
              " 'minutes': 1511,\n",
              " 'ME': 2576,\n",
              " 'lax': 2014,\n",
              " 'stopped': 2602,\n",
              " 'Allesandro': 4592,\n",
              " 'twenty': 2755,\n",
              " 'pin': 2784,\n",
              " 'Wendy': 2816,\n",
              " 'ble': 499,\n",
              " 'fif': 2850,\n",
              " 'couple': 1113,\n",
              " 'Po': 975,\n",
              " 'van': 4057,\n",
              " '?': 32,\n",
              " 'animals': 4639,\n",
              " 'atten': 2825,\n",
              " 'ghs': 1714,\n",
              " 'Ursula': 1587,\n",
              " 'del': 2306,\n",
              " 'hor': 1318,\n",
              " 'horror': 3638,\n",
              " 'romantic': 2698,\n",
              " 'coll': 4078,\n",
              " 'money': 947,\n",
              " 'ev': 2052,\n",
              " 'Joanna': 1914,\n",
              " 'lives': 2436,\n",
              " 'acher': 1935,\n",
              " 'mes': 2265,\n",
              " 'mother': 1194,\n",
              " 'Pu': 4426,\n",
              " 'packed': 4236,\n",
              " 'ands': 1520,\n",
              " 'climb': 4510,\n",
              " 'host': 4446,\n",
              " 'student': 3913,\n",
              " 'mach': 1292,\n",
              " 'mill': 2613,\n",
              " 'utes': 1493,\n",
              " '.....': 3467,\n",
              " 'reads': 2832,\n",
              " 'silly': 3682,\n",
              " 'Flashback': 3938,\n",
              " 'Set': 4820,\n",
              " 'young': 2560,\n",
              " 'Jam': 4319,\n",
              " 'attrac': 3757,\n",
              " 'plo': 4156,\n",
              " 'erg': 3565,\n",
              " 'ortun': 3918,\n",
              " 'comple': 1932,\n",
              " 'irth': 1087,\n",
              " 'Sar': 2305,\n",
              " 'iting': 1507,\n",
              " 'difference': 3484,\n",
              " 'boat': 2430,\n",
              " 'viewer': 2703,\n",
              " 'car': 740,\n",
              " 'esandro': 4582,\n",
              " ...}"
            ]
          },
          "metadata": {},
          "execution_count": 7
        }
      ],
      "source": [
        "tokenizer.vocab"
      ]
    },
    {
      "cell_type": "code",
      "execution_count": 8,
      "metadata": {
        "id": "uEOlHRm0ZlWA"
      },
      "outputs": [],
      "source": [
        "from transformers import GPT2Tokenizer\n",
        "\n",
        "#tokenizer = GPT2Tokenizer.from_pretrained('gpt2')\n",
        "#tokenizer.save(\"tokenizer.json\")\n",
        "#tokenizer = PreTrainedTokenizerFast(tokenizer_file=\"tokenizer.json\")\n",
        "#tokenizer.add_special_tokens({'pad_token': '[PAD]'})"
      ]
    },
    {
      "cell_type": "markdown",
      "metadata": {
        "id": "tCZkCq0iGxg7"
      },
      "source": [
        "## Tokenize some samples."
      ]
    },
    {
      "cell_type": "markdown",
      "metadata": {
        "id": "U7i6MwOFG8-b"
      },
      "source": [
        "Inspect the vocabulary."
      ]
    },
    {
      "cell_type": "code",
      "execution_count": 9,
      "metadata": {
        "id": "zA4BhB0qGtie",
        "colab": {
          "base_uri": "https://localhost:8080/"
        },
        "outputId": "5e44968b-77fc-467f-dbbb-237cd0148ea9"
      },
      "outputs": [
        {
          "output_type": "stream",
          "name": "stdout",
          "text": [
            "Monica: There's nothing to tell! He's just some guy I work with!\n",
            "[139, 27, 599, 8, 83, 916, 107, 363, 2, 170, 8, 83, 185, 242, 263, 42, 572, 193, 2]\n",
            "['Monica', ':', 'There', \"'\", 's', 'nothing', 'to', 'tell', '!', 'He', \"'\", 's', 'just', 'some', 'guy', 'I', 'work', 'with', '!']\n",
            "19\n"
          ]
        }
      ],
      "source": [
        "token_sequence = raw_datasets[\"train\"][3][\"text\"]\n",
        "print(token_sequence)\n",
        "\n",
        "indices = tokenizer(token_sequence)[\"input_ids\"]\n",
        "print(indices)\n",
        "\n",
        "tokens = [tokenizer.decode([index]) for index in indices]\n",
        "print(tokens)\n",
        "print(len(tokens))"
      ]
    },
    {
      "cell_type": "code",
      "execution_count": 10,
      "metadata": {
        "id": "MCp0mFSW-xh3",
        "colab": {
          "base_uri": "https://localhost:8080/",
          "height": 447
        },
        "outputId": "dc85d6ec-5472-4abe-d4cb-80673640f5b6"
      },
      "outputs": [
        {
          "output_type": "stream",
          "name": "stderr",
          "text": [
            "100%|██████████| 66540/66540 [00:07<00:00, 8991.15it/s]\n"
          ]
        },
        {
          "output_type": "display_data",
          "data": {
            "text/plain": [
              "<Figure size 640x480 with 1 Axes>"
            ],
            "image/png": "[encoded data removed]"
          },
          "metadata": {}
        }
      ],
      "source": [
        "lengths = []\n",
        "for token_sequence in tqdm.tqdm(raw_datasets[\"train\"]):\n",
        "    token_sequence = token_sequence[\"text\"]\n",
        "    indices = tokenizer(token_sequence)[\"input_ids\"]\n",
        "    lengths += [len(indices)]\n",
        "\n",
        "plt.hist(lengths, bins=50)\n",
        "plt.show()"
      ]
    },
    {
      "cell_type": "markdown",
      "metadata": {
        "id": "4o9UvSpTHHER"
      },
      "source": [
        "## Train the model.\n",
        "\n",
        "Prepare the tokenization function."
      ]
    },
    {
      "cell_type": "code",
      "execution_count": 11,
      "metadata": {
        "id": "7dNy9ThsHAke",
        "colab": {
          "base_uri": "https://localhost:8080/"
        },
        "outputId": "c6a20041-c22d-4f3c-f08b-6ecec951cf2d"
      },
      "outputs": [
        {
          "output_type": "stream",
          "name": "stdout",
          "text": [
            "{'text': 'THE ONE WHERE MONICA GETS A NEW ROOMATE (THE PILOT-THE UNCUT VERSION)'}\n",
            "{'input_ids': [851, 1147, 2682, 577, 4316, 53, 52, 34, 4952, 56, 459, 48, 46, 2193, 38, 9, 851, 49, 42, 3864, 53, 14, 851, 2886, 36, 54, 53, 4326, 52, 42, 455, 10]}\n"
          ]
        }
      ],
      "source": [
        "sequence_length = 256\n",
        "\n",
        "def tokenize_function(example):\n",
        "    tokenized_example = tokenizer(\n",
        "        example[\"text\"],\n",
        "        truncation=True,\n",
        "        padding=True,\n",
        "        max_length=sequence_length,\n",
        "    )\n",
        "    return {\n",
        "        \"input_ids\": tokenized_example[\"input_ids\"]\n",
        "    }\n",
        "\n",
        "# Check a sample.\n",
        "token_sequence = raw_datasets[\"train\"][0]\n",
        "print(token_sequence)\n",
        "tokenized = tokenize_function(token_sequence)\n",
        "assert list(tokenized.keys()) == [\"input_ids\"], list(tokenized.keys())\n",
        "print(tokenized)"
      ]
    },
    {
      "cell_type": "markdown",
      "metadata": {
        "id": "7H34I1OLHSSg"
      },
      "source": [
        "Create the tokenized dataset."
      ]
    },
    {
      "cell_type": "code",
      "execution_count": 12,
      "metadata": {
        "id": "L2cZX-S3HRr9",
        "colab": {
          "base_uri": "https://localhost:8080/",
          "height": 86,
          "referenced_widgets": [
            "faf146e9fa5c4a0195f9048b847df04e",
            "076dc9731da940e5b71f3c65dec43eed",
            "171c2bb43c2e480b8756c3aa0d2c9446",
            "a31d64419ceb4ceaa7ee4464b39cb70a",
            "0c41b01bfaa8494da3264b0e339e69e3",
            "f2e70c8794aa4b43b4b724148e77641c",
            "2632b1671c274b0989f3d11dc9cc3a12",
            "c66d41def2e841adb05958f2b013b5fd",
            "0baad79440664587afe3c9e722c82373",
            "22ead824e5734f35abf1597887cd8785",
            "7ca1c115f67241a49174f6ef7abd07bf"
          ]
        },
        "outputId": "e442d6e7-6538-4a18-d3f1-7fdb0b960915"
      },
      "outputs": [
        {
          "output_type": "display_data",
          "data": {
            "text/plain": [
              "Map:   0%|          | 0/66540 [00:00<?, ? examples/s]"
            ],
            "application/vnd.jupyter.widget-view+json": {
              "version_major": 2,
              "version_minor": 0,
              "model_id": "faf146e9fa5c4a0195f9048b847df04e"
            }
          },
          "metadata": {}
        },
        {
          "output_type": "stream",
          "name": "stdout",
          "text": [
            "{'input_ids': [851, 1147, 2682, 577, 4316, 53, 52, 34, 4952, 56, 459, 48, 46, 2193, 38, 9, 851, 49, 42, 3864, 53, 14, 851, 2886, 36, 54, 53, 4326, 52, 42, 455, 10, 1, 1, 1, 1, 1, 1, 1, 1, 1, 1, 1, 1, 1, 1, 1, 1, 1, 1, 1, 1, 1, 1, 1, 1, 1, 1, 1, 1, 1, 1, 1, 1, 1, 1, 1, 1, 1, 1, 1, 1, 1, 1, 1, 1, 1, 1, 1, 1, 1, 1, 1, 1, 1, 1, 1, 1, 1, 1, 1, 1, 1, 1, 1, 1, 1, 1, 1, 1, 1, 1, 1, 1, 1, 1, 1, 1, 1, 1, 1, 1, 1, 1, 1, 1, 1, 1, 1, 1, 1, 1, 1, 1, 1, 1, 1, 1, 1, 1, 1, 1, 1, 1, 1, 1, 1, 1, 1, 1, 1, 1, 1, 1, 1, 1, 1, 1, 1, 1, 1, 1, 1, 1, 1, 1, 1, 1, 1, 1, 1, 1, 1, 1, 1, 1, 1, 1, 1, 1, 1, 1, 1, 1, 1, 1, 1, 1, 1, 1, 1, 1, 1, 1, 1, 1, 1, 1, 1, 1, 1, 1, 1, 1, 1, 1, 1, 1, 1, 1, 1, 1, 1, 1, 1, 1, 1, 1, 1, 1, 1, 1, 1, 1, 1, 1]}\n"
          ]
        }
      ],
      "source": [
        "tokenized_datasets = raw_datasets.map(tokenize_function, batched=True, remove_columns=raw_datasets[\"train\"].column_names)\n",
        "\n",
        "# Check a sample.\n",
        "tokenized = tokenized_datasets[\"train\"][0]\n",
        "assert list(tokenized.keys()) == [\"input_ids\"], list(tokenized.keys())\n",
        "print(tokenized)"
      ]
    },
    {
      "cell_type": "markdown",
      "metadata": {
        "id": "wF09ENCcJQJs"
      },
      "source": [
        "Instantiate a data collator."
      ]
    },
    {
      "cell_type": "code",
      "execution_count": 13,
      "metadata": {
        "id": "HItumD-wHNCU"
      },
      "outputs": [],
      "source": [
        "data_collator = DataCollatorForLanguageModeling(tokenizer, mlm=False)"
      ]
    },
    {
      "cell_type": "markdown",
      "metadata": {
        "id": "NXG4-rfqJRh4"
      },
      "source": [
        "Create the model."
      ]
    },
    {
      "cell_type": "code",
      "execution_count": 14,
      "metadata": {
        "id": "W9wyjd8cJMBN",
        "colab": {
          "base_uri": "https://localhost:8080/"
        },
        "outputId": "8ba8388b-7448-47c5-db7c-1eebf8d1dc29"
      },
      "outputs": [
        {
          "output_type": "execute_result",
          "data": {
            "text/plain": [
              "GPT2LMHeadModel(\n",
              "  (transformer): GPT2Model(\n",
              "    (wte): Embedding(5000, 512)\n",
              "    (wpe): Embedding(256, 512)\n",
              "    (drop): Dropout(p=0.1, inplace=False)\n",
              "    (h): ModuleList(\n",
              "      (0-5): 6 x GPT2Block(\n",
              "        (ln_1): LayerNorm((512,), eps=1e-05, elementwise_affine=True)\n",
              "        (attn): GPT2Attention(\n",
              "          (c_attn): Conv1D(nf=1536, nx=512)\n",
              "          (c_proj): Conv1D(nf=512, nx=512)\n",
              "          (attn_dropout): Dropout(p=0.1, inplace=False)\n",
              "          (resid_dropout): Dropout(p=0.1, inplace=False)\n",
              "        )\n",
              "        (ln_2): LayerNorm((512,), eps=1e-05, elementwise_affine=True)\n",
              "        (mlp): GPT2MLP(\n",
              "          (c_fc): Conv1D(nf=2048, nx=512)\n",
              "          (c_proj): Conv1D(nf=512, nx=2048)\n",
              "          (act): NewGELUActivation()\n",
              "          (dropout): Dropout(p=0.1, inplace=False)\n",
              "        )\n",
              "      )\n",
              "    )\n",
              "    (ln_f): LayerNorm((512,), eps=1e-05, elementwise_affine=True)\n",
              "  )\n",
              "  (lm_head): Linear(in_features=512, out_features=5000, bias=False)\n",
              ")"
            ]
          },
          "metadata": {},
          "execution_count": 14
        }
      ],
      "source": [
        "model_config = GPT2Config(\n",
        "    vocab_size=tokenizer.vocab_size,\n",
        "    pad_token_id=tokenizer.pad_token_id,\n",
        "    n_ctx=sequence_length,\n",
        "    n_embd=512,\n",
        "    n_head=8,\n",
        "    n_layer=6,\n",
        "    n_positions=sequence_length,\n",
        ")\n",
        "model = GPT2LMHeadModel(model_config)\n",
        "model"
      ]
    },
    {
      "cell_type": "markdown",
      "metadata": {
        "id": "GW34XvSQJare"
      },
      "source": [
        "## Test the data collator and the model."
      ]
    },
    {
      "cell_type": "code",
      "execution_count": 15,
      "metadata": {
        "id": "8dLuSRbIJXHi",
        "colab": {
          "base_uri": "https://localhost:8080/",
          "height": 1000
        },
        "outputId": "17aacf52-88a2-4b69-eb50-0ed68ebdd6cd"
      },
      "outputs": [
        {
          "output_type": "stream",
          "name": "stderr",
          "text": [
            "`loss_type=None` was set in the config but it is unrecognised.Using the default loss: `ForCausalLMLoss`.\n"
          ]
        },
        {
          "output_type": "stream",
          "name": "stdout",
          "text": [
            "input_ids: tensor([[ 60, 249,  27, 634, 646,  13, 138,  13, 136,  13, 148,  13, 104, 139,\n",
            "         178, 252, 230,   1,   1,   1,   1,   1,   1,   1,   1,   1,   1,   1,\n",
            "           1,   1,   1,   1,   1,   1,   1,   1,   1,   1,   1,   1,   1,   1,\n",
            "           1,   1,   1,   1,   1,   1,   1,   1,   1,   1,   1,   1,   1,   1,\n",
            "           1,   1,   1,   1,   1,   1,   1,   1,   1,   1,   1,   1,   1,   1,\n",
            "           1,   1,   1,   1,   1,   1,   1,   1,   1,   1,   1,   1,   1,   1,\n",
            "           1,   1,   1,   1,   1,   1,   1,   1,   1,   1,   1,   1,   1,   1,\n",
            "           1,   1,   1,   1,   1,   1,   1,   1,   1,   1,   1,   1,   1,   1,\n",
            "           1,   1,   1,   1,   1,   1,   1,   1,   1,   1,   1,   1,   1,   1,\n",
            "           1,   1,   1,   1,   1,   1,   1,   1,   1,   1,   1,   1,   1,   1,\n",
            "           1,   1,   1,   1,   1,   1,   1,   1,   1,   1,   1,   1,   1,   1,\n",
            "           1,   1,   1,   1,   1,   1,   1,   1,   1,   1,   1,   1,   1,   1,\n",
            "           1,   1,   1,   1,   1,   1,   1,   1,   1,   1,   1,   1,   1,   1,\n",
            "           1,   1,   1,   1,   1,   1,   1,   1,   1,   1,   1,   1,   1,   1,\n",
            "           1,   1,   1,   1,   1,   1,   1,   1,   1,   1,   1,   1,   1,   1,\n",
            "           1,   1,   1,   1,   1,   1]])\n",
            "\n",
            "logits: tensor([[[-0.4448,  0.2255, -0.4365,  ..., -0.1361,  0.5785,  0.4266],\n",
            "         [-0.0032, -0.3791,  0.4850,  ..., -0.1077,  0.7315,  1.1145],\n",
            "         [-0.4654,  0.5376,  0.2288,  ...,  0.2875,  1.2388, -0.0039],\n",
            "         ...,\n",
            "         [-0.3174,  0.5986, -0.0503,  ..., -0.3781, -0.2272, -0.4570],\n",
            "         [-0.0610,  0.1050,  0.4314,  ..., -0.0607, -0.5927, -0.0282],\n",
            "         [ 0.1452,  0.8361,  0.1911,  ...,  0.3367, -0.0750, -0.1748]]],\n",
            "       grad_fn=<UnsafeViewBackward0>)\n"
          ]
        },
        {
          "output_type": "display_data",
          "data": {
            "text/plain": [
              "<Figure size 640x480 with 1 Axes>"
            ],
            "image/png": "[encoded data removed]"
          },
          "metadata": {}
        },
        {
          "output_type": "display_data",
          "data": {
            "text/plain": [
              "<Figure size 640x480 with 1 Axes>"
            ],
            "image/png": "[encoded data removed]"
          },
          "metadata": {}
        }
      ],
      "source": [
        "inputs = [tokenized_datasets[\"train\"][2]]\n",
        "inputs = data_collator(inputs)\n",
        "assert list(inputs.keys()) == [\"input_ids\", \"attention_mask\", \"labels\"], list(inputs.keys())\n",
        "print(\"input_ids:\", inputs[\"input_ids\"])\n",
        "print(\"\")\n",
        "\n",
        "outputs = model(**inputs)\n",
        "assert list(outputs.keys()) == [\"loss\", \"logits\", \"past_key_values\"], list(outputs.keys())\n",
        "print(\"logits:\", outputs[\"logits\"])\n",
        "\n",
        "plt.plot(outputs[\"logits\"].detach().numpy()[0][0])\n",
        "plt.title(\"Logits\")\n",
        "plt.show()\n",
        "plt.close()\n",
        "\n",
        "activations = torch.nn.functional.softmax(outputs[\"logits\"], dim=-1)\n",
        "plt.plot(activations.detach().numpy()[0][0])\n",
        "plt.title(\"Activations\")\n",
        "plt.show()\n",
        "plt.close()"
      ]
    },
    {
      "cell_type": "markdown",
      "metadata": {
        "id": "hBysGfUcJpAO"
      },
      "source": [
        "---\n",
        "\n",
        "## Run the training.\n"
      ]
    },
    {
      "cell_type": "code",
      "execution_count": 16,
      "metadata": {
        "id": "jIT_jnzIJcr7",
        "colab": {
          "base_uri": "https://localhost:8080/",
          "height": 565
        },
        "outputId": "22ea2e62-776d-4519-db15-52bdfcf03a13"
      },
      "outputs": [
        {
          "metadata": {
            "tags": null
          },
          "name": "stdout",
          "output_type": "stream",
          "text": [
            "Creating trainer...\n"
          ]
        },
        {
          "metadata": {
            "tags": null
          },
          "name": "stderr",
          "output_type": "stream",
          "text": [
            "\u001b[34m\u001b[1mwandb\u001b[0m: \u001b[33mWARNING\u001b[0m The `run_name` is currently set to the same value as `TrainingArguments.output_dir`. If this was not intended, please specify a different run name by setting the `TrainingArguments.run_name` parameter.\n",
            "\u001b[34m\u001b[1mwandb\u001b[0m: Currently logged in as: \u001b[33mshahabdaiani\u001b[0m (\u001b[33mshahabdaiani-dsr\u001b[0m) to \u001b[32mhttps://api.wandb.ai\u001b[0m. Use \u001b[1m`wandb login --relogin`\u001b[0m to force relogin\n",
            "\u001b[34m\u001b[1mwandb\u001b[0m: Using wandb-core as the SDK backend.  Please refer to https://wandb.me/wandb-core for more information.\n"
          ]
        },
        {
          "data": {
            "text/html": [
              "Tracking run with wandb version 0.19.6"
            ],
            "text/plain": [
              "<IPython.core.display.HTML object>"
            ]
          },
          "metadata": {},
          "output_type": "display_data"
        },
        {
          "data": {
            "text/html": [
              "Run data is saved locally in <code>/content/wandb/run-20250215_143054-y2sdjzp2</code>"
            ],
            "text/plain": [
              "<IPython.core.display.HTML object>"
            ]
          },
          "metadata": {},
          "output_type": "display_data"
        },
        {
          "data": {
            "text/html": [
              "Syncing run <strong><a href='https://wandb.ai/shahabdaiani-dsr/huggingface/runs/y2sdjzp2' target=\"_blank\">output</a></strong> to <a href='https://wandb.ai/shahabdaiani-dsr/huggingface' target=\"_blank\">Weights & Biases</a> (<a href='https://wandb.me/developer-guide' target=\"_blank\">docs</a>)<br>"
            ],
            "text/plain": [
              "<IPython.core.display.HTML object>"
            ]
          },
          "metadata": {},
          "output_type": "display_data"
        },
        {
          "data": {
            "text/html": [
              " View project at <a href='https://wandb.ai/shahabdaiani-dsr/huggingface' target=\"_blank\">https://wandb.ai/shahabdaiani-dsr/huggingface</a>"
            ],
            "text/plain": [
              "<IPython.core.display.HTML object>"
            ]
          },
          "metadata": {},
          "output_type": "display_data"
        },
        {
          "data": {
            "text/html": [
              " View run at <a href='https://wandb.ai/shahabdaiani-dsr/huggingface/runs/y2sdjzp2' target=\"_blank\">https://wandb.ai/shahabdaiani-dsr/huggingface/runs/y2sdjzp2</a>"
            ],
            "text/plain": [
              "<IPython.core.display.HTML object>"
            ]
          },
          "metadata": {},
          "output_type": "display_data"
        },
        {
          "data": {
            "text/html": [
              "\n",
              "    <div>\n",
              "      \n",
              "      <progress value='5200' max='5200' style='width:300px; height:20px; vertical-align: middle;'></progress>\n",
              "      [5200/5200 32:09, Epoch 10/10]\n",
              "    </div>\n",
              "    <table border=\"1\" class=\"dataframe\">\n",
              "  <thead>\n",
              " <tr style=\"text-align: left;\">\n",
              "      <th>Step</th>\n",
              "      <th>Training Loss</th>\n",
              "    </tr>\n",
              "  </thead>\n",
              "  <tbody>\n",
              "    <tr>\n",
              "      <td>500</td>\n",
              "      <td>4.891000</td>\n",
              "    </tr>\n",
              "    <tr>\n",
              "      <td>1000</td>\n",
              "      <td>4.182600</td>\n",
              "    </tr>\n",
              "    <tr>\n",
              "      <td>1500</td>\n",
              "      <td>3.985900</td>\n",
              "    </tr>\n",
              "    <tr>\n",
              "      <td>2000</td>\n",
              "      <td>3.853600</td>\n",
              "    </tr>\n",
              "    <tr>\n",
              "      <td>2500</td>\n",
              "      <td>3.768400</td>\n",
              "    </tr>\n",
              "    <tr>\n",
              "      <td>3000</td>\n",
              "      <td>3.697500</td>\n",
              "    </tr>\n",
              "    <tr>\n",
              "      <td>3500</td>\n",
              "      <td>3.633000</td>\n",
              "    </tr>\n",
              "    <tr>\n",
              "      <td>4000</td>\n",
              "      <td>3.593000</td>\n",
              "    </tr>\n",
              "    <tr>\n",
              "      <td>4500</td>\n",
              "      <td>3.556500</td>\n",
              "    </tr>\n",
              "    <tr>\n",
              "      <td>5000</td>\n",
              "      <td>3.528300</td>\n",
              "    </tr>\n",
              "  </tbody>\n",
              "</table><p>"
            ],
            "text/plain": [
              "<IPython.core.display.HTML object>"
            ]
          },
          "metadata": {},
          "output_type": "display_data"
        }
      ],
      "source": [
        "# Get the output directory with timestamp.\n",
        "output_path = \"output\"\n",
        "\n",
        "# Create the trainer.\n",
        "print(\"Creating trainer...\")\n",
        "training_args = TrainingArguments(\n",
        "    output_dir=output_path,\n",
        "    overwrite_output_dir=True,\n",
        "    num_train_epochs=10,\n",
        "    per_device_train_batch_size=128,\n",
        "    prediction_loss_only=False,\n",
        ")\n",
        "trainer = Trainer(\n",
        "    model=model,\n",
        "    args=training_args,\n",
        "    data_collator=data_collator,\n",
        "    train_dataset=tokenized_datasets[\"train\"],\n",
        ")\n",
        "\n",
        "# Train the model.\n",
        "trainer.train()\n",
        "\n",
        "# Save the tokenizer.\n",
        "tokenizer.save_pretrained(output_path)\n",
        "\n",
        "# Save the model.\n",
        "model.save_pretrained(output_path)"
      ]
    },
    {
      "cell_type": "code",
      "execution_count": 17,
      "metadata": {
        "id": "qRTewg3jaX37",
        "colab": {
          "base_uri": "https://localhost:8080/",
          "height": 1000
        },
        "outputId": "21a75fcf-d7ff-4107-b1d0-0fbad99616f7"
      },
      "outputs": [
        {
          "output_type": "stream",
          "name": "stdout",
          "text": [
            "input_ids: tensor([[ 60, 249,  27, 634, 646,  13, 138,  13, 136,  13, 148,  13, 104, 139,\n",
            "         178, 252, 230,   1,   1,   1,   1,   1,   1,   1,   1,   1,   1,   1,\n",
            "           1,   1,   1,   1,   1,   1,   1,   1,   1,   1,   1,   1,   1,   1,\n",
            "           1,   1,   1,   1,   1,   1,   1,   1,   1,   1,   1,   1,   1,   1,\n",
            "           1,   1,   1,   1,   1,   1,   1,   1,   1,   1,   1,   1,   1,   1,\n",
            "           1,   1,   1,   1,   1,   1,   1,   1,   1,   1,   1,   1,   1,   1,\n",
            "           1,   1,   1,   1,   1,   1,   1,   1,   1,   1,   1,   1,   1,   1,\n",
            "           1,   1,   1,   1,   1,   1,   1,   1,   1,   1,   1,   1,   1,   1,\n",
            "           1,   1,   1,   1,   1,   1,   1,   1,   1,   1,   1,   1,   1,   1,\n",
            "           1,   1,   1,   1,   1,   1,   1,   1,   1,   1,   1,   1,   1,   1,\n",
            "           1,   1,   1,   1,   1,   1,   1,   1,   1,   1,   1,   1,   1,   1,\n",
            "           1,   1,   1,   1,   1,   1,   1,   1,   1,   1,   1,   1,   1,   1,\n",
            "           1,   1,   1,   1,   1,   1,   1,   1,   1,   1,   1,   1,   1,   1,\n",
            "           1,   1,   1,   1,   1,   1,   1,   1,   1,   1,   1,   1,   1,   1,\n",
            "           1,   1,   1,   1,   1,   1,   1,   1,   1,   1,   1,   1,   1,   1,\n",
            "           1,   1,   1,   1,   1,   1]])\n",
            "\n",
            "logits: tensor([[[-2.4902, -3.4291,  0.6039,  ..., -2.3460, -0.6212, -0.3425],\n",
            "         [-6.0897, -5.2294,  2.8184,  ..., -2.9922, -3.3906, -3.1157],\n",
            "         [-2.8873, -3.6762,  0.2128,  ..., -2.2344, -0.3362, -0.7919],\n",
            "         ...,\n",
            "         [-3.9776, -4.0767,  7.6673,  ..., -0.9356, -1.7861, -1.3345],\n",
            "         [-4.2484, -3.7838,  7.1266,  ..., -0.3329, -1.2451, -1.0191],\n",
            "         [-5.5386, -4.9743,  7.2614,  ..., -1.7400, -1.8569, -1.5644]]],\n",
            "       device='cuda:0', grad_fn=<UnsafeViewBackward0>)\n"
          ]
        },
        {
          "output_type": "display_data",
          "data": {
            "text/plain": [
              "<Figure size 640x480 with 1 Axes>"
            ],
            "image/png": "[encoded data removed]"
          },
          "metadata": {}
        },
        {
          "output_type": "display_data",
          "data": {
            "text/plain": [
              "<Figure size 640x480 with 1 Axes>"
            ],
            "image/png": "[encoded data removed]"
          },
          "metadata": {}
        }
      ],
      "source": [
        "inputs = [tokenized_datasets[\"train\"][2]]\n",
        "inputs = data_collator(inputs)\n",
        "assert list(inputs.keys()) == [\"input_ids\", \"attention_mask\", \"labels\"], list(inputs.keys())\n",
        "print(\"input_ids:\", inputs[\"input_ids\"])\n",
        "print(\"\")\n",
        "\n",
        "outputs = model(**inputs.to(\"cuda:0\"))\n",
        "assert list(outputs.keys()) == [\"loss\", \"logits\", \"past_key_values\"], list(outputs.keys())\n",
        "print(\"logits:\", outputs[\"logits\"])\n",
        "\n",
        "plt.plot(outputs[\"logits\"].cpu().detach().numpy()[0][0])\n",
        "plt.title(\"Logits\")\n",
        "plt.show()\n",
        "plt.close()\n",
        "\n",
        "activations = torch.nn.functional.softmax(outputs[\"logits\"], dim=-1)\n",
        "plt.plot(activations.cpu().detach().numpy()[0][0])\n",
        "plt.title(\"Activations\")\n",
        "plt.show()\n",
        "plt.close()"
      ]
    },
    {
      "cell_type": "markdown",
      "metadata": {
        "id": "BAf31d_WKw8L"
      },
      "source": [
        "## How to generate."
      ]
    },
    {
      "cell_type": "code",
      "execution_count": 19,
      "metadata": {
        "id": "xAUsQ202Jr2i",
        "colab": {
          "base_uri": "https://localhost:8080/"
        },
        "outputId": "cb930980-2c4d-4c35-80a4-bb4898952385"
      },
      "outputs": [
        {
          "output_type": "stream",
          "name": "stdout",
          "text": [
            "tensor([[3731, 2310,   68,   22,   15,  129,  109,  754,   98,  100,  784]],\n",
            "       device='cuda:0')\n",
            "Ep iso d 5. Ross is sitting on the couch. ( He walks in to the bathroom.) Hey, you know, there's no one to your wife. ( He sits down.) Okay, you're really good, you're gonna be fine. ( To Chandler ) You're not having to take them. You're not the woman who're going to do you're gonna be in the morning. You're thinking, you're a lot of my\n"
          ]
        }
      ],
      "source": [
        "# Encode the conditioning tokens.\n",
        "input_ids = tokenizer.encode(\"Episod 5 . Ross is sitting on the couch\", return_tensors=\"pt\").cuda()\n",
        "print(input_ids)\n",
        "\n",
        "# Generate more tokens.\n",
        "generated_ids = model.generate(\n",
        "    input_ids,\n",
        "    max_length=100,\n",
        "    do_sample=True,\n",
        "    temperature=0.5\n",
        ")\n",
        "generated_sequence = tokenizer.decode(generated_ids[0], clean_up_tokenization_spaces=True)\n",
        "print(generated_sequence)"
      ]
    },
    {
      "cell_type": "markdown",
      "metadata": {
        "id": "WTFXN67wLN2u"
      },
      "source": [
        "#Thank you!"
      ]
    }
  ],
  "metadata": {
    "accelerator": "GPU",
    "colab": {
      "gpuType": "A100",
      "provenance": [],
      "gpuClass": "premium",
      "include_colab_link": true
    },
    "kernelspec": {
      "display_name": "Python 3",
      "name": "python3"
    },
    "language_info": {
      "name": "python"
    },
    "widgets": {
      "application/vnd.jupyter.widget-state+json": {
        "c080f0559666411e995a2ae996e3d886": {
          "model_module": "@jupyter-widgets/controls",
          "model_name": "HBoxModel",
          "model_module_version": "1.5.0",
          "state": {
            "_dom_classes": [],
            "_model_module": "@jupyter-widgets/controls",
            "_model_module_version": "1.5.0",
            "_model_name": "HBoxModel",
            "_view_count": null,
            "_view_module": "@jupyter-widgets/controls",
            "_view_module_version": "1.5.0",
            "_view_name": "HBoxView",
            "box_style": "",
            "children": [
              "IPY_MODEL_9961fba313414f1c93e47bf475dce1a5",
              "IPY_MODEL_5d0a7f40cf56461e8de3b67c5180ed19",
              "IPY_MODEL_d462eae96de3466890ec4f36444e4ab6"
            ],
            "layout": "IPY_MODEL_beb4c84c4dde415582e0f65252ec8d73"
          }
        },
        "9961fba313414f1c93e47bf475dce1a5": {
          "model_module": "@jupyter-widgets/controls",
          "model_name": "HTMLModel",
          "model_module_version": "1.5.0",
          "state": {
            "_dom_classes": [],
            "_model_module": "@jupyter-widgets/controls",
            "_model_module_version": "1.5.0",
            "_model_name": "HTMLModel",
            "_view_count": null,
            "_view_module": "@jupyter-widgets/controls",
            "_view_module_version": "1.5.0",
            "_view_name": "HTMLView",
            "description": "",
            "description_tooltip": null,
            "layout": "IPY_MODEL_cd907bf687134a40b1a2c5ae197a88dc",
            "placeholder": "​",
            "style": "IPY_MODEL_6b76f8c997294777bce89bccd43918a6",
            "value": "Generating train split: "
          }
        },
        "5d0a7f40cf56461e8de3b67c5180ed19": {
          "model_module": "@jupyter-widgets/controls",
          "model_name": "FloatProgressModel",
          "model_module_version": "1.5.0",
          "state": {
            "_dom_classes": [],
            "_model_module": "@jupyter-widgets/controls",
            "_model_module_version": "1.5.0",
            "_model_name": "FloatProgressModel",
            "_view_count": null,
            "_view_module": "@jupyter-widgets/controls",
            "_view_module_version": "1.5.0",
            "_view_name": "ProgressView",
            "bar_style": "success",
            "description": "",
            "description_tooltip": null,
            "layout": "IPY_MODEL_98dbf784b5324e309f244c765e32f4bd",
            "max": 1,
            "min": 0,
            "orientation": "horizontal",
            "style": "IPY_MODEL_ba3c8cc75fc84e289041f0f524b5d5c7",
            "value": 1
          }
        },
        "d462eae96de3466890ec4f36444e4ab6": {
          "model_module": "@jupyter-widgets/controls",
          "model_name": "HTMLModel",
          "model_module_version": "1.5.0",
          "state": {
            "_dom_classes": [],
            "_model_module": "@jupyter-widgets/controls",
            "_model_module_version": "1.5.0",
            "_model_name": "HTMLModel",
            "_view_count": null,
            "_view_module": "@jupyter-widgets/controls",
            "_view_module_version": "1.5.0",
            "_view_name": "HTMLView",
            "description": "",
            "description_tooltip": null,
            "layout": "IPY_MODEL_aa342437972547f39422ec5821aaa786",
            "placeholder": "​",
            "style": "IPY_MODEL_3d72744e23e14336b39dcbe2fbaf6298",
            "value": " 66540/0 [00:00&lt;00:00, 750037.59 examples/s]"
          }
        },
        "beb4c84c4dde415582e0f65252ec8d73": {
          "model_module": "@jupyter-widgets/base",
          "model_name": "LayoutModel",
          "model_module_version": "1.2.0",
          "state": {
            "_model_module": "@jupyter-widgets/base",
            "_model_module_version": "1.2.0",
            "_model_name": "LayoutModel",
            "_view_count": null,
            "_view_module": "@jupyter-widgets/base",
            "_view_module_version": "1.2.0",
            "_view_name": "LayoutView",
            "align_content": null,
            "align_items": null,
            "align_self": null,
            "border": null,
            "bottom": null,
            "display": null,
            "flex": null,
            "flex_flow": null,
            "grid_area": null,
            "grid_auto_columns": null,
            "grid_auto_flow": null,
            "grid_auto_rows": null,
            "grid_column": null,
            "grid_gap": null,
            "grid_row": null,
            "grid_template_areas": null,
            "grid_template_columns": null,
            "grid_template_rows": null,
            "height": null,
            "justify_content": null,
            "justify_items": null,
            "left": null,
            "margin": null,
            "max_height": null,
            "max_width": null,
            "min_height": null,
            "min_width": null,
            "object_fit": null,
            "object_position": null,
            "order": null,
            "overflow": null,
            "overflow_x": null,
            "overflow_y": null,
            "padding": null,
            "right": null,
            "top": null,
            "visibility": null,
            "width": null
          }
        },
        "cd907bf687134a40b1a2c5ae197a88dc": {
          "model_module": "@jupyter-widgets/base",
          "model_name": "LayoutModel",
          "model_module_version": "1.2.0",
          "state": {
            "_model_module": "@jupyter-widgets/base",
            "_model_module_version": "1.2.0",
            "_model_name": "LayoutModel",
            "_view_count": null,
            "_view_module": "@jupyter-widgets/base",
            "_view_module_version": "1.2.0",
            "_view_name": "LayoutView",
            "align_content": null,
            "align_items": null,
            "align_self": null,
            "border": null,
            "bottom": null,
            "display": null,
            "flex": null,
            "flex_flow": null,
            "grid_area": null,
            "grid_auto_columns": null,
            "grid_auto_flow": null,
            "grid_auto_rows": null,
            "grid_column": null,
            "grid_gap": null,
            "grid_row": null,
            "grid_template_areas": null,
            "grid_template_columns": null,
            "grid_template_rows": null,
            "height": null,
            "justify_content": null,
            "justify_items": null,
            "left": null,
            "margin": null,
            "max_height": null,
            "max_width": null,
            "min_height": null,
            "min_width": null,
            "object_fit": null,
            "object_position": null,
            "order": null,
            "overflow": null,
            "overflow_x": null,
            "overflow_y": null,
            "padding": null,
            "right": null,
            "top": null,
            "visibility": null,
            "width": null
          }
        },
        "6b76f8c997294777bce89bccd43918a6": {
          "model_module": "@jupyter-widgets/controls",
          "model_name": "DescriptionStyleModel",
          "model_module_version": "1.5.0",
          "state": {
            "_model_module": "@jupyter-widgets/controls",
            "_model_module_version": "1.5.0",
            "_model_name": "DescriptionStyleModel",
            "_view_count": null,
            "_view_module": "@jupyter-widgets/base",
            "_view_module_version": "1.2.0",
            "_view_name": "StyleView",
            "description_width": ""
          }
        },
        "98dbf784b5324e309f244c765e32f4bd": {
          "model_module": "@jupyter-widgets/base",
          "model_name": "LayoutModel",
          "model_module_version": "1.2.0",
          "state": {
            "_model_module": "@jupyter-widgets/base",
            "_model_module_version": "1.2.0",
            "_model_name": "LayoutModel",
            "_view_count": null,
            "_view_module": "@jupyter-widgets/base",
            "_view_module_version": "1.2.0",
            "_view_name": "LayoutView",
            "align_content": null,
            "align_items": null,
            "align_self": null,
            "border": null,
            "bottom": null,
            "display": null,
            "flex": null,
            "flex_flow": null,
            "grid_area": null,
            "grid_auto_columns": null,
            "grid_auto_flow": null,
            "grid_auto_rows": null,
            "grid_column": null,
            "grid_gap": null,
            "grid_row": null,
            "grid_template_areas": null,
            "grid_template_columns": null,
            "grid_template_rows": null,
            "height": null,
            "justify_content": null,
            "justify_items": null,
            "left": null,
            "margin": null,
            "max_height": null,
            "max_width": null,
            "min_height": null,
            "min_width": null,
            "object_fit": null,
            "object_position": null,
            "order": null,
            "overflow": null,
            "overflow_x": null,
            "overflow_y": null,
            "padding": null,
            "right": null,
            "top": null,
            "visibility": null,
            "width": "20px"
          }
        },
        "ba3c8cc75fc84e289041f0f524b5d5c7": {
          "model_module": "@jupyter-widgets/controls",
          "model_name": "ProgressStyleModel",
          "model_module_version": "1.5.0",
          "state": {
            "_model_module": "@jupyter-widgets/controls",
            "_model_module_version": "1.5.0",
            "_model_name": "ProgressStyleModel",
            "_view_count": null,
            "_view_module": "@jupyter-widgets/base",
            "_view_module_version": "1.2.0",
            "_view_name": "StyleView",
            "bar_color": null,
            "description_width": ""
          }
        },
        "aa342437972547f39422ec5821aaa786": {
          "model_module": "@jupyter-widgets/base",
          "model_name": "LayoutModel",
          "model_module_version": "1.2.0",
          "state": {
            "_model_module": "@jupyter-widgets/base",
            "_model_module_version": "1.2.0",
            "_model_name": "LayoutModel",
            "_view_count": null,
            "_view_module": "@jupyter-widgets/base",
            "_view_module_version": "1.2.0",
            "_view_name": "LayoutView",
            "align_content": null,
            "align_items": null,
            "align_self": null,
            "border": null,
            "bottom": null,
            "display": null,
            "flex": null,
            "flex_flow": null,
            "grid_area": null,
            "grid_auto_columns": null,
            "grid_auto_flow": null,
            "grid_auto_rows": null,
            "grid_column": null,
            "grid_gap": null,
            "grid_row": null,
            "grid_template_areas": null,
            "grid_template_columns": null,
            "grid_template_rows": null,
            "height": null,
            "justify_content": null,
            "justify_items": null,
            "left": null,
            "margin": null,
            "max_height": null,
            "max_width": null,
            "min_height": null,
            "min_width": null,
            "object_fit": null,
            "object_position": null,
            "order": null,
            "overflow": null,
            "overflow_x": null,
            "overflow_y": null,
            "padding": null,
            "right": null,
            "top": null,
            "visibility": null,
            "width": null
          }
        },
        "3d72744e23e14336b39dcbe2fbaf6298": {
          "model_module": "@jupyter-widgets/controls",
          "model_name": "DescriptionStyleModel",
          "model_module_version": "1.5.0",
          "state": {
            "_model_module": "@jupyter-widgets/controls",
            "_model_module_version": "1.5.0",
            "_model_name": "DescriptionStyleModel",
            "_view_count": null,
            "_view_module": "@jupyter-widgets/base",
            "_view_module_version": "1.2.0",
            "_view_name": "StyleView",
            "description_width": ""
          }
        },
        "faf146e9fa5c4a0195f9048b847df04e": {
          "model_module": "@jupyter-widgets/controls",
          "model_name": "HBoxModel",
          "model_module_version": "1.5.0",
          "state": {
            "_dom_classes": [],
            "_model_module": "@jupyter-widgets/controls",
            "_model_module_version": "1.5.0",
            "_model_name": "HBoxModel",
            "_view_count": null,
            "_view_module": "@jupyter-widgets/controls",
            "_view_module_version": "1.5.0",
            "_view_name": "HBoxView",
            "box_style": "",
            "children": [
              "IPY_MODEL_076dc9731da940e5b71f3c65dec43eed",
              "IPY_MODEL_171c2bb43c2e480b8756c3aa0d2c9446",
              "IPY_MODEL_a31d64419ceb4ceaa7ee4464b39cb70a"
            ],
            "layout": "IPY_MODEL_0c41b01bfaa8494da3264b0e339e69e3"
          }
        },
        "076dc9731da940e5b71f3c65dec43eed": {
          "model_module": "@jupyter-widgets/controls",
          "model_name": "HTMLModel",
          "model_module_version": "1.5.0",
          "state": {
            "_dom_classes": [],
            "_model_module": "@jupyter-widgets/controls",
            "_model_module_version": "1.5.0",
            "_model_name": "HTMLModel",
            "_view_count": null,
            "_view_module": "@jupyter-widgets/controls",
            "_view_module_version": "1.5.0",
            "_view_name": "HTMLView",
            "description": "",
            "description_tooltip": null,
            "layout": "IPY_MODEL_f2e70c8794aa4b43b4b724148e77641c",
            "placeholder": "​",
            "style": "IPY_MODEL_2632b1671c274b0989f3d11dc9cc3a12",
            "value": "Map: 100%"
          }
        },
        "171c2bb43c2e480b8756c3aa0d2c9446": {
          "model_module": "@jupyter-widgets/controls",
          "model_name": "FloatProgressModel",
          "model_module_version": "1.5.0",
          "state": {
            "_dom_classes": [],
            "_model_module": "@jupyter-widgets/controls",
            "_model_module_version": "1.5.0",
            "_model_name": "FloatProgressModel",
            "_view_count": null,
            "_view_module": "@jupyter-widgets/controls",
            "_view_module_version": "1.5.0",
            "_view_name": "ProgressView",
            "bar_style": "success",
            "description": "",
            "description_tooltip": null,
            "layout": "IPY_MODEL_c66d41def2e841adb05958f2b013b5fd",
            "max": 66540,
            "min": 0,
            "orientation": "horizontal",
            "style": "IPY_MODEL_0baad79440664587afe3c9e722c82373",
            "value": 66540
          }
        },
        "a31d64419ceb4ceaa7ee4464b39cb70a": {
          "model_module": "@jupyter-widgets/controls",
          "model_name": "HTMLModel",
          "model_module_version": "1.5.0",
          "state": {
            "_dom_classes": [],
            "_model_module": "@jupyter-widgets/controls",
            "_model_module_version": "1.5.0",
            "_model_name": "HTMLModel",
            "_view_count": null,
            "_view_module": "@jupyter-widgets/controls",
            "_view_module_version": "1.5.0",
            "_view_name": "HTMLView",
            "description": "",
            "description_tooltip": null,
            "layout": "IPY_MODEL_22ead824e5734f35abf1597887cd8785",
            "placeholder": "​",
            "style": "IPY_MODEL_7ca1c115f67241a49174f6ef7abd07bf",
            "value": " 66540/66540 [00:04&lt;00:00, 17611.95 examples/s]"
          }
        },
        "0c41b01bfaa8494da3264b0e339e69e3": {
          "model_module": "@jupyter-widgets/base",
          "model_name": "LayoutModel",
          "model_module_version": "1.2.0",
          "state": {
            "_model_module": "@jupyter-widgets/base",
            "_model_module_version": "1.2.0",
            "_model_name": "LayoutModel",
            "_view_count": null,
            "_view_module": "@jupyter-widgets/base",
            "_view_module_version": "1.2.0",
            "_view_name": "LayoutView",
            "align_content": null,
            "align_items": null,
            "align_self": null,
            "border": null,
            "bottom": null,
            "display": null,
            "flex": null,
            "flex_flow": null,
            "grid_area": null,
            "grid_auto_columns": null,
            "grid_auto_flow": null,
            "grid_auto_rows": null,
            "grid_column": null,
            "grid_gap": null,
            "grid_row": null,
            "grid_template_areas": null,
            "grid_template_columns": null,
            "grid_template_rows": null,
            "height": null,
            "justify_content": null,
            "justify_items": null,
            "left": null,
            "margin": null,
            "max_height": null,
            "max_width": null,
            "min_height": null,
            "min_width": null,
            "object_fit": null,
            "object_position": null,
            "order": null,
            "overflow": null,
            "overflow_x": null,
            "overflow_y": null,
            "padding": null,
            "right": null,
            "top": null,
            "visibility": null,
            "width": null
          }
        },
        "f2e70c8794aa4b43b4b724148e77641c": {
          "model_module": "@jupyter-widgets/base",
          "model_name": "LayoutModel",
          "model_module_version": "1.2.0",
          "state": {
            "_model_module": "@jupyter-widgets/base",
            "_model_module_version": "1.2.0",
            "_model_name": "LayoutModel",
            "_view_count": null,
            "_view_module": "@jupyter-widgets/base",
            "_view_module_version": "1.2.0",
            "_view_name": "LayoutView",
            "align_content": null,
            "align_items": null,
            "align_self": null,
            "border": null,
            "bottom": null,
            "display": null,
            "flex": null,
            "flex_flow": null,
            "grid_area": null,
            "grid_auto_columns": null,
            "grid_auto_flow": null,
            "grid_auto_rows": null,
            "grid_column": null,
            "grid_gap": null,
            "grid_row": null,
            "grid_template_areas": null,
            "grid_template_columns": null,
            "grid_template_rows": null,
            "height": null,
            "justify_content": null,
            "justify_items": null,
            "left": null,
            "margin": null,
            "max_height": null,
            "max_width": null,
            "min_height": null,
            "min_width": null,
            "object_fit": null,
            "object_position": null,
            "order": null,
            "overflow": null,
            "overflow_x": null,
            "overflow_y": null,
            "padding": null,
            "right": null,
            "top": null,
            "visibility": null,
            "width": null
          }
        },
        "2632b1671c274b0989f3d11dc9cc3a12": {
          "model_module": "@jupyter-widgets/controls",
          "model_name": "DescriptionStyleModel",
          "model_module_version": "1.5.0",
          "state": {
            "_model_module": "@jupyter-widgets/controls",
            "_model_module_version": "1.5.0",
            "_model_name": "DescriptionStyleModel",
            "_view_count": null,
            "_view_module": "@jupyter-widgets/base",
            "_view_module_version": "1.2.0",
            "_view_name": "StyleView",
            "description_width": ""
          }
        },
        "c66d41def2e841adb05958f2b013b5fd": {
          "model_module": "@jupyter-widgets/base",
          "model_name": "LayoutModel",
          "model_module_version": "1.2.0",
          "state": {
            "_model_module": "@jupyter-widgets/base",
            "_model_module_version": "1.2.0",
            "_model_name": "LayoutModel",
            "_view_count": null,
            "_view_module": "@jupyter-widgets/base",
            "_view_module_version": "1.2.0",
            "_view_name": "LayoutView",
            "align_content": null,
            "align_items": null,
            "align_self": null,
            "border": null,
            "bottom": null,
            "display": null,
            "flex": null,
            "flex_flow": null,
            "grid_area": null,
            "grid_auto_columns": null,
            "grid_auto_flow": null,
            "grid_auto_rows": null,
            "grid_column": null,
            "grid_gap": null,
            "grid_row": null,
            "grid_template_areas": null,
            "grid_template_columns": null,
            "grid_template_rows": null,
            "height": null,
            "justify_content": null,
            "justify_items": null,
            "left": null,
            "margin": null,
            "max_height": null,
            "max_width": null,
            "min_height": null,
            "min_width": null,
            "object_fit": null,
            "object_position": null,
            "order": null,
            "overflow": null,
            "overflow_x": null,
            "overflow_y": null,
            "padding": null,
            "right": null,
            "top": null,
            "visibility": null,
            "width": null
          }
        },
        "0baad79440664587afe3c9e722c82373": {
          "model_module": "@jupyter-widgets/controls",
          "model_name": "ProgressStyleModel",
          "model_module_version": "1.5.0",
          "state": {
            "_model_module": "@jupyter-widgets/controls",
            "_model_module_version": "1.5.0",
            "_model_name": "ProgressStyleModel",
            "_view_count": null,
            "_view_module": "@jupyter-widgets/base",
            "_view_module_version": "1.2.0",
            "_view_name": "StyleView",
            "bar_color": null,
            "description_width": ""
          }
        },
        "22ead824e5734f35abf1597887cd8785": {
          "model_module": "@jupyter-widgets/base",
          "model_name": "LayoutModel",
          "model_module_version": "1.2.0",
          "state": {
            "_model_module": "@jupyter-widgets/base",
            "_model_module_version": "1.2.0",
            "_model_name": "LayoutModel",
            "_view_count": null,
            "_view_module": "@jupyter-widgets/base",
            "_view_module_version": "1.2.0",
            "_view_name": "LayoutView",
            "align_content": null,
            "align_items": null,
            "align_self": null,
            "border": null,
            "bottom": null,
            "display": null,
            "flex": null,
            "flex_flow": null,
            "grid_area": null,
            "grid_auto_columns": null,
            "grid_auto_flow": null,
            "grid_auto_rows": null,
            "grid_column": null,
            "grid_gap": null,
            "grid_row": null,
            "grid_template_areas": null,
            "grid_template_columns": null,
            "grid_template_rows": null,
            "height": null,
            "justify_content": null,
            "justify_items": null,
            "left": null,
            "margin": null,
            "max_height": null,
            "max_width": null,
            "min_height": null,
            "min_width": null,
            "object_fit": null,
            "object_position": null,
            "order": null,
            "overflow": null,
            "overflow_x": null,
            "overflow_y": null,
            "padding": null,
            "right": null,
            "top": null,
            "visibility": null,
            "width": null
          }
        },
        "7ca1c115f67241a49174f6ef7abd07bf": {
          "model_module": "@jupyter-widgets/controls",
          "model_name": "DescriptionStyleModel",
          "model_module_version": "1.5.0",
          "state": {
            "_model_module": "@jupyter-widgets/controls",
            "_model_module_version": "1.5.0",
            "_model_name": "DescriptionStyleModel",
            "_view_count": null,
            "_view_module": "@jupyter-widgets/base",
            "_view_module_version": "1.2.0",
            "_view_name": "StyleView",
            "description_width": ""
          }
        }
      }
    }
  },
  "nbformat": 4,
  "nbformat_minor": 0
}